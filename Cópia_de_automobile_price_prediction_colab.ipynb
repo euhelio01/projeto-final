{
  "cells": [
    {
      "cell_type": "markdown",
      "metadata": {
        "id": "view-in-github",
        "colab_type": "text"
      },
      "source": [
        "<a href=\"https://colab.research.google.com/github/euhelio01/projeto-final/blob/master/C%C3%B3pia_de_automobile_price_prediction_colab.ipynb\" target=\"_parent\"><img src=\"https://colab.research.google.com/assets/colab-badge.svg\" alt=\"Open In Colab\"/></a>"
      ]
    },
    {
      "cell_type": "markdown",
      "source": [
        "# FIAP BUSINESS PROCESS DIGITAL AUTOMATION & EMERGING TECHNOLOGIES\n",
        "\n",
        "![](https://github.com/michelpf/fiap-bpm-python-dados-ia-estimativa-precos-automoveis/blob/master/projeto-final/imagens/bpm.jpg)\n",
        "\n",
        "## Python para IA & Dados\n",
        "## Estimando Preços de Automóveis Utilizando Modelos de Regressão\n",
        "\n",
        "Este projeto final tem como objetivo explorar os conhecimentos adquiridos nas aulas práticas. Por meio uma trilha guiada para construir um classificador que permitirá predizer o valor de um automóvel baseado em algumas características que cada grupo deverá escolher.\n",
        "\n",
        "> 👋 O projeto poderá ser feita por grupos de até 4 pessoas.\n",
        "\n",
        "| Nome dos Integrantes     | RM            | Turma |\n",
        "| :----------------------- | :------------- | :-----: |\n",
        "| Integrante 1             | RM 12345      | `#BPM` |\n",
        "| Integrante 2             | RM 12345      | `#BPM` |\n",
        "| Integrante 3             | RM 12345      | `#BPM` |\n",
        "| Integrante 4             | RM 12345      | `#BPM` |\n",
        "\n",
        "Por ser um projeto guiado, fique atento quando houver as marcações **Implementação** indica que é necessário realizar alguma implementação em Python no bloco a seguir onde há a inscrição ```##IMPLEMENTAR``` e **Resposta** indica que é esperado uma resposta objetiva relacionado a algum questionamento. \n",
        "\n",
        "> 👉 Cada grupo pode utilizar nas respostas objetivas quaisquer itens necessários que enriqueçam seu ponto vista, como gráficos, fotos e, até mesmo, trechos de código-fonte.\n",
        "\n",
        "Pode-se utilizar quantos blocos forem necessários para realizar determinadas implementações ou utilizá-las para justificar as respostas. Não é obrigatório utilizar somente o bloco indicado.\n",
        "\n",
        "Ao final não se esqueça de subir os arquivos do projeto nas contas do GitHub de cada membro, ou subir na do representante do grupo e os membros realizarem o fork do projeto.\n",
        "\n",
        "A avaliação terá mais ênfase nos seguintes tópicos de desenvolvimento do projeto:\n",
        " \n",
        "1. __Exploração de Dados__\n",
        "2. __Preparação de Dados__\n",
        "3. __Desenvolvimento do Modelo__\n",
        "4. __Treinamento e Teste do Modelo__\n",
        "5. __Validação e Otimização do Modelo__\n",
        "6. __Conclusões Finais__"
      ],
      "metadata": {
        "id": "KVLjBqwe2cwe"
      }
    },
    {
      "cell_type": "markdown",
      "source": [
        "## Baixando dados do repositório\n",
        "\n",
        "Para analisar os dados do dataset, vamos baixar o arquivo que se encontra neste repositório."
      ],
      "metadata": {
        "id": "U_NXkGQE2cw3"
      }
    },
    {
      "cell_type": "code",
      "execution_count": 1,
      "source": [
        "\n",
        "!git clone https://github.com/michelpf/fiap-bpm-python-dados-ia-estimativa-precos-automoveis"
      ],
      "outputs": [
        {
          "output_type": "stream",
          "name": "stdout",
          "text": [
            "Cloning into 'fiap-bpm-python-dados-ia-estimativa-precos-automoveis'...\n",
            "remote: Enumerating objects: 22, done.\u001b[K\n",
            "remote: Counting objects: 100% (22/22), done.\u001b[K\n",
            "remote: Compressing objects: 100% (15/15), done.\u001b[K\n",
            "remote: Total 22 (delta 6), reused 21 (delta 5), pack-reused 0\u001b[K\n",
            "Unpacking objects: 100% (22/22), done.\n"
          ]
        }
      ],
      "metadata": {
        "id": "lnnyn2TC2cxH",
        "colab": {
          "base_uri": "https://localhost:8080/"
        },
        "outputId": "2d0d8521-0bb5-47f3-8236-3c9b601bad85"
      }
    },
    {
      "cell_type": "markdown",
      "source": [
        "Vamos agora posicionar o diretório do repositório para a aula respectiva. Nesse caso envie o comando de mudança de diretório."
      ],
      "metadata": {
        "id": "r7QBE0O92cxM"
      }
    },
    {
      "cell_type": "code",
      "execution_count": 2,
      "source": [
        "\n",
        "%cd fiap-bpm-python-dados-ia-estimativa-precos-automoveis/projeto-final/"
      ],
      "outputs": [
        {
          "output_type": "stream",
          "name": "stdout",
          "text": [
            "/content/fiap-bpm-python-dados-ia-estimativa-precos-automoveis/projeto-final\n"
          ]
        }
      ],
      "metadata": {
        "id": "UarcF2Xv2cxP",
        "colab": {
          "base_uri": "https://localhost:8080/"
        },
        "outputId": "d16efae5-53c8-4645-a143-76687efe9352"
      }
    },
    {
      "cell_type": "markdown",
      "source": [
        "## Exploração de Dados"
      ],
      "metadata": {
        "id": "RSHdA1F22cxR"
      }
    },
    {
      "cell_type": "markdown",
      "source": [
        "Os dados que serão utilizados foram modificados para propocionar uma experiência que explore melhor as técnicas de processamento e preparação de dados aprendidas.\n",
        "\n",
        "Originalmente os dados foram extraídos do Kaggle deste [dataset](https://www.kaggle.com/nisargpatel/automobiles/data)."
      ],
      "metadata": {
        "id": "tv9Fm1QT2cxY"
      }
    },
    {
      "cell_type": "markdown",
      "source": [
        "**Implementação** \n",
        "\n",
        "Carregue o dataset \"automobile-mod.csv\" que se encontra na pasta \"data\" e faça uma inspeção nas 10 primeiras linhas para identificação básica dos atributos.\n",
        "\n",
        "**O dataset original \"automobile.csv\" se encontra na mesma pasta apenas como referência. Não deverá ser utilizado.**"
      ],
      "metadata": {
        "id": "v6I3LFR72cxp"
      }
    },
    {
      "cell_type": "code",
      "execution_count": 3,
      "source": [
        "import seaborn as sns\n",
        "import matplotlib.pyplot as plt\n",
        "import pandas as pd\n",
        "import numpy as np\n",
        "\n",
        "%matplotlib inline"
      ],
      "outputs": [],
      "metadata": {
        "collapsed": true,
        "id": "L8Cy-AKm2cxv"
      }
    },
    {
      "cell_type": "code",
      "execution_count": 166,
      "source": [
        "autom = pd.read_csv(\"/content/fiap-bpm-python-dados-ia-estimativa-precos-automoveis/projeto-final/data/automobile-mod.csv\", delimiter=\";\")"
      ],
      "outputs": [],
      "metadata": {
        "collapsed": true,
        "id": "aZnobISn2cx-"
      }
    },
    {
      "cell_type": "code",
      "source": [
        "autom.head(10)"
      ],
      "metadata": {
        "id": "nBJwvLvr3u2C",
        "colab": {
          "base_uri": "https://localhost:8080/",
          "height": 479
        },
        "outputId": "7dfca9b7-2246-46b3-b27d-652346d3f5f8"
      },
      "execution_count": 167,
      "outputs": [
        {
          "output_type": "execute_result",
          "data": {
            "text/html": [
              "\n",
              "  <div id=\"df-d497d579-30ed-4377-996d-b884f8cd221d\">\n",
              "    <div class=\"colab-df-container\">\n",
              "      <div>\n",
              "<style scoped>\n",
              "    .dataframe tbody tr th:only-of-type {\n",
              "        vertical-align: middle;\n",
              "    }\n",
              "\n",
              "    .dataframe tbody tr th {\n",
              "        vertical-align: top;\n",
              "    }\n",
              "\n",
              "    .dataframe thead th {\n",
              "        text-align: right;\n",
              "    }\n",
              "</style>\n",
              "<table border=\"1\" class=\"dataframe\">\n",
              "  <thead>\n",
              "    <tr style=\"text-align: right;\">\n",
              "      <th></th>\n",
              "      <th>make</th>\n",
              "      <th>fuel_type</th>\n",
              "      <th>aspiration</th>\n",
              "      <th>number_of_doors</th>\n",
              "      <th>body_style</th>\n",
              "      <th>drive_wheels</th>\n",
              "      <th>engine_location</th>\n",
              "      <th>wheel_base</th>\n",
              "      <th>length</th>\n",
              "      <th>width</th>\n",
              "      <th>height</th>\n",
              "      <th>curb_weight</th>\n",
              "      <th>engine_type</th>\n",
              "      <th>number_of_cylinders</th>\n",
              "      <th>engine_size</th>\n",
              "      <th>fuel_system</th>\n",
              "      <th>bore</th>\n",
              "      <th>stroke</th>\n",
              "      <th>compression_ratio</th>\n",
              "      <th>horsepower</th>\n",
              "      <th>peak_rpm</th>\n",
              "      <th>city_mpg</th>\n",
              "      <th>highway_mpg</th>\n",
              "      <th>price</th>\n",
              "    </tr>\n",
              "  </thead>\n",
              "  <tbody>\n",
              "    <tr>\n",
              "      <th>0</th>\n",
              "      <td>alfa-romero</td>\n",
              "      <td>gas</td>\n",
              "      <td>std</td>\n",
              "      <td>two</td>\n",
              "      <td>convertible</td>\n",
              "      <td>rwd</td>\n",
              "      <td>front</td>\n",
              "      <td>88.6</td>\n",
              "      <td>168.8</td>\n",
              "      <td>64.1</td>\n",
              "      <td>48.8</td>\n",
              "      <td>2548</td>\n",
              "      <td>dohc</td>\n",
              "      <td>four</td>\n",
              "      <td>130</td>\n",
              "      <td>mpfi</td>\n",
              "      <td>3.47</td>\n",
              "      <td>2.68</td>\n",
              "      <td>9.0</td>\n",
              "      <td>111</td>\n",
              "      <td>5000.0</td>\n",
              "      <td>21.0</td>\n",
              "      <td>27.0</td>\n",
              "      <td>13495</td>\n",
              "    </tr>\n",
              "    <tr>\n",
              "      <th>1</th>\n",
              "      <td>alfa-romero</td>\n",
              "      <td>gas</td>\n",
              "      <td>std</td>\n",
              "      <td>two</td>\n",
              "      <td>convertible</td>\n",
              "      <td>rwd</td>\n",
              "      <td>front</td>\n",
              "      <td>88.6</td>\n",
              "      <td>168.8</td>\n",
              "      <td>64.1</td>\n",
              "      <td>48.8</td>\n",
              "      <td>2548</td>\n",
              "      <td>dohc</td>\n",
              "      <td>four</td>\n",
              "      <td>130</td>\n",
              "      <td>mpfi</td>\n",
              "      <td>3.47</td>\n",
              "      <td>2.68</td>\n",
              "      <td>9.0</td>\n",
              "      <td>111</td>\n",
              "      <td>5000.0</td>\n",
              "      <td>21.0</td>\n",
              "      <td>27.0</td>\n",
              "      <td>16500</td>\n",
              "    </tr>\n",
              "    <tr>\n",
              "      <th>2</th>\n",
              "      <td>alfa-romero</td>\n",
              "      <td>gas</td>\n",
              "      <td>std</td>\n",
              "      <td>two</td>\n",
              "      <td>hatchback</td>\n",
              "      <td>rwd</td>\n",
              "      <td>front</td>\n",
              "      <td>94.5</td>\n",
              "      <td>171.2</td>\n",
              "      <td>65.5</td>\n",
              "      <td>52.4</td>\n",
              "      <td>2823</td>\n",
              "      <td>ohcv</td>\n",
              "      <td>six</td>\n",
              "      <td>152</td>\n",
              "      <td>mpfi</td>\n",
              "      <td>2.68</td>\n",
              "      <td>3.47</td>\n",
              "      <td>9.0</td>\n",
              "      <td>154</td>\n",
              "      <td>5000.0</td>\n",
              "      <td>19.0</td>\n",
              "      <td>26.0</td>\n",
              "      <td>16500</td>\n",
              "    </tr>\n",
              "    <tr>\n",
              "      <th>3</th>\n",
              "      <td>audi</td>\n",
              "      <td>gas</td>\n",
              "      <td>std</td>\n",
              "      <td>four</td>\n",
              "      <td>sedan</td>\n",
              "      <td>fwd</td>\n",
              "      <td>front</td>\n",
              "      <td>99.8</td>\n",
              "      <td>176.6</td>\n",
              "      <td>66.2</td>\n",
              "      <td>54.3</td>\n",
              "      <td>2337</td>\n",
              "      <td>ohc</td>\n",
              "      <td>four</td>\n",
              "      <td>109</td>\n",
              "      <td>mpfi</td>\n",
              "      <td>3.19</td>\n",
              "      <td>3.40</td>\n",
              "      <td>10.0</td>\n",
              "      <td>102</td>\n",
              "      <td>5500.0</td>\n",
              "      <td>24.0</td>\n",
              "      <td>30.0</td>\n",
              "      <td>13950</td>\n",
              "    </tr>\n",
              "    <tr>\n",
              "      <th>4</th>\n",
              "      <td>audi</td>\n",
              "      <td>gas</td>\n",
              "      <td>std</td>\n",
              "      <td>four</td>\n",
              "      <td>sedan</td>\n",
              "      <td>4wd</td>\n",
              "      <td>front</td>\n",
              "      <td>99.4</td>\n",
              "      <td>176.6</td>\n",
              "      <td>66.4</td>\n",
              "      <td>54.3</td>\n",
              "      <td>2824</td>\n",
              "      <td>ohc</td>\n",
              "      <td>five</td>\n",
              "      <td>136</td>\n",
              "      <td>mpfi</td>\n",
              "      <td>3.19</td>\n",
              "      <td>3.40</td>\n",
              "      <td>8.0</td>\n",
              "      <td>115</td>\n",
              "      <td>5500.0</td>\n",
              "      <td>18.0</td>\n",
              "      <td>22.0</td>\n",
              "      <td>17450</td>\n",
              "    </tr>\n",
              "    <tr>\n",
              "      <th>5</th>\n",
              "      <td>audi</td>\n",
              "      <td>gas</td>\n",
              "      <td>std</td>\n",
              "      <td>two</td>\n",
              "      <td>sedan</td>\n",
              "      <td>fwd</td>\n",
              "      <td>front</td>\n",
              "      <td>99.8</td>\n",
              "      <td>177.3</td>\n",
              "      <td>66.3</td>\n",
              "      <td>53.1</td>\n",
              "      <td>2507</td>\n",
              "      <td>ohc</td>\n",
              "      <td>five</td>\n",
              "      <td>136</td>\n",
              "      <td>mpfi</td>\n",
              "      <td>3.19</td>\n",
              "      <td>3.40</td>\n",
              "      <td>8.5</td>\n",
              "      <td>110</td>\n",
              "      <td>5500.0</td>\n",
              "      <td>19.0</td>\n",
              "      <td>25.0</td>\n",
              "      <td>15250</td>\n",
              "    </tr>\n",
              "    <tr>\n",
              "      <th>6</th>\n",
              "      <td>audi</td>\n",
              "      <td>gas</td>\n",
              "      <td>std</td>\n",
              "      <td>four</td>\n",
              "      <td>sedan</td>\n",
              "      <td>fwd</td>\n",
              "      <td>front</td>\n",
              "      <td>105.8</td>\n",
              "      <td>192.7</td>\n",
              "      <td>71.4</td>\n",
              "      <td>55.7</td>\n",
              "      <td>2844</td>\n",
              "      <td>ohc</td>\n",
              "      <td>five</td>\n",
              "      <td>136</td>\n",
              "      <td>mpfi</td>\n",
              "      <td>3.19</td>\n",
              "      <td>3.40</td>\n",
              "      <td>8.5</td>\n",
              "      <td>110</td>\n",
              "      <td>5500.0</td>\n",
              "      <td>19.0</td>\n",
              "      <td>25.0</td>\n",
              "      <td>17710</td>\n",
              "    </tr>\n",
              "    <tr>\n",
              "      <th>7</th>\n",
              "      <td>audi</td>\n",
              "      <td>gas</td>\n",
              "      <td>std</td>\n",
              "      <td>four</td>\n",
              "      <td>wagon</td>\n",
              "      <td>fwd</td>\n",
              "      <td>front</td>\n",
              "      <td>105.8</td>\n",
              "      <td>192.7</td>\n",
              "      <td>71.4</td>\n",
              "      <td>55.7</td>\n",
              "      <td>2954</td>\n",
              "      <td>ohc</td>\n",
              "      <td>five</td>\n",
              "      <td>136</td>\n",
              "      <td>mpfi</td>\n",
              "      <td>3.19</td>\n",
              "      <td>3.40</td>\n",
              "      <td>8.5</td>\n",
              "      <td>110</td>\n",
              "      <td>5500.0</td>\n",
              "      <td>19.0</td>\n",
              "      <td>25.0</td>\n",
              "      <td>18920</td>\n",
              "    </tr>\n",
              "    <tr>\n",
              "      <th>8</th>\n",
              "      <td>audi</td>\n",
              "      <td>gas</td>\n",
              "      <td>turbo</td>\n",
              "      <td>four</td>\n",
              "      <td>sedan</td>\n",
              "      <td>fwd</td>\n",
              "      <td>front</td>\n",
              "      <td>105.8</td>\n",
              "      <td>192.7</td>\n",
              "      <td>71.4</td>\n",
              "      <td>55.9</td>\n",
              "      <td>3086</td>\n",
              "      <td>ohc</td>\n",
              "      <td>five</td>\n",
              "      <td>131</td>\n",
              "      <td>mpfi</td>\n",
              "      <td>3.13</td>\n",
              "      <td>3.40</td>\n",
              "      <td>8.3</td>\n",
              "      <td>140</td>\n",
              "      <td>5500.0</td>\n",
              "      <td>17.0</td>\n",
              "      <td>20.0</td>\n",
              "      <td>23875</td>\n",
              "    </tr>\n",
              "    <tr>\n",
              "      <th>9</th>\n",
              "      <td>bmw</td>\n",
              "      <td>gas</td>\n",
              "      <td>std</td>\n",
              "      <td>two</td>\n",
              "      <td>sedan</td>\n",
              "      <td>rwd</td>\n",
              "      <td>front</td>\n",
              "      <td>101.2</td>\n",
              "      <td>176.8</td>\n",
              "      <td>64.8</td>\n",
              "      <td>54.3</td>\n",
              "      <td>2395</td>\n",
              "      <td>ohc</td>\n",
              "      <td>four</td>\n",
              "      <td>108</td>\n",
              "      <td>mpfi</td>\n",
              "      <td>3.50</td>\n",
              "      <td>2.80</td>\n",
              "      <td>8.8</td>\n",
              "      <td>101</td>\n",
              "      <td>5800.0</td>\n",
              "      <td>23.0</td>\n",
              "      <td>29.0</td>\n",
              "      <td>16430</td>\n",
              "    </tr>\n",
              "  </tbody>\n",
              "</table>\n",
              "</div>\n",
              "      <button class=\"colab-df-convert\" onclick=\"convertToInteractive('df-d497d579-30ed-4377-996d-b884f8cd221d')\"\n",
              "              title=\"Convert this dataframe to an interactive table.\"\n",
              "              style=\"display:none;\">\n",
              "        \n",
              "  <svg xmlns=\"http://www.w3.org/2000/svg\" height=\"24px\"viewBox=\"0 0 24 24\"\n",
              "       width=\"24px\">\n",
              "    <path d=\"M0 0h24v24H0V0z\" fill=\"none\"/>\n",
              "    <path d=\"M18.56 5.44l.94 2.06.94-2.06 2.06-.94-2.06-.94-.94-2.06-.94 2.06-2.06.94zm-11 1L8.5 8.5l.94-2.06 2.06-.94-2.06-.94L8.5 2.5l-.94 2.06-2.06.94zm10 10l.94 2.06.94-2.06 2.06-.94-2.06-.94-.94-2.06-.94 2.06-2.06.94z\"/><path d=\"M17.41 7.96l-1.37-1.37c-.4-.4-.92-.59-1.43-.59-.52 0-1.04.2-1.43.59L10.3 9.45l-7.72 7.72c-.78.78-.78 2.05 0 2.83L4 21.41c.39.39.9.59 1.41.59.51 0 1.02-.2 1.41-.59l7.78-7.78 2.81-2.81c.8-.78.8-2.07 0-2.86zM5.41 20L4 18.59l7.72-7.72 1.47 1.35L5.41 20z\"/>\n",
              "  </svg>\n",
              "      </button>\n",
              "      \n",
              "  <style>\n",
              "    .colab-df-container {\n",
              "      display:flex;\n",
              "      flex-wrap:wrap;\n",
              "      gap: 12px;\n",
              "    }\n",
              "\n",
              "    .colab-df-convert {\n",
              "      background-color: #E8F0FE;\n",
              "      border: none;\n",
              "      border-radius: 50%;\n",
              "      cursor: pointer;\n",
              "      display: none;\n",
              "      fill: #1967D2;\n",
              "      height: 32px;\n",
              "      padding: 0 0 0 0;\n",
              "      width: 32px;\n",
              "    }\n",
              "\n",
              "    .colab-df-convert:hover {\n",
              "      background-color: #E2EBFA;\n",
              "      box-shadow: 0px 1px 2px rgba(60, 64, 67, 0.3), 0px 1px 3px 1px rgba(60, 64, 67, 0.15);\n",
              "      fill: #174EA6;\n",
              "    }\n",
              "\n",
              "    [theme=dark] .colab-df-convert {\n",
              "      background-color: #3B4455;\n",
              "      fill: #D2E3FC;\n",
              "    }\n",
              "\n",
              "    [theme=dark] .colab-df-convert:hover {\n",
              "      background-color: #434B5C;\n",
              "      box-shadow: 0px 1px 3px 1px rgba(0, 0, 0, 0.15);\n",
              "      filter: drop-shadow(0px 1px 2px rgba(0, 0, 0, 0.3));\n",
              "      fill: #FFFFFF;\n",
              "    }\n",
              "  </style>\n",
              "\n",
              "      <script>\n",
              "        const buttonEl =\n",
              "          document.querySelector('#df-d497d579-30ed-4377-996d-b884f8cd221d button.colab-df-convert');\n",
              "        buttonEl.style.display =\n",
              "          google.colab.kernel.accessAllowed ? 'block' : 'none';\n",
              "\n",
              "        async function convertToInteractive(key) {\n",
              "          const element = document.querySelector('#df-d497d579-30ed-4377-996d-b884f8cd221d');\n",
              "          const dataTable =\n",
              "            await google.colab.kernel.invokeFunction('convertToInteractive',\n",
              "                                                     [key], {});\n",
              "          if (!dataTable) return;\n",
              "\n",
              "          const docLinkHtml = 'Like what you see? Visit the ' +\n",
              "            '<a target=\"_blank\" href=https://colab.research.google.com/notebooks/data_table.ipynb>data table notebook</a>'\n",
              "            + ' to learn more about interactive tables.';\n",
              "          element.innerHTML = '';\n",
              "          dataTable['output_type'] = 'display_data';\n",
              "          await google.colab.output.renderOutput(dataTable, element);\n",
              "          const docLink = document.createElement('div');\n",
              "          docLink.innerHTML = docLinkHtml;\n",
              "          element.appendChild(docLink);\n",
              "        }\n",
              "      </script>\n",
              "    </div>\n",
              "  </div>\n",
              "  "
            ],
            "text/plain": [
              "          make fuel_type aspiration  ... city_mpg highway_mpg  price\n",
              "0  alfa-romero       gas        std  ...     21.0        27.0  13495\n",
              "1  alfa-romero       gas        std  ...     21.0        27.0  16500\n",
              "2  alfa-romero       gas        std  ...     19.0        26.0  16500\n",
              "3         audi       gas        std  ...     24.0        30.0  13950\n",
              "4         audi       gas        std  ...     18.0        22.0  17450\n",
              "5         audi       gas        std  ...     19.0        25.0  15250\n",
              "6         audi       gas        std  ...     19.0        25.0  17710\n",
              "7         audi       gas        std  ...     19.0        25.0  18920\n",
              "8         audi       gas      turbo  ...     17.0        20.0  23875\n",
              "9          bmw       gas        std  ...     23.0        29.0  16430\n",
              "\n",
              "[10 rows x 24 columns]"
            ]
          },
          "metadata": {},
          "execution_count": 167
        }
      ]
    },
    {
      "cell_type": "code",
      "source": [
        "autom.dtypes"
      ],
      "metadata": {
        "colab": {
          "base_uri": "https://localhost:8080/"
        },
        "id": "XhlRnIYpZYpz",
        "outputId": "d25a7bdf-5693-4a4f-efc8-45486069953a"
      },
      "execution_count": 6,
      "outputs": [
        {
          "output_type": "execute_result",
          "data": {
            "text/plain": [
              "make                    object\n",
              "fuel_type               object\n",
              "aspiration              object\n",
              "number_of_doors         object\n",
              "body_style              object\n",
              "drive_wheels            object\n",
              "engine_location         object\n",
              "wheel_base             float64\n",
              "length                 float64\n",
              "width                  float64\n",
              "height                 float64\n",
              "curb_weight              int64\n",
              "engine_type             object\n",
              "number_of_cylinders     object\n",
              "engine_size              int64\n",
              "fuel_system             object\n",
              "bore                   float64\n",
              "stroke                 float64\n",
              "compression_ratio      float64\n",
              "horsepower               int64\n",
              "peak_rpm               float64\n",
              "city_mpg               float64\n",
              "highway_mpg            float64\n",
              "price                    int64\n",
              "dtype: object"
            ]
          },
          "metadata": {},
          "execution_count": 6
        }
      ]
    },
    {
      "cell_type": "code",
      "source": [
        "from google.colab import drive\n",
        "drive.mount('/content/drive')"
      ],
      "metadata": {
        "id": "-B216OcH31AA",
        "colab": {
          "base_uri": "https://localhost:8080/",
          "height": 328
        },
        "outputId": "1f4e9a6b-e6a8-4628-9aca-05fbc8417a4a"
      },
      "execution_count": 7,
      "outputs": [
        {
          "output_type": "error",
          "ename": "MessageError",
          "evalue": "ignored",
          "traceback": [
            "\u001b[0;31m---------------------------------------------------------------------------\u001b[0m",
            "\u001b[0;31mMessageError\u001b[0m                              Traceback (most recent call last)",
            "\u001b[0;32m<ipython-input-7-d5df0069828e>\u001b[0m in \u001b[0;36m<module>\u001b[0;34m()\u001b[0m\n\u001b[1;32m      1\u001b[0m \u001b[0;32mfrom\u001b[0m \u001b[0mgoogle\u001b[0m\u001b[0;34m.\u001b[0m\u001b[0mcolab\u001b[0m \u001b[0;32mimport\u001b[0m \u001b[0mdrive\u001b[0m\u001b[0;34m\u001b[0m\u001b[0;34m\u001b[0m\u001b[0m\n\u001b[0;32m----> 2\u001b[0;31m \u001b[0mdrive\u001b[0m\u001b[0;34m.\u001b[0m\u001b[0mmount\u001b[0m\u001b[0;34m(\u001b[0m\u001b[0;34m'/content/drive'\u001b[0m\u001b[0;34m)\u001b[0m\u001b[0;34m\u001b[0m\u001b[0;34m\u001b[0m\u001b[0m\n\u001b[0m",
            "\u001b[0;32m/usr/local/lib/python3.7/dist-packages/google/colab/drive.py\u001b[0m in \u001b[0;36mmount\u001b[0;34m(mountpoint, force_remount, timeout_ms, use_metadata_server)\u001b[0m\n\u001b[1;32m    111\u001b[0m       \u001b[0mtimeout_ms\u001b[0m\u001b[0;34m=\u001b[0m\u001b[0mtimeout_ms\u001b[0m\u001b[0;34m,\u001b[0m\u001b[0;34m\u001b[0m\u001b[0;34m\u001b[0m\u001b[0m\n\u001b[1;32m    112\u001b[0m       \u001b[0muse_metadata_server\u001b[0m\u001b[0;34m=\u001b[0m\u001b[0muse_metadata_server\u001b[0m\u001b[0;34m,\u001b[0m\u001b[0;34m\u001b[0m\u001b[0;34m\u001b[0m\u001b[0m\n\u001b[0;32m--> 113\u001b[0;31m       ephemeral=ephemeral)\n\u001b[0m\u001b[1;32m    114\u001b[0m \u001b[0;34m\u001b[0m\u001b[0m\n\u001b[1;32m    115\u001b[0m \u001b[0;34m\u001b[0m\u001b[0m\n",
            "\u001b[0;32m/usr/local/lib/python3.7/dist-packages/google/colab/drive.py\u001b[0m in \u001b[0;36m_mount\u001b[0;34m(mountpoint, force_remount, timeout_ms, use_metadata_server, ephemeral)\u001b[0m\n\u001b[1;32m    134\u001b[0m   \u001b[0;32mif\u001b[0m \u001b[0mephemeral\u001b[0m\u001b[0;34m:\u001b[0m\u001b[0;34m\u001b[0m\u001b[0;34m\u001b[0m\u001b[0m\n\u001b[1;32m    135\u001b[0m     _message.blocking_request(\n\u001b[0;32m--> 136\u001b[0;31m         'request_auth', request={'authType': 'dfs_ephemeral'}, timeout_sec=None)\n\u001b[0m\u001b[1;32m    137\u001b[0m \u001b[0;34m\u001b[0m\u001b[0m\n\u001b[1;32m    138\u001b[0m   \u001b[0mmountpoint\u001b[0m \u001b[0;34m=\u001b[0m \u001b[0m_os\u001b[0m\u001b[0;34m.\u001b[0m\u001b[0mpath\u001b[0m\u001b[0;34m.\u001b[0m\u001b[0mexpanduser\u001b[0m\u001b[0;34m(\u001b[0m\u001b[0mmountpoint\u001b[0m\u001b[0;34m)\u001b[0m\u001b[0;34m\u001b[0m\u001b[0;34m\u001b[0m\u001b[0m\n",
            "\u001b[0;32m/usr/local/lib/python3.7/dist-packages/google/colab/_message.py\u001b[0m in \u001b[0;36mblocking_request\u001b[0;34m(request_type, request, timeout_sec, parent)\u001b[0m\n\u001b[1;32m    173\u001b[0m   request_id = send_request(\n\u001b[1;32m    174\u001b[0m       request_type, request, parent=parent, expect_reply=True)\n\u001b[0;32m--> 175\u001b[0;31m   \u001b[0;32mreturn\u001b[0m \u001b[0mread_reply_from_input\u001b[0m\u001b[0;34m(\u001b[0m\u001b[0mrequest_id\u001b[0m\u001b[0;34m,\u001b[0m \u001b[0mtimeout_sec\u001b[0m\u001b[0;34m)\u001b[0m\u001b[0;34m\u001b[0m\u001b[0;34m\u001b[0m\u001b[0m\n\u001b[0m",
            "\u001b[0;32m/usr/local/lib/python3.7/dist-packages/google/colab/_message.py\u001b[0m in \u001b[0;36mread_reply_from_input\u001b[0;34m(message_id, timeout_sec)\u001b[0m\n\u001b[1;32m    104\u001b[0m         reply.get('colab_msg_id') == message_id):\n\u001b[1;32m    105\u001b[0m       \u001b[0;32mif\u001b[0m \u001b[0;34m'error'\u001b[0m \u001b[0;32min\u001b[0m \u001b[0mreply\u001b[0m\u001b[0;34m:\u001b[0m\u001b[0;34m\u001b[0m\u001b[0;34m\u001b[0m\u001b[0m\n\u001b[0;32m--> 106\u001b[0;31m         \u001b[0;32mraise\u001b[0m \u001b[0mMessageError\u001b[0m\u001b[0;34m(\u001b[0m\u001b[0mreply\u001b[0m\u001b[0;34m[\u001b[0m\u001b[0;34m'error'\u001b[0m\u001b[0;34m]\u001b[0m\u001b[0;34m)\u001b[0m\u001b[0;34m\u001b[0m\u001b[0;34m\u001b[0m\u001b[0m\n\u001b[0m\u001b[1;32m    107\u001b[0m       \u001b[0;32mreturn\u001b[0m \u001b[0mreply\u001b[0m\u001b[0;34m.\u001b[0m\u001b[0mget\u001b[0m\u001b[0;34m(\u001b[0m\u001b[0;34m'data'\u001b[0m\u001b[0;34m,\u001b[0m \u001b[0;32mNone\u001b[0m\u001b[0;34m)\u001b[0m\u001b[0;34m\u001b[0m\u001b[0;34m\u001b[0m\u001b[0m\n\u001b[1;32m    108\u001b[0m \u001b[0;34m\u001b[0m\u001b[0m\n",
            "\u001b[0;31mMessageError\u001b[0m: Error: credential propagation was unsuccessful"
          ]
        }
      ]
    },
    {
      "cell_type": "markdown",
      "source": [
        "Relação das coluna e seu significado:\n",
        "\n",
        "1. make: fabricante\n",
        "2. fuel_type: tipo de combustível\n",
        "3. aspiration: tipo de aspiração do motor, ex. turbo ou padrão (std)\n",
        "4. body_style: estilo do carro, ex. sedan ou hatchback\n",
        "5. drive_wheels: tração do carro, ex. rwd (tração traseira) ou frw (tração dianteira)\n",
        "6. wheel_base: entre-eixos, distância entre o eixo dianteiro e o eixo traseiro\n",
        "7. length: comprimento\n",
        "8. width: largura\n",
        "9. height: altura\n",
        "10. curb_wheight: peso\n",
        "11. engine_type: tipo do motor\n",
        "12. number_of_cylinders: cilindrada, quantidade de cilindros\n",
        "13. engine_size: tamanho do motor\n",
        "14. fuel_system: sistema de injeção\n",
        "15. bore: diâmetro do cilindro\n",
        "16. stroke: diâmetro do pistão\n",
        "17. compression_ratio: razão de compressão\n",
        "18. horsepower: cavalo de força ou HP\n",
        "19. peak_rpm: pico de RPM (rotações por minuto)\n",
        "20. city_mpg: consumo em mpg (milhas por galão) na cidade\n",
        "21. highway_mpg: consumo em mpg (milhas por galão) na estrada\n",
        "22. price: preço (**Variável Alvo**)"
      ],
      "metadata": {
        "id": "y0i5we8x2cyD"
      }
    },
    {
      "cell_type": "markdown",
      "source": [
        "### Correlacionamento dos atributos"
      ],
      "metadata": {
        "id": "et-c4cmE2cyG"
      }
    },
    {
      "cell_type": "markdown",
      "source": [
        "Vamos utilizar algumas suposições e validar se elas são verdadeiras, por exemplo, o preço do carro pode variar com seu consumo, tamanho ou força? Vamos explorar estas hipósteses ou outras que o grupo julgue relevante."
      ],
      "metadata": {
        "id": "6Xmx9l2l2cyK"
      }
    },
    {
      "cell_type": "code",
      "execution_count": 8,
      "source": [
        "autom.corr()\n",
        "\n"
      ],
      "outputs": [
        {
          "output_type": "execute_result",
          "data": {
            "text/html": [
              "\n",
              "  <div id=\"df-02b3f008-6099-40df-9d84-44758d01ee20\">\n",
              "    <div class=\"colab-df-container\">\n",
              "      <div>\n",
              "<style scoped>\n",
              "    .dataframe tbody tr th:only-of-type {\n",
              "        vertical-align: middle;\n",
              "    }\n",
              "\n",
              "    .dataframe tbody tr th {\n",
              "        vertical-align: top;\n",
              "    }\n",
              "\n",
              "    .dataframe thead th {\n",
              "        text-align: right;\n",
              "    }\n",
              "</style>\n",
              "<table border=\"1\" class=\"dataframe\">\n",
              "  <thead>\n",
              "    <tr style=\"text-align: right;\">\n",
              "      <th></th>\n",
              "      <th>wheel_base</th>\n",
              "      <th>length</th>\n",
              "      <th>width</th>\n",
              "      <th>height</th>\n",
              "      <th>curb_weight</th>\n",
              "      <th>engine_size</th>\n",
              "      <th>bore</th>\n",
              "      <th>stroke</th>\n",
              "      <th>compression_ratio</th>\n",
              "      <th>horsepower</th>\n",
              "      <th>peak_rpm</th>\n",
              "      <th>city_mpg</th>\n",
              "      <th>highway_mpg</th>\n",
              "      <th>price</th>\n",
              "    </tr>\n",
              "  </thead>\n",
              "  <tbody>\n",
              "    <tr>\n",
              "      <th>wheel_base</th>\n",
              "      <td>1.000000</td>\n",
              "      <td>0.876024</td>\n",
              "      <td>0.814507</td>\n",
              "      <td>0.590742</td>\n",
              "      <td>0.782097</td>\n",
              "      <td>0.572027</td>\n",
              "      <td>0.495210</td>\n",
              "      <td>0.148239</td>\n",
              "      <td>0.250313</td>\n",
              "      <td>0.372607</td>\n",
              "      <td>-0.202727</td>\n",
              "      <td>-0.454390</td>\n",
              "      <td>-0.566392</td>\n",
              "      <td>0.584642</td>\n",
              "    </tr>\n",
              "    <tr>\n",
              "      <th>length</th>\n",
              "      <td>0.876024</td>\n",
              "      <td>1.000000</td>\n",
              "      <td>0.857170</td>\n",
              "      <td>0.492063</td>\n",
              "      <td>0.880665</td>\n",
              "      <td>0.685025</td>\n",
              "      <td>0.610324</td>\n",
              "      <td>0.116745</td>\n",
              "      <td>0.159733</td>\n",
              "      <td>0.577923</td>\n",
              "      <td>-0.056354</td>\n",
              "      <td>-0.633185</td>\n",
              "      <td>-0.709308</td>\n",
              "      <td>0.690628</td>\n",
              "    </tr>\n",
              "    <tr>\n",
              "      <th>width</th>\n",
              "      <td>0.814507</td>\n",
              "      <td>0.857170</td>\n",
              "      <td>1.000000</td>\n",
              "      <td>0.306002</td>\n",
              "      <td>0.866201</td>\n",
              "      <td>0.729436</td>\n",
              "      <td>0.545028</td>\n",
              "      <td>0.186352</td>\n",
              "      <td>0.189867</td>\n",
              "      <td>0.613488</td>\n",
              "      <td>-0.092631</td>\n",
              "      <td>-0.620316</td>\n",
              "      <td>-0.697742</td>\n",
              "      <td>0.751265</td>\n",
              "    </tr>\n",
              "    <tr>\n",
              "      <th>height</th>\n",
              "      <td>0.590742</td>\n",
              "      <td>0.492063</td>\n",
              "      <td>0.306002</td>\n",
              "      <td>1.000000</td>\n",
              "      <td>0.307581</td>\n",
              "      <td>0.074694</td>\n",
              "      <td>0.186701</td>\n",
              "      <td>-0.086508</td>\n",
              "      <td>0.259737</td>\n",
              "      <td>-0.085544</td>\n",
              "      <td>-0.275686</td>\n",
              "      <td>-0.069029</td>\n",
              "      <td>-0.117146</td>\n",
              "      <td>0.135486</td>\n",
              "    </tr>\n",
              "    <tr>\n",
              "      <th>curb_weight</th>\n",
              "      <td>0.782097</td>\n",
              "      <td>0.880665</td>\n",
              "      <td>0.866201</td>\n",
              "      <td>0.307581</td>\n",
              "      <td>1.000000</td>\n",
              "      <td>0.849072</td>\n",
              "      <td>0.644871</td>\n",
              "      <td>0.162179</td>\n",
              "      <td>0.156433</td>\n",
              "      <td>0.757762</td>\n",
              "      <td>-0.098857</td>\n",
              "      <td>-0.714663</td>\n",
              "      <td>-0.800276</td>\n",
              "      <td>0.834415</td>\n",
              "    </tr>\n",
              "    <tr>\n",
              "      <th>engine_size</th>\n",
              "      <td>0.572027</td>\n",
              "      <td>0.685025</td>\n",
              "      <td>0.729436</td>\n",
              "      <td>0.074694</td>\n",
              "      <td>0.849072</td>\n",
              "      <td>1.000000</td>\n",
              "      <td>0.577265</td>\n",
              "      <td>0.184605</td>\n",
              "      <td>0.028889</td>\n",
              "      <td>0.821685</td>\n",
              "      <td>-0.104959</td>\n",
              "      <td>-0.619403</td>\n",
              "      <td>-0.671867</td>\n",
              "      <td>0.872335</td>\n",
              "    </tr>\n",
              "    <tr>\n",
              "      <th>bore</th>\n",
              "      <td>0.495210</td>\n",
              "      <td>0.610324</td>\n",
              "      <td>0.545028</td>\n",
              "      <td>0.186701</td>\n",
              "      <td>0.644871</td>\n",
              "      <td>0.577265</td>\n",
              "      <td>1.000000</td>\n",
              "      <td>-0.057887</td>\n",
              "      <td>0.001971</td>\n",
              "      <td>0.563921</td>\n",
              "      <td>-0.046081</td>\n",
              "      <td>-0.542294</td>\n",
              "      <td>-0.576674</td>\n",
              "      <td>0.543052</td>\n",
              "    </tr>\n",
              "    <tr>\n",
              "      <th>stroke</th>\n",
              "      <td>0.148239</td>\n",
              "      <td>0.116745</td>\n",
              "      <td>0.186352</td>\n",
              "      <td>-0.086508</td>\n",
              "      <td>0.162179</td>\n",
              "      <td>0.184605</td>\n",
              "      <td>-0.057887</td>\n",
              "      <td>1.000000</td>\n",
              "      <td>0.183855</td>\n",
              "      <td>0.092493</td>\n",
              "      <td>-0.065078</td>\n",
              "      <td>-0.079547</td>\n",
              "      <td>-0.071479</td>\n",
              "      <td>0.081434</td>\n",
              "    </tr>\n",
              "    <tr>\n",
              "      <th>compression_ratio</th>\n",
              "      <td>0.250313</td>\n",
              "      <td>0.159733</td>\n",
              "      <td>0.189867</td>\n",
              "      <td>0.259737</td>\n",
              "      <td>0.156433</td>\n",
              "      <td>0.028889</td>\n",
              "      <td>0.001971</td>\n",
              "      <td>0.183855</td>\n",
              "      <td>1.000000</td>\n",
              "      <td>-0.212984</td>\n",
              "      <td>-0.284202</td>\n",
              "      <td>0.270039</td>\n",
              "      <td>0.207436</td>\n",
              "      <td>0.071107</td>\n",
              "    </tr>\n",
              "    <tr>\n",
              "      <th>horsepower</th>\n",
              "      <td>0.372607</td>\n",
              "      <td>0.577923</td>\n",
              "      <td>0.613488</td>\n",
              "      <td>-0.085544</td>\n",
              "      <td>0.757762</td>\n",
              "      <td>0.821685</td>\n",
              "      <td>0.563921</td>\n",
              "      <td>0.092493</td>\n",
              "      <td>-0.212984</td>\n",
              "      <td>1.000000</td>\n",
              "      <td>0.132510</td>\n",
              "      <td>-0.763573</td>\n",
              "      <td>-0.776634</td>\n",
              "      <td>0.810795</td>\n",
              "    </tr>\n",
              "    <tr>\n",
              "      <th>peak_rpm</th>\n",
              "      <td>-0.202727</td>\n",
              "      <td>-0.056354</td>\n",
              "      <td>-0.092631</td>\n",
              "      <td>-0.275686</td>\n",
              "      <td>-0.098857</td>\n",
              "      <td>-0.104959</td>\n",
              "      <td>-0.046081</td>\n",
              "      <td>-0.065078</td>\n",
              "      <td>-0.284202</td>\n",
              "      <td>0.132510</td>\n",
              "      <td>1.000000</td>\n",
              "      <td>-0.127533</td>\n",
              "      <td>-0.050670</td>\n",
              "      <td>-0.006104</td>\n",
              "    </tr>\n",
              "    <tr>\n",
              "      <th>city_mpg</th>\n",
              "      <td>-0.454390</td>\n",
              "      <td>-0.633185</td>\n",
              "      <td>-0.620316</td>\n",
              "      <td>-0.069029</td>\n",
              "      <td>-0.714663</td>\n",
              "      <td>-0.619403</td>\n",
              "      <td>-0.542294</td>\n",
              "      <td>-0.079547</td>\n",
              "      <td>0.270039</td>\n",
              "      <td>-0.763573</td>\n",
              "      <td>-0.127533</td>\n",
              "      <td>1.000000</td>\n",
              "      <td>0.875933</td>\n",
              "      <td>-0.657661</td>\n",
              "    </tr>\n",
              "    <tr>\n",
              "      <th>highway_mpg</th>\n",
              "      <td>-0.566392</td>\n",
              "      <td>-0.709308</td>\n",
              "      <td>-0.697742</td>\n",
              "      <td>-0.117146</td>\n",
              "      <td>-0.800276</td>\n",
              "      <td>-0.671867</td>\n",
              "      <td>-0.576674</td>\n",
              "      <td>-0.071479</td>\n",
              "      <td>0.207436</td>\n",
              "      <td>-0.776634</td>\n",
              "      <td>-0.050670</td>\n",
              "      <td>0.875933</td>\n",
              "      <td>1.000000</td>\n",
              "      <td>-0.712812</td>\n",
              "    </tr>\n",
              "    <tr>\n",
              "      <th>price</th>\n",
              "      <td>0.584642</td>\n",
              "      <td>0.690628</td>\n",
              "      <td>0.751265</td>\n",
              "      <td>0.135486</td>\n",
              "      <td>0.834415</td>\n",
              "      <td>0.872335</td>\n",
              "      <td>0.543052</td>\n",
              "      <td>0.081434</td>\n",
              "      <td>0.071107</td>\n",
              "      <td>0.810795</td>\n",
              "      <td>-0.006104</td>\n",
              "      <td>-0.657661</td>\n",
              "      <td>-0.712812</td>\n",
              "      <td>1.000000</td>\n",
              "    </tr>\n",
              "  </tbody>\n",
              "</table>\n",
              "</div>\n",
              "      <button class=\"colab-df-convert\" onclick=\"convertToInteractive('df-02b3f008-6099-40df-9d84-44758d01ee20')\"\n",
              "              title=\"Convert this dataframe to an interactive table.\"\n",
              "              style=\"display:none;\">\n",
              "        \n",
              "  <svg xmlns=\"http://www.w3.org/2000/svg\" height=\"24px\"viewBox=\"0 0 24 24\"\n",
              "       width=\"24px\">\n",
              "    <path d=\"M0 0h24v24H0V0z\" fill=\"none\"/>\n",
              "    <path d=\"M18.56 5.44l.94 2.06.94-2.06 2.06-.94-2.06-.94-.94-2.06-.94 2.06-2.06.94zm-11 1L8.5 8.5l.94-2.06 2.06-.94-2.06-.94L8.5 2.5l-.94 2.06-2.06.94zm10 10l.94 2.06.94-2.06 2.06-.94-2.06-.94-.94-2.06-.94 2.06-2.06.94z\"/><path d=\"M17.41 7.96l-1.37-1.37c-.4-.4-.92-.59-1.43-.59-.52 0-1.04.2-1.43.59L10.3 9.45l-7.72 7.72c-.78.78-.78 2.05 0 2.83L4 21.41c.39.39.9.59 1.41.59.51 0 1.02-.2 1.41-.59l7.78-7.78 2.81-2.81c.8-.78.8-2.07 0-2.86zM5.41 20L4 18.59l7.72-7.72 1.47 1.35L5.41 20z\"/>\n",
              "  </svg>\n",
              "      </button>\n",
              "      \n",
              "  <style>\n",
              "    .colab-df-container {\n",
              "      display:flex;\n",
              "      flex-wrap:wrap;\n",
              "      gap: 12px;\n",
              "    }\n",
              "\n",
              "    .colab-df-convert {\n",
              "      background-color: #E8F0FE;\n",
              "      border: none;\n",
              "      border-radius: 50%;\n",
              "      cursor: pointer;\n",
              "      display: none;\n",
              "      fill: #1967D2;\n",
              "      height: 32px;\n",
              "      padding: 0 0 0 0;\n",
              "      width: 32px;\n",
              "    }\n",
              "\n",
              "    .colab-df-convert:hover {\n",
              "      background-color: #E2EBFA;\n",
              "      box-shadow: 0px 1px 2px rgba(60, 64, 67, 0.3), 0px 1px 3px 1px rgba(60, 64, 67, 0.15);\n",
              "      fill: #174EA6;\n",
              "    }\n",
              "\n",
              "    [theme=dark] .colab-df-convert {\n",
              "      background-color: #3B4455;\n",
              "      fill: #D2E3FC;\n",
              "    }\n",
              "\n",
              "    [theme=dark] .colab-df-convert:hover {\n",
              "      background-color: #434B5C;\n",
              "      box-shadow: 0px 1px 3px 1px rgba(0, 0, 0, 0.15);\n",
              "      filter: drop-shadow(0px 1px 2px rgba(0, 0, 0, 0.3));\n",
              "      fill: #FFFFFF;\n",
              "    }\n",
              "  </style>\n",
              "\n",
              "      <script>\n",
              "        const buttonEl =\n",
              "          document.querySelector('#df-02b3f008-6099-40df-9d84-44758d01ee20 button.colab-df-convert');\n",
              "        buttonEl.style.display =\n",
              "          google.colab.kernel.accessAllowed ? 'block' : 'none';\n",
              "\n",
              "        async function convertToInteractive(key) {\n",
              "          const element = document.querySelector('#df-02b3f008-6099-40df-9d84-44758d01ee20');\n",
              "          const dataTable =\n",
              "            await google.colab.kernel.invokeFunction('convertToInteractive',\n",
              "                                                     [key], {});\n",
              "          if (!dataTable) return;\n",
              "\n",
              "          const docLinkHtml = 'Like what you see? Visit the ' +\n",
              "            '<a target=\"_blank\" href=https://colab.research.google.com/notebooks/data_table.ipynb>data table notebook</a>'\n",
              "            + ' to learn more about interactive tables.';\n",
              "          element.innerHTML = '';\n",
              "          dataTable['output_type'] = 'display_data';\n",
              "          await google.colab.output.renderOutput(dataTable, element);\n",
              "          const docLink = document.createElement('div');\n",
              "          docLink.innerHTML = docLinkHtml;\n",
              "          element.appendChild(docLink);\n",
              "        }\n",
              "      </script>\n",
              "    </div>\n",
              "  </div>\n",
              "  "
            ],
            "text/plain": [
              "                   wheel_base    length  ...  highway_mpg     price\n",
              "wheel_base           1.000000  0.876024  ...    -0.566392  0.584642\n",
              "length               0.876024  1.000000  ...    -0.709308  0.690628\n",
              "width                0.814507  0.857170  ...    -0.697742  0.751265\n",
              "height               0.590742  0.492063  ...    -0.117146  0.135486\n",
              "curb_weight          0.782097  0.880665  ...    -0.800276  0.834415\n",
              "engine_size          0.572027  0.685025  ...    -0.671867  0.872335\n",
              "bore                 0.495210  0.610324  ...    -0.576674  0.543052\n",
              "stroke               0.148239  0.116745  ...    -0.071479  0.081434\n",
              "compression_ratio    0.250313  0.159733  ...     0.207436  0.071107\n",
              "horsepower           0.372607  0.577923  ...    -0.776634  0.810795\n",
              "peak_rpm            -0.202727 -0.056354  ...    -0.050670 -0.006104\n",
              "city_mpg            -0.454390 -0.633185  ...     0.875933 -0.657661\n",
              "highway_mpg         -0.566392 -0.709308  ...     1.000000 -0.712812\n",
              "price                0.584642  0.690628  ...    -0.712812  1.000000\n",
              "\n",
              "[14 rows x 14 columns]"
            ]
          },
          "metadata": {},
          "execution_count": 8
        }
      ],
      "metadata": {
        "collapsed": true,
        "id": "pztRjH7X2cyO",
        "colab": {
          "base_uri": "https://localhost:8080/",
          "height": 488
        },
        "outputId": "6cb41e84-4341-4fb3-aa77-cbb404f6999b"
      }
    },
    {
      "cell_type": "code",
      "source": [
        "sns.heatmap(autom.corr())"
      ],
      "metadata": {
        "colab": {
          "base_uri": "https://localhost:8080/",
          "height": 367
        },
        "id": "fMPNT_II7nlf",
        "outputId": "24eddf53-aefd-4ad5-b157-c8716b167394"
      },
      "execution_count": 9,
      "outputs": [
        {
          "output_type": "execute_result",
          "data": {
            "text/plain": [
              "<matplotlib.axes._subplots.AxesSubplot at 0x7f04ac1d6750>"
            ]
          },
          "metadata": {},
          "execution_count": 9
        },
        {
          "output_type": "display_data",
          "data": {
            "image/png": "[encoded data removed]",
            "text/plain": [
              "<Figure size 432x288 with 2 Axes>"
            ]
          },
          "metadata": {
            "needs_background": "light"
          }
        }
      ]
    },
    {
      "cell_type": "code",
      "source": [
        "corre = autom.corr()"
      ],
      "metadata": {
        "id": "9z_OZmYe7yZa"
      },
      "execution_count": 10,
      "outputs": []
    },
    {
      "cell_type": "code",
      "source": [
        "colunas_selecionadas = autom[['make','engine_size','horsepower', 'city_mpg', 'highway_mpg', 'drive_wheels', 'width','height','price','length','curb_weight','body_style','fuel_type']]\n",
        "colunas_selecionadas_sem_preço = autom[['make','engine_size','horsepower', 'city_mpg', 'highway_mpg', 'drive_wheels']]\n"
      ],
      "metadata": {
        "id": "-DQ_UUuPTRGJ"
      },
      "execution_count": 170,
      "outputs": []
    },
    {
      "cell_type": "code",
      "source": [
        "data_frame_1 = pd.DataFrame((corre), index = ['horsepower','city_mpg','length','price'], columns = ['horsepower','city_mpg','length','price'])\n",
        "data_frame_1"
      ],
      "metadata": {
        "colab": {
          "base_uri": "https://localhost:8080/",
          "height": 175
        },
        "id": "IssY9U70IFKG",
        "outputId": "8eed095f-14c4-4577-b97c-839978861d59"
      },
      "execution_count": 12,
      "outputs": [
        {
          "output_type": "execute_result",
          "data": {
            "text/html": [
              "\n",
              "  <div id=\"df-0e89db54-ebb9-41ac-a3dd-280b7d33f4c6\">\n",
              "    <div class=\"colab-df-container\">\n",
              "      <div>\n",
              "<style scoped>\n",
              "    .dataframe tbody tr th:only-of-type {\n",
              "        vertical-align: middle;\n",
              "    }\n",
              "\n",
              "    .dataframe tbody tr th {\n",
              "        vertical-align: top;\n",
              "    }\n",
              "\n",
              "    .dataframe thead th {\n",
              "        text-align: right;\n",
              "    }\n",
              "</style>\n",
              "<table border=\"1\" class=\"dataframe\">\n",
              "  <thead>\n",
              "    <tr style=\"text-align: right;\">\n",
              "      <th></th>\n",
              "      <th>horsepower</th>\n",
              "      <th>city_mpg</th>\n",
              "      <th>length</th>\n",
              "      <th>price</th>\n",
              "    </tr>\n",
              "  </thead>\n",
              "  <tbody>\n",
              "    <tr>\n",
              "      <th>horsepower</th>\n",
              "      <td>1.000000</td>\n",
              "      <td>-0.763573</td>\n",
              "      <td>0.577923</td>\n",
              "      <td>0.810795</td>\n",
              "    </tr>\n",
              "    <tr>\n",
              "      <th>city_mpg</th>\n",
              "      <td>-0.763573</td>\n",
              "      <td>1.000000</td>\n",
              "      <td>-0.633185</td>\n",
              "      <td>-0.657661</td>\n",
              "    </tr>\n",
              "    <tr>\n",
              "      <th>length</th>\n",
              "      <td>0.577923</td>\n",
              "      <td>-0.633185</td>\n",
              "      <td>1.000000</td>\n",
              "      <td>0.690628</td>\n",
              "    </tr>\n",
              "    <tr>\n",
              "      <th>price</th>\n",
              "      <td>0.810795</td>\n",
              "      <td>-0.657661</td>\n",
              "      <td>0.690628</td>\n",
              "      <td>1.000000</td>\n",
              "    </tr>\n",
              "  </tbody>\n",
              "</table>\n",
              "</div>\n",
              "      <button class=\"colab-df-convert\" onclick=\"convertToInteractive('df-0e89db54-ebb9-41ac-a3dd-280b7d33f4c6')\"\n",
              "              title=\"Convert this dataframe to an interactive table.\"\n",
              "              style=\"display:none;\">\n",
              "        \n",
              "  <svg xmlns=\"http://www.w3.org/2000/svg\" height=\"24px\"viewBox=\"0 0 24 24\"\n",
              "       width=\"24px\">\n",
              "    <path d=\"M0 0h24v24H0V0z\" fill=\"none\"/>\n",
              "    <path d=\"M18.56 5.44l.94 2.06.94-2.06 2.06-.94-2.06-.94-.94-2.06-.94 2.06-2.06.94zm-11 1L8.5 8.5l.94-2.06 2.06-.94-2.06-.94L8.5 2.5l-.94 2.06-2.06.94zm10 10l.94 2.06.94-2.06 2.06-.94-2.06-.94-.94-2.06-.94 2.06-2.06.94z\"/><path d=\"M17.41 7.96l-1.37-1.37c-.4-.4-.92-.59-1.43-.59-.52 0-1.04.2-1.43.59L10.3 9.45l-7.72 7.72c-.78.78-.78 2.05 0 2.83L4 21.41c.39.39.9.59 1.41.59.51 0 1.02-.2 1.41-.59l7.78-7.78 2.81-2.81c.8-.78.8-2.07 0-2.86zM5.41 20L4 18.59l7.72-7.72 1.47 1.35L5.41 20z\"/>\n",
              "  </svg>\n",
              "      </button>\n",
              "      \n",
              "  <style>\n",
              "    .colab-df-container {\n",
              "      display:flex;\n",
              "      flex-wrap:wrap;\n",
              "      gap: 12px;\n",
              "    }\n",
              "\n",
              "    .colab-df-convert {\n",
              "      background-color: #E8F0FE;\n",
              "      border: none;\n",
              "      border-radius: 50%;\n",
              "      cursor: pointer;\n",
              "      display: none;\n",
              "      fill: #1967D2;\n",
              "      height: 32px;\n",
              "      padding: 0 0 0 0;\n",
              "      width: 32px;\n",
              "    }\n",
              "\n",
              "    .colab-df-convert:hover {\n",
              "      background-color: #E2EBFA;\n",
              "      box-shadow: 0px 1px 2px rgba(60, 64, 67, 0.3), 0px 1px 3px 1px rgba(60, 64, 67, 0.15);\n",
              "      fill: #174EA6;\n",
              "    }\n",
              "\n",
              "    [theme=dark] .colab-df-convert {\n",
              "      background-color: #3B4455;\n",
              "      fill: #D2E3FC;\n",
              "    }\n",
              "\n",
              "    [theme=dark] .colab-df-convert:hover {\n",
              "      background-color: #434B5C;\n",
              "      box-shadow: 0px 1px 3px 1px rgba(0, 0, 0, 0.15);\n",
              "      filter: drop-shadow(0px 1px 2px rgba(0, 0, 0, 0.3));\n",
              "      fill: #FFFFFF;\n",
              "    }\n",
              "  </style>\n",
              "\n",
              "      <script>\n",
              "        const buttonEl =\n",
              "          document.querySelector('#df-0e89db54-ebb9-41ac-a3dd-280b7d33f4c6 button.colab-df-convert');\n",
              "        buttonEl.style.display =\n",
              "          google.colab.kernel.accessAllowed ? 'block' : 'none';\n",
              "\n",
              "        async function convertToInteractive(key) {\n",
              "          const element = document.querySelector('#df-0e89db54-ebb9-41ac-a3dd-280b7d33f4c6');\n",
              "          const dataTable =\n",
              "            await google.colab.kernel.invokeFunction('convertToInteractive',\n",
              "                                                     [key], {});\n",
              "          if (!dataTable) return;\n",
              "\n",
              "          const docLinkHtml = 'Like what you see? Visit the ' +\n",
              "            '<a target=\"_blank\" href=https://colab.research.google.com/notebooks/data_table.ipynb>data table notebook</a>'\n",
              "            + ' to learn more about interactive tables.';\n",
              "          element.innerHTML = '';\n",
              "          dataTable['output_type'] = 'display_data';\n",
              "          await google.colab.output.renderOutput(dataTable, element);\n",
              "          const docLink = document.createElement('div');\n",
              "          docLink.innerHTML = docLinkHtml;\n",
              "          element.appendChild(docLink);\n",
              "        }\n",
              "      </script>\n",
              "    </div>\n",
              "  </div>\n",
              "  "
            ],
            "text/plain": [
              "            horsepower  city_mpg    length     price\n",
              "horsepower    1.000000 -0.763573  0.577923  0.810795\n",
              "city_mpg     -0.763573  1.000000 -0.633185 -0.657661\n",
              "length        0.577923 -0.633185  1.000000  0.690628\n",
              "price         0.810795 -0.657661  0.690628  1.000000"
            ]
          },
          "metadata": {},
          "execution_count": 12
        }
      ]
    },
    {
      "cell_type": "code",
      "source": [
        "sns.heatmap(data_frame_1, annot=True)"
      ],
      "metadata": {
        "colab": {
          "base_uri": "https://localhost:8080/",
          "height": 287
        },
        "id": "70CN07TaOjuj",
        "outputId": "e03a3d33-57b1-4eaf-b15d-95b8b9ad96be"
      },
      "execution_count": 13,
      "outputs": [
        {
          "output_type": "execute_result",
          "data": {
            "text/plain": [
              "<matplotlib.axes._subplots.AxesSubplot at 0x7f04a3c07990>"
            ]
          },
          "metadata": {},
          "execution_count": 13
        },
        {
          "output_type": "display_data",
          "data": {
            "image/png": "[encoded data removed]",
            "text/plain": [
              "<Figure size 432x288 with 2 Axes>"
            ]
          },
          "metadata": {
            "needs_background": "light"
          }
        }
      ]
    },
    {
      "cell_type": "code",
      "source": [
        "sns.lmplot('horsepower','price', colunas_selecionadas)"
      ],
      "metadata": {
        "colab": {
          "base_uri": "https://localhost:8080/",
          "height": 441
        },
        "id": "q79yYORJTYya",
        "outputId": "12890d0c-4b08-4144-fc03-488e2b56fdab"
      },
      "execution_count": 14,
      "outputs": [
        {
          "output_type": "stream",
          "name": "stderr",
          "text": [
            "/usr/local/lib/python3.7/dist-packages/seaborn/_decorators.py:43: FutureWarning: Pass the following variables as keyword args: x, y, data. From version 0.12, the only valid positional argument will be `data`, and passing other arguments without an explicit keyword will result in an error or misinterpretation.\n",
            "  FutureWarning\n"
          ]
        },
        {
          "output_type": "execute_result",
          "data": {
            "text/plain": [
              "<seaborn.axisgrid.FacetGrid at 0x7f04a3b27b50>"
            ]
          },
          "metadata": {},
          "execution_count": 14
        },
        {
          "output_type": "display_data",
          "data": {
            "image/png": "[encoded data removed]",
            "text/plain": [
              "<Figure size 360x360 with 1 Axes>"
            ]
          },
          "metadata": {
            "needs_background": "light"
          }
        }
      ]
    },
    {
      "cell_type": "code",
      "source": [
        "sns.lmplot('horsepower','city_mpg', colunas_selecionadas)"
      ],
      "metadata": {
        "colab": {
          "base_uri": "https://localhost:8080/",
          "height": 441
        },
        "id": "UodNRTAaT4b9",
        "outputId": "a0b8b5ad-f58d-4ee3-907f-1e057d548542"
      },
      "execution_count": 15,
      "outputs": [
        {
          "output_type": "stream",
          "name": "stderr",
          "text": [
            "/usr/local/lib/python3.7/dist-packages/seaborn/_decorators.py:43: FutureWarning: Pass the following variables as keyword args: x, y, data. From version 0.12, the only valid positional argument will be `data`, and passing other arguments without an explicit keyword will result in an error or misinterpretation.\n",
            "  FutureWarning\n"
          ]
        },
        {
          "output_type": "execute_result",
          "data": {
            "text/plain": [
              "<seaborn.axisgrid.FacetGrid at 0x7f04a3acb750>"
            ]
          },
          "metadata": {},
          "execution_count": 15
        },
        {
          "output_type": "display_data",
          "data": {
            "image/png": "[encoded data removed]",
            "text/plain": [
              "<Figure size 360x360 with 1 Axes>"
            ]
          },
          "metadata": {
            "needs_background": "light"
          }
        }
      ]
    },
    {
      "cell_type": "code",
      "source": [
        "data_frame_2 = pd.DataFrame((corre), index = ['price ','curb_weight','engine_size','horsepower'], columns = ['price ','curb_weight','engine_size','horsepower'])\n",
        "data_frame_2"
      ],
      "metadata": {
        "colab": {
          "base_uri": "https://localhost:8080/",
          "height": 175
        },
        "id": "IFKi7IluPJeU",
        "outputId": "c50a1d88-5a27-41d4-ea57-4bbe8cd59f49"
      },
      "execution_count": 16,
      "outputs": [
        {
          "output_type": "execute_result",
          "data": {
            "text/html": [
              "\n",
              "  <div id=\"df-bb2d9846-db4c-4059-8691-5683c906a16f\">\n",
              "    <div class=\"colab-df-container\">\n",
              "      <div>\n",
              "<style scoped>\n",
              "    .dataframe tbody tr th:only-of-type {\n",
              "        vertical-align: middle;\n",
              "    }\n",
              "\n",
              "    .dataframe tbody tr th {\n",
              "        vertical-align: top;\n",
              "    }\n",
              "\n",
              "    .dataframe thead th {\n",
              "        text-align: right;\n",
              "    }\n",
              "</style>\n",
              "<table border=\"1\" class=\"dataframe\">\n",
              "  <thead>\n",
              "    <tr style=\"text-align: right;\">\n",
              "      <th></th>\n",
              "      <th>price</th>\n",
              "      <th>curb_weight</th>\n",
              "      <th>engine_size</th>\n",
              "      <th>horsepower</th>\n",
              "    </tr>\n",
              "  </thead>\n",
              "  <tbody>\n",
              "    <tr>\n",
              "      <th>price</th>\n",
              "      <td>NaN</td>\n",
              "      <td>NaN</td>\n",
              "      <td>NaN</td>\n",
              "      <td>NaN</td>\n",
              "    </tr>\n",
              "    <tr>\n",
              "      <th>curb_weight</th>\n",
              "      <td>NaN</td>\n",
              "      <td>1.000000</td>\n",
              "      <td>0.849072</td>\n",
              "      <td>0.757762</td>\n",
              "    </tr>\n",
              "    <tr>\n",
              "      <th>engine_size</th>\n",
              "      <td>NaN</td>\n",
              "      <td>0.849072</td>\n",
              "      <td>1.000000</td>\n",
              "      <td>0.821685</td>\n",
              "    </tr>\n",
              "    <tr>\n",
              "      <th>horsepower</th>\n",
              "      <td>NaN</td>\n",
              "      <td>0.757762</td>\n",
              "      <td>0.821685</td>\n",
              "      <td>1.000000</td>\n",
              "    </tr>\n",
              "  </tbody>\n",
              "</table>\n",
              "</div>\n",
              "      <button class=\"colab-df-convert\" onclick=\"convertToInteractive('df-bb2d9846-db4c-4059-8691-5683c906a16f')\"\n",
              "              title=\"Convert this dataframe to an interactive table.\"\n",
              "              style=\"display:none;\">\n",
              "        \n",
              "  <svg xmlns=\"http://www.w3.org/2000/svg\" height=\"24px\"viewBox=\"0 0 24 24\"\n",
              "       width=\"24px\">\n",
              "    <path d=\"M0 0h24v24H0V0z\" fill=\"none\"/>\n",
              "    <path d=\"M18.56 5.44l.94 2.06.94-2.06 2.06-.94-2.06-.94-.94-2.06-.94 2.06-2.06.94zm-11 1L8.5 8.5l.94-2.06 2.06-.94-2.06-.94L8.5 2.5l-.94 2.06-2.06.94zm10 10l.94 2.06.94-2.06 2.06-.94-2.06-.94-.94-2.06-.94 2.06-2.06.94z\"/><path d=\"M17.41 7.96l-1.37-1.37c-.4-.4-.92-.59-1.43-.59-.52 0-1.04.2-1.43.59L10.3 9.45l-7.72 7.72c-.78.78-.78 2.05 0 2.83L4 21.41c.39.39.9.59 1.41.59.51 0 1.02-.2 1.41-.59l7.78-7.78 2.81-2.81c.8-.78.8-2.07 0-2.86zM5.41 20L4 18.59l7.72-7.72 1.47 1.35L5.41 20z\"/>\n",
              "  </svg>\n",
              "      </button>\n",
              "      \n",
              "  <style>\n",
              "    .colab-df-container {\n",
              "      display:flex;\n",
              "      flex-wrap:wrap;\n",
              "      gap: 12px;\n",
              "    }\n",
              "\n",
              "    .colab-df-convert {\n",
              "      background-color: #E8F0FE;\n",
              "      border: none;\n",
              "      border-radius: 50%;\n",
              "      cursor: pointer;\n",
              "      display: none;\n",
              "      fill: #1967D2;\n",
              "      height: 32px;\n",
              "      padding: 0 0 0 0;\n",
              "      width: 32px;\n",
              "    }\n",
              "\n",
              "    .colab-df-convert:hover {\n",
              "      background-color: #E2EBFA;\n",
              "      box-shadow: 0px 1px 2px rgba(60, 64, 67, 0.3), 0px 1px 3px 1px rgba(60, 64, 67, 0.15);\n",
              "      fill: #174EA6;\n",
              "    }\n",
              "\n",
              "    [theme=dark] .colab-df-convert {\n",
              "      background-color: #3B4455;\n",
              "      fill: #D2E3FC;\n",
              "    }\n",
              "\n",
              "    [theme=dark] .colab-df-convert:hover {\n",
              "      background-color: #434B5C;\n",
              "      box-shadow: 0px 1px 3px 1px rgba(0, 0, 0, 0.15);\n",
              "      filter: drop-shadow(0px 1px 2px rgba(0, 0, 0, 0.3));\n",
              "      fill: #FFFFFF;\n",
              "    }\n",
              "  </style>\n",
              "\n",
              "      <script>\n",
              "        const buttonEl =\n",
              "          document.querySelector('#df-bb2d9846-db4c-4059-8691-5683c906a16f button.colab-df-convert');\n",
              "        buttonEl.style.display =\n",
              "          google.colab.kernel.accessAllowed ? 'block' : 'none';\n",
              "\n",
              "        async function convertToInteractive(key) {\n",
              "          const element = document.querySelector('#df-bb2d9846-db4c-4059-8691-5683c906a16f');\n",
              "          const dataTable =\n",
              "            await google.colab.kernel.invokeFunction('convertToInteractive',\n",
              "                                                     [key], {});\n",
              "          if (!dataTable) return;\n",
              "\n",
              "          const docLinkHtml = 'Like what you see? Visit the ' +\n",
              "            '<a target=\"_blank\" href=https://colab.research.google.com/notebooks/data_table.ipynb>data table notebook</a>'\n",
              "            + ' to learn more about interactive tables.';\n",
              "          element.innerHTML = '';\n",
              "          dataTable['output_type'] = 'display_data';\n",
              "          await google.colab.output.renderOutput(dataTable, element);\n",
              "          const docLink = document.createElement('div');\n",
              "          docLink.innerHTML = docLinkHtml;\n",
              "          element.appendChild(docLink);\n",
              "        }\n",
              "      </script>\n",
              "    </div>\n",
              "  </div>\n",
              "  "
            ],
            "text/plain": [
              "             price   curb_weight  engine_size  horsepower\n",
              "price           NaN          NaN          NaN         NaN\n",
              "curb_weight     NaN     1.000000     0.849072    0.757762\n",
              "engine_size     NaN     0.849072     1.000000    0.821685\n",
              "horsepower      NaN     0.757762     0.821685    1.000000"
            ]
          },
          "metadata": {},
          "execution_count": 16
        }
      ]
    },
    {
      "cell_type": "code",
      "source": [
        "sns.heatmap(data_frame_2, annot=True)"
      ],
      "metadata": {
        "colab": {
          "base_uri": "https://localhost:8080/",
          "height": 287
        },
        "id": "FUXjHBTTP9zX",
        "outputId": "c47afb05-0eef-4bbe-ef4f-4a8b16e8cb9c"
      },
      "execution_count": 17,
      "outputs": [
        {
          "output_type": "execute_result",
          "data": {
            "text/plain": [
              "<matplotlib.axes._subplots.AxesSubplot at 0x7f04a3a38e50>"
            ]
          },
          "metadata": {},
          "execution_count": 17
        },
        {
          "output_type": "display_data",
          "data": {
            "image/png": "[encoded data removed]",
            "text/plain": [
              "<Figure size 432x288 with 2 Axes>"
            ]
          },
          "metadata": {
            "needs_background": "light"
          }
        }
      ]
    },
    {
      "cell_type": "code",
      "source": [
        "sns.lmplot('price','curb_weight', colunas_selecionadas)"
      ],
      "metadata": {
        "colab": {
          "base_uri": "https://localhost:8080/",
          "height": 441
        },
        "id": "GpsWDHAMU4aj",
        "outputId": "7a304202-af72-4a00-efe5-2e57f7647004"
      },
      "execution_count": 18,
      "outputs": [
        {
          "output_type": "stream",
          "name": "stderr",
          "text": [
            "/usr/local/lib/python3.7/dist-packages/seaborn/_decorators.py:43: FutureWarning: Pass the following variables as keyword args: x, y, data. From version 0.12, the only valid positional argument will be `data`, and passing other arguments without an explicit keyword will result in an error or misinterpretation.\n",
            "  FutureWarning\n"
          ]
        },
        {
          "output_type": "execute_result",
          "data": {
            "text/plain": [
              "<seaborn.axisgrid.FacetGrid at 0x7f04a3967290>"
            ]
          },
          "metadata": {},
          "execution_count": 18
        },
        {
          "output_type": "display_data",
          "data": {
            "image/png": "[encoded data removed]",
            "text/plain": [
              "<Figure size 360x360 with 1 Axes>"
            ]
          },
          "metadata": {
            "needs_background": "light"
          }
        }
      ]
    },
    {
      "cell_type": "code",
      "source": [
        "data_frame_3 = pd.DataFrame((corre), index = ['length','width'], columns = ['length','width'])\n",
        "data_frame_3"
      ],
      "metadata": {
        "colab": {
          "base_uri": "https://localhost:8080/",
          "height": 112
        },
        "id": "PzOAdZ_RRj5p",
        "outputId": "c25566be-ee8e-403f-a634-0e782be38ce1"
      },
      "execution_count": 19,
      "outputs": [
        {
          "output_type": "execute_result",
          "data": {
            "text/html": [
              "\n",
              "  <div id=\"df-b6df0ad9-ed1d-4f04-a781-4e9a5579a623\">\n",
              "    <div class=\"colab-df-container\">\n",
              "      <div>\n",
              "<style scoped>\n",
              "    .dataframe tbody tr th:only-of-type {\n",
              "        vertical-align: middle;\n",
              "    }\n",
              "\n",
              "    .dataframe tbody tr th {\n",
              "        vertical-align: top;\n",
              "    }\n",
              "\n",
              "    .dataframe thead th {\n",
              "        text-align: right;\n",
              "    }\n",
              "</style>\n",
              "<table border=\"1\" class=\"dataframe\">\n",
              "  <thead>\n",
              "    <tr style=\"text-align: right;\">\n",
              "      <th></th>\n",
              "      <th>length</th>\n",
              "      <th>width</th>\n",
              "    </tr>\n",
              "  </thead>\n",
              "  <tbody>\n",
              "    <tr>\n",
              "      <th>length</th>\n",
              "      <td>1.00000</td>\n",
              "      <td>0.85717</td>\n",
              "    </tr>\n",
              "    <tr>\n",
              "      <th>width</th>\n",
              "      <td>0.85717</td>\n",
              "      <td>1.00000</td>\n",
              "    </tr>\n",
              "  </tbody>\n",
              "</table>\n",
              "</div>\n",
              "      <button class=\"colab-df-convert\" onclick=\"convertToInteractive('df-b6df0ad9-ed1d-4f04-a781-4e9a5579a623')\"\n",
              "              title=\"Convert this dataframe to an interactive table.\"\n",
              "              style=\"display:none;\">\n",
              "        \n",
              "  <svg xmlns=\"http://www.w3.org/2000/svg\" height=\"24px\"viewBox=\"0 0 24 24\"\n",
              "       width=\"24px\">\n",
              "    <path d=\"M0 0h24v24H0V0z\" fill=\"none\"/>\n",
              "    <path d=\"M18.56 5.44l.94 2.06.94-2.06 2.06-.94-2.06-.94-.94-2.06-.94 2.06-2.06.94zm-11 1L8.5 8.5l.94-2.06 2.06-.94-2.06-.94L8.5 2.5l-.94 2.06-2.06.94zm10 10l.94 2.06.94-2.06 2.06-.94-2.06-.94-.94-2.06-.94 2.06-2.06.94z\"/><path d=\"M17.41 7.96l-1.37-1.37c-.4-.4-.92-.59-1.43-.59-.52 0-1.04.2-1.43.59L10.3 9.45l-7.72 7.72c-.78.78-.78 2.05 0 2.83L4 21.41c.39.39.9.59 1.41.59.51 0 1.02-.2 1.41-.59l7.78-7.78 2.81-2.81c.8-.78.8-2.07 0-2.86zM5.41 20L4 18.59l7.72-7.72 1.47 1.35L5.41 20z\"/>\n",
              "  </svg>\n",
              "      </button>\n",
              "      \n",
              "  <style>\n",
              "    .colab-df-container {\n",
              "      display:flex;\n",
              "      flex-wrap:wrap;\n",
              "      gap: 12px;\n",
              "    }\n",
              "\n",
              "    .colab-df-convert {\n",
              "      background-color: #E8F0FE;\n",
              "      border: none;\n",
              "      border-radius: 50%;\n",
              "      cursor: pointer;\n",
              "      display: none;\n",
              "      fill: #1967D2;\n",
              "      height: 32px;\n",
              "      padding: 0 0 0 0;\n",
              "      width: 32px;\n",
              "    }\n",
              "\n",
              "    .colab-df-convert:hover {\n",
              "      background-color: #E2EBFA;\n",
              "      box-shadow: 0px 1px 2px rgba(60, 64, 67, 0.3), 0px 1px 3px 1px rgba(60, 64, 67, 0.15);\n",
              "      fill: #174EA6;\n",
              "    }\n",
              "\n",
              "    [theme=dark] .colab-df-convert {\n",
              "      background-color: #3B4455;\n",
              "      fill: #D2E3FC;\n",
              "    }\n",
              "\n",
              "    [theme=dark] .colab-df-convert:hover {\n",
              "      background-color: #434B5C;\n",
              "      box-shadow: 0px 1px 3px 1px rgba(0, 0, 0, 0.15);\n",
              "      filter: drop-shadow(0px 1px 2px rgba(0, 0, 0, 0.3));\n",
              "      fill: #FFFFFF;\n",
              "    }\n",
              "  </style>\n",
              "\n",
              "      <script>\n",
              "        const buttonEl =\n",
              "          document.querySelector('#df-b6df0ad9-ed1d-4f04-a781-4e9a5579a623 button.colab-df-convert');\n",
              "        buttonEl.style.display =\n",
              "          google.colab.kernel.accessAllowed ? 'block' : 'none';\n",
              "\n",
              "        async function convertToInteractive(key) {\n",
              "          const element = document.querySelector('#df-b6df0ad9-ed1d-4f04-a781-4e9a5579a623');\n",
              "          const dataTable =\n",
              "            await google.colab.kernel.invokeFunction('convertToInteractive',\n",
              "                                                     [key], {});\n",
              "          if (!dataTable) return;\n",
              "\n",
              "          const docLinkHtml = 'Like what you see? Visit the ' +\n",
              "            '<a target=\"_blank\" href=https://colab.research.google.com/notebooks/data_table.ipynb>data table notebook</a>'\n",
              "            + ' to learn more about interactive tables.';\n",
              "          element.innerHTML = '';\n",
              "          dataTable['output_type'] = 'display_data';\n",
              "          await google.colab.output.renderOutput(dataTable, element);\n",
              "          const docLink = document.createElement('div');\n",
              "          docLink.innerHTML = docLinkHtml;\n",
              "          element.appendChild(docLink);\n",
              "        }\n",
              "      </script>\n",
              "    </div>\n",
              "  </div>\n",
              "  "
            ],
            "text/plain": [
              "         length    width\n",
              "length  1.00000  0.85717\n",
              "width   0.85717  1.00000"
            ]
          },
          "metadata": {},
          "execution_count": 19
        }
      ]
    },
    {
      "cell_type": "code",
      "source": [
        "sns.lmplot('length','width', colunas_selecionadas)"
      ],
      "metadata": {
        "colab": {
          "base_uri": "https://localhost:8080/",
          "height": 441
        },
        "id": "zOyYTKnORN71",
        "outputId": "dea8aa46-ed7f-424c-98ea-35d6330f52e4"
      },
      "execution_count": 20,
      "outputs": [
        {
          "output_type": "stream",
          "name": "stderr",
          "text": [
            "/usr/local/lib/python3.7/dist-packages/seaborn/_decorators.py:43: FutureWarning: Pass the following variables as keyword args: x, y, data. From version 0.12, the only valid positional argument will be `data`, and passing other arguments without an explicit keyword will result in an error or misinterpretation.\n",
            "  FutureWarning\n"
          ]
        },
        {
          "output_type": "execute_result",
          "data": {
            "text/plain": [
              "<seaborn.axisgrid.FacetGrid at 0x7f04a38fba10>"
            ]
          },
          "metadata": {},
          "execution_count": 20
        },
        {
          "output_type": "display_data",
          "data": {
            "image/png": "[encoded data removed]",
            "text/plain": [
              "<Figure size 360x360 with 1 Axes>"
            ]
          },
          "metadata": {
            "needs_background": "light"
          }
        }
      ]
    },
    {
      "cell_type": "markdown",
      "source": [
        "**Pergunta:** Cite um exemplo de pelo menos os 3 cenários propostos que corroboram a leitura dos dados apresentados, justique sua resposta."
      ],
      "metadata": {
        "id": "wv5ReeFx2cyS"
      }
    },
    {
      "cell_type": "markdown",
      "source": [
        "**Resposta:** \n",
        "\n",
        "data_frame_1 - Quanto menor a potência (horsepower) menor é o consumo do carro (city_mpg) e maior é o preço\n",
        "\n",
        "data_frame_2 - Quanto maior o preço maior o peso e tamanho do carro e consequentemente a potencia\n",
        "\n",
        "data_frame_3 - Quanto maior o comprimento maior a largura do carro"
      ],
      "metadata": {
        "id": "8k3MekCf2cyS"
      }
    },
    {
      "cell_type": "markdown",
      "source": [
        "## Preparação dos Dados"
      ],
      "metadata": {
        "id": "g36104L72cyV"
      }
    },
    {
      "cell_type": "markdown",
      "source": [
        "### Identificação de Outliers Visualmente"
      ],
      "metadata": {
        "id": "sCpDz3CE2cyV"
      }
    },
    {
      "cell_type": "markdown",
      "source": [
        "Utilize visualizações gráficas para encontrar outliers em todos os atributos deste dataset.\n",
        "Ainda não vamos remover ou atualizar os valores, por enquanto é uma análise exploratória.\n",
        "\n",
        "Lembre-se que cada atributo possui um valor e dimensão diferente, portanto comparações devem estar em uma mesma base, por exemplo, __price__ não pode ser comparado com __width__ pois os eixos __y__ estarão sem proporção."
      ],
      "metadata": {
        "id": "xJIKRB4y2cyX"
      }
    },
    {
      "cell_type": "code",
      "execution_count": 21,
      "source": [
        "#IMPLEMENTAÇÃO\n",
        "colunas_selecionadas_norm = autom[['price','horsepower']]\n",
        "data_frame_1_norm = colunas_selecionadas_norm.copy()\n",
        "data_frame_1_norm['price'] = colunas_selecionadas_norm['price'].div(data_frame_1_norm['price'].sum(), axis=0)\n",
        "data_frame_1_norm['horsepower'] =colunas_selecionadas_norm['horsepower'].div(data_frame_1_norm['horsepower'].sum(), axis=0)\n",
        "data_frame_1_norm"
      ],
      "outputs": [
        {
          "output_type": "execute_result",
          "data": {
            "text/html": [
              "\n",
              "  <div id=\"df-f898c5ad-fb13-4daf-832f-02285d836789\">\n",
              "    <div class=\"colab-df-container\">\n",
              "      <div>\n",
              "<style scoped>\n",
              "    .dataframe tbody tr th:only-of-type {\n",
              "        vertical-align: middle;\n",
              "    }\n",
              "\n",
              "    .dataframe tbody tr th {\n",
              "        vertical-align: top;\n",
              "    }\n",
              "\n",
              "    .dataframe thead th {\n",
              "        text-align: right;\n",
              "    }\n",
              "</style>\n",
              "<table border=\"1\" class=\"dataframe\">\n",
              "  <thead>\n",
              "    <tr style=\"text-align: right;\">\n",
              "      <th></th>\n",
              "      <th>price</th>\n",
              "      <th>horsepower</th>\n",
              "    </tr>\n",
              "  </thead>\n",
              "  <tbody>\n",
              "    <tr>\n",
              "      <th>0</th>\n",
              "      <td>0.005084</td>\n",
              "      <td>0.005348</td>\n",
              "    </tr>\n",
              "    <tr>\n",
              "      <th>1</th>\n",
              "      <td>0.006216</td>\n",
              "      <td>0.005348</td>\n",
              "    </tr>\n",
              "    <tr>\n",
              "      <th>2</th>\n",
              "      <td>0.006216</td>\n",
              "      <td>0.007420</td>\n",
              "    </tr>\n",
              "    <tr>\n",
              "      <th>3</th>\n",
              "      <td>0.005255</td>\n",
              "      <td>0.004914</td>\n",
              "    </tr>\n",
              "    <tr>\n",
              "      <th>4</th>\n",
              "      <td>0.006573</td>\n",
              "      <td>0.005541</td>\n",
              "    </tr>\n",
              "    <tr>\n",
              "      <th>...</th>\n",
              "      <td>...</td>\n",
              "      <td>...</td>\n",
              "    </tr>\n",
              "    <tr>\n",
              "      <th>196</th>\n",
              "      <td>0.006346</td>\n",
              "      <td>0.005492</td>\n",
              "    </tr>\n",
              "    <tr>\n",
              "      <th>197</th>\n",
              "      <td>0.007174</td>\n",
              "      <td>0.007709</td>\n",
              "    </tr>\n",
              "    <tr>\n",
              "      <th>198</th>\n",
              "      <td>0.008093</td>\n",
              "      <td>0.006456</td>\n",
              "    </tr>\n",
              "    <tr>\n",
              "      <th>199</th>\n",
              "      <td>0.008464</td>\n",
              "      <td>0.005107</td>\n",
              "    </tr>\n",
              "    <tr>\n",
              "      <th>200</th>\n",
              "      <td>0.008523</td>\n",
              "      <td>0.005492</td>\n",
              "    </tr>\n",
              "  </tbody>\n",
              "</table>\n",
              "<p>201 rows × 2 columns</p>\n",
              "</div>\n",
              "      <button class=\"colab-df-convert\" onclick=\"convertToInteractive('df-f898c5ad-fb13-4daf-832f-02285d836789')\"\n",
              "              title=\"Convert this dataframe to an interactive table.\"\n",
              "              style=\"display:none;\">\n",
              "        \n",
              "  <svg xmlns=\"http://www.w3.org/2000/svg\" height=\"24px\"viewBox=\"0 0 24 24\"\n",
              "       width=\"24px\">\n",
              "    <path d=\"M0 0h24v24H0V0z\" fill=\"none\"/>\n",
              "    <path d=\"M18.56 5.44l.94 2.06.94-2.06 2.06-.94-2.06-.94-.94-2.06-.94 2.06-2.06.94zm-11 1L8.5 8.5l.94-2.06 2.06-.94-2.06-.94L8.5 2.5l-.94 2.06-2.06.94zm10 10l.94 2.06.94-2.06 2.06-.94-2.06-.94-.94-2.06-.94 2.06-2.06.94z\"/><path d=\"M17.41 7.96l-1.37-1.37c-.4-.4-.92-.59-1.43-.59-.52 0-1.04.2-1.43.59L10.3 9.45l-7.72 7.72c-.78.78-.78 2.05 0 2.83L4 21.41c.39.39.9.59 1.41.59.51 0 1.02-.2 1.41-.59l7.78-7.78 2.81-2.81c.8-.78.8-2.07 0-2.86zM5.41 20L4 18.59l7.72-7.72 1.47 1.35L5.41 20z\"/>\n",
              "  </svg>\n",
              "      </button>\n",
              "      \n",
              "  <style>\n",
              "    .colab-df-container {\n",
              "      display:flex;\n",
              "      flex-wrap:wrap;\n",
              "      gap: 12px;\n",
              "    }\n",
              "\n",
              "    .colab-df-convert {\n",
              "      background-color: #E8F0FE;\n",
              "      border: none;\n",
              "      border-radius: 50%;\n",
              "      cursor: pointer;\n",
              "      display: none;\n",
              "      fill: #1967D2;\n",
              "      height: 32px;\n",
              "      padding: 0 0 0 0;\n",
              "      width: 32px;\n",
              "    }\n",
              "\n",
              "    .colab-df-convert:hover {\n",
              "      background-color: #E2EBFA;\n",
              "      box-shadow: 0px 1px 2px rgba(60, 64, 67, 0.3), 0px 1px 3px 1px rgba(60, 64, 67, 0.15);\n",
              "      fill: #174EA6;\n",
              "    }\n",
              "\n",
              "    [theme=dark] .colab-df-convert {\n",
              "      background-color: #3B4455;\n",
              "      fill: #D2E3FC;\n",
              "    }\n",
              "\n",
              "    [theme=dark] .colab-df-convert:hover {\n",
              "      background-color: #434B5C;\n",
              "      box-shadow: 0px 1px 3px 1px rgba(0, 0, 0, 0.15);\n",
              "      filter: drop-shadow(0px 1px 2px rgba(0, 0, 0, 0.3));\n",
              "      fill: #FFFFFF;\n",
              "    }\n",
              "  </style>\n",
              "\n",
              "      <script>\n",
              "        const buttonEl =\n",
              "          document.querySelector('#df-f898c5ad-fb13-4daf-832f-02285d836789 button.colab-df-convert');\n",
              "        buttonEl.style.display =\n",
              "          google.colab.kernel.accessAllowed ? 'block' : 'none';\n",
              "\n",
              "        async function convertToInteractive(key) {\n",
              "          const element = document.querySelector('#df-f898c5ad-fb13-4daf-832f-02285d836789');\n",
              "          const dataTable =\n",
              "            await google.colab.kernel.invokeFunction('convertToInteractive',\n",
              "                                                     [key], {});\n",
              "          if (!dataTable) return;\n",
              "\n",
              "          const docLinkHtml = 'Like what you see? Visit the ' +\n",
              "            '<a target=\"_blank\" href=https://colab.research.google.com/notebooks/data_table.ipynb>data table notebook</a>'\n",
              "            + ' to learn more about interactive tables.';\n",
              "          element.innerHTML = '';\n",
              "          dataTable['output_type'] = 'display_data';\n",
              "          await google.colab.output.renderOutput(dataTable, element);\n",
              "          const docLink = document.createElement('div');\n",
              "          docLink.innerHTML = docLinkHtml;\n",
              "          element.appendChild(docLink);\n",
              "        }\n",
              "      </script>\n",
              "    </div>\n",
              "  </div>\n",
              "  "
            ],
            "text/plain": [
              "        price  horsepower\n",
              "0    0.005084    0.005348\n",
              "1    0.006216    0.005348\n",
              "2    0.006216    0.007420\n",
              "3    0.005255    0.004914\n",
              "4    0.006573    0.005541\n",
              "..        ...         ...\n",
              "196  0.006346    0.005492\n",
              "197  0.007174    0.007709\n",
              "198  0.008093    0.006456\n",
              "199  0.008464    0.005107\n",
              "200  0.008523    0.005492\n",
              "\n",
              "[201 rows x 2 columns]"
            ]
          },
          "metadata": {},
          "execution_count": 21
        }
      ],
      "metadata": {
        "collapsed": true,
        "id": "oGeNJCL62cyZ",
        "colab": {
          "base_uri": "https://localhost:8080/",
          "height": 0
        },
        "outputId": "7fc50964-daa5-4fcd-b9fc-b44664bb113b"
      }
    },
    {
      "cell_type": "markdown",
      "source": [
        "Antes de explorar melhor as correlações, vamos analisar se há dados discrepante no conjunto de dados. Analisar os dados sem esta análise antes pode nos levar a algum viés indesejado."
      ],
      "metadata": {
        "id": "7pT27_w_2cye"
      }
    },
    {
      "cell_type": "code",
      "source": [
        "sns.boxplot(data=data_frame_1_norm)"
      ],
      "metadata": {
        "colab": {
          "base_uri": "https://localhost:8080/",
          "height": 0
        },
        "id": "ijufC2LbbWlh",
        "outputId": "3701d1f8-1a6b-4dfb-a06d-8f300e9ccabb"
      },
      "execution_count": 22,
      "outputs": [
        {
          "output_type": "execute_result",
          "data": {
            "text/plain": [
              "<matplotlib.axes._subplots.AxesSubplot at 0x7f04a3882410>"
            ]
          },
          "metadata": {},
          "execution_count": 22
        },
        {
          "output_type": "display_data",
          "data": {
            "image/png": "[encoded data removed]",
            "text/plain": [
              "<Figure size 432x288 with 1 Axes>"
            ]
          },
          "metadata": {
            "needs_background": "light"
          }
        }
      ]
    },
    {
      "cell_type": "markdown",
      "source": [
        "### Análise de valores inválidos"
      ],
      "metadata": {
        "id": "neeU6RU22cyg"
      }
    },
    {
      "cell_type": "markdown",
      "source": [
        "Analise e busque por valores considerados nulos."
      ],
      "metadata": {
        "id": "xs5-IWHy2cyg"
      }
    },
    {
      "cell_type": "code",
      "execution_count": 23,
      "source": [
        "#IMPLEMENTAÇÃO\n",
        "colunas_selecionadas.isnull().any()\n"
      ],
      "outputs": [
        {
          "output_type": "execute_result",
          "data": {
            "text/plain": [
              "make            False\n",
              "engine_size     False\n",
              "horsepower      False\n",
              "city_mpg         True\n",
              "highway_mpg      True\n",
              "drive_wheels    False\n",
              "width           False\n",
              "height          False\n",
              "price           False\n",
              "length          False\n",
              "curb_weight     False\n",
              "dtype: bool"
            ]
          },
          "metadata": {},
          "execution_count": 23
        }
      ],
      "metadata": {
        "collapsed": true,
        "id": "vL3w8-Pc2cyk",
        "colab": {
          "base_uri": "https://localhost:8080/"
        },
        "outputId": "bafc1434-6c2d-4e20-e082-aae3759d09e3"
      }
    },
    {
      "cell_type": "code",
      "source": [
        ""
      ],
      "metadata": {
        "id": "WsceoevpHJm1"
      },
      "execution_count": 23,
      "outputs": []
    },
    {
      "cell_type": "markdown",
      "source": [
        "Para os dados considerados nulos, realize a imputação de dados utilizando um valor apropriado (note que pode haver dados paramétricos e dados numéricos). Justique sua resposta."
      ],
      "metadata": {
        "id": "ya9x-1jW2cyk"
      }
    },
    {
      "cell_type": "code",
      "execution_count": 24,
      "source": [
        "#IMPLEMENTAÇÃO\n",
        "colunas_selecionadas[\"city_mpg\"] = colunas_selecionadas[\"city_mpg\"].replace(np.nan,colunas_selecionadas[\"city_mpg\"].mean())\n",
        "colunas_selecionadas[\"highway_mpg\"] = colunas_selecionadas[\"highway_mpg\"].replace(np.nan,colunas_selecionadas[\"highway_mpg\"].mean())\n"
      ],
      "outputs": [
        {
          "output_type": "stream",
          "name": "stderr",
          "text": [
            "/usr/local/lib/python3.7/dist-packages/ipykernel_launcher.py:2: SettingWithCopyWarning: \n",
            "A value is trying to be set on a copy of a slice from a DataFrame.\n",
            "Try using .loc[row_indexer,col_indexer] = value instead\n",
            "\n",
            "See the caveats in the documentation: https://pandas.pydata.org/pandas-docs/stable/user_guide/indexing.html#returning-a-view-versus-a-copy\n",
            "  \n",
            "/usr/local/lib/python3.7/dist-packages/ipykernel_launcher.py:3: SettingWithCopyWarning: \n",
            "A value is trying to be set on a copy of a slice from a DataFrame.\n",
            "Try using .loc[row_indexer,col_indexer] = value instead\n",
            "\n",
            "See the caveats in the documentation: https://pandas.pydata.org/pandas-docs/stable/user_guide/indexing.html#returning-a-view-versus-a-copy\n",
            "  This is separate from the ipykernel package so we can avoid doing imports until\n"
          ]
        }
      ],
      "metadata": {
        "collapsed": true,
        "id": "ouYo6ule2cyk",
        "colab": {
          "base_uri": "https://localhost:8080/"
        },
        "outputId": "25628090-d790-4616-f5d6-2a525fc633c3"
      }
    },
    {
      "cell_type": "code",
      "source": [
        "colunas_selecionadas.isnull().any()"
      ],
      "metadata": {
        "colab": {
          "base_uri": "https://localhost:8080/"
        },
        "id": "-JrkbjWlOJkC",
        "outputId": "8c883773-87d8-4e2f-a08e-68eca209df6c"
      },
      "execution_count": 25,
      "outputs": [
        {
          "output_type": "execute_result",
          "data": {
            "text/plain": [
              "make            False\n",
              "engine_size     False\n",
              "horsepower      False\n",
              "city_mpg        False\n",
              "highway_mpg     False\n",
              "drive_wheels    False\n",
              "width           False\n",
              "height          False\n",
              "price           False\n",
              "length          False\n",
              "curb_weight     False\n",
              "dtype: bool"
            ]
          },
          "metadata": {},
          "execution_count": 25
        }
      ]
    },
    {
      "cell_type": "markdown",
      "source": [
        "### Análise de valores com valores iguais a 0"
      ],
      "metadata": {
        "id": "SsolhAAJ2cyl"
      }
    },
    {
      "cell_type": "markdown",
      "source": [
        "Analise se no conjunto de dados há valores iguais a 0 e verifique se faz parte do contexto. Caso não faça parte do contexto, utilize alguma técnica de imputação de dados apropriada.\n",
        "\n",
        "Inspecione o dataset por dados iguais a 0."
      ],
      "metadata": {
        "id": "Q5gpaiYr2cyl"
      }
    },
    {
      "cell_type": "code",
      "source": [
        "colunas_selecionadas[colunas_selecionadas[\"price\"] == 0].head(5)"
      ],
      "metadata": {
        "colab": {
          "base_uri": "https://localhost:8080/",
          "height": 49
        },
        "id": "Reqfl8GSvV7l",
        "outputId": "7516c80f-2aef-4336-8732-3ee2a9626b9c"
      },
      "execution_count": 26,
      "outputs": [
        {
          "output_type": "execute_result",
          "data": {
            "text/html": [
              "\n",
              "  <div id=\"df-e28491ea-89f9-462a-8f84-e8ee0db2c33c\">\n",
              "    <div class=\"colab-df-container\">\n",
              "      <div>\n",
              "<style scoped>\n",
              "    .dataframe tbody tr th:only-of-type {\n",
              "        vertical-align: middle;\n",
              "    }\n",
              "\n",
              "    .dataframe tbody tr th {\n",
              "        vertical-align: top;\n",
              "    }\n",
              "\n",
              "    .dataframe thead th {\n",
              "        text-align: right;\n",
              "    }\n",
              "</style>\n",
              "<table border=\"1\" class=\"dataframe\">\n",
              "  <thead>\n",
              "    <tr style=\"text-align: right;\">\n",
              "      <th></th>\n",
              "      <th>make</th>\n",
              "      <th>engine_size</th>\n",
              "      <th>horsepower</th>\n",
              "      <th>city_mpg</th>\n",
              "      <th>highway_mpg</th>\n",
              "      <th>drive_wheels</th>\n",
              "      <th>width</th>\n",
              "      <th>height</th>\n",
              "      <th>price</th>\n",
              "      <th>length</th>\n",
              "      <th>curb_weight</th>\n",
              "    </tr>\n",
              "  </thead>\n",
              "  <tbody>\n",
              "  </tbody>\n",
              "</table>\n",
              "</div>\n",
              "      <button class=\"colab-df-convert\" onclick=\"convertToInteractive('df-e28491ea-89f9-462a-8f84-e8ee0db2c33c')\"\n",
              "              title=\"Convert this dataframe to an interactive table.\"\n",
              "              style=\"display:none;\">\n",
              "        \n",
              "  <svg xmlns=\"http://www.w3.org/2000/svg\" height=\"24px\"viewBox=\"0 0 24 24\"\n",
              "       width=\"24px\">\n",
              "    <path d=\"M0 0h24v24H0V0z\" fill=\"none\"/>\n",
              "    <path d=\"M18.56 5.44l.94 2.06.94-2.06 2.06-.94-2.06-.94-.94-2.06-.94 2.06-2.06.94zm-11 1L8.5 8.5l.94-2.06 2.06-.94-2.06-.94L8.5 2.5l-.94 2.06-2.06.94zm10 10l.94 2.06.94-2.06 2.06-.94-2.06-.94-.94-2.06-.94 2.06-2.06.94z\"/><path d=\"M17.41 7.96l-1.37-1.37c-.4-.4-.92-.59-1.43-.59-.52 0-1.04.2-1.43.59L10.3 9.45l-7.72 7.72c-.78.78-.78 2.05 0 2.83L4 21.41c.39.39.9.59 1.41.59.51 0 1.02-.2 1.41-.59l7.78-7.78 2.81-2.81c.8-.78.8-2.07 0-2.86zM5.41 20L4 18.59l7.72-7.72 1.47 1.35L5.41 20z\"/>\n",
              "  </svg>\n",
              "      </button>\n",
              "      \n",
              "  <style>\n",
              "    .colab-df-container {\n",
              "      display:flex;\n",
              "      flex-wrap:wrap;\n",
              "      gap: 12px;\n",
              "    }\n",
              "\n",
              "    .colab-df-convert {\n",
              "      background-color: #E8F0FE;\n",
              "      border: none;\n",
              "      border-radius: 50%;\n",
              "      cursor: pointer;\n",
              "      display: none;\n",
              "      fill: #1967D2;\n",
              "      height: 32px;\n",
              "      padding: 0 0 0 0;\n",
              "      width: 32px;\n",
              "    }\n",
              "\n",
              "    .colab-df-convert:hover {\n",
              "      background-color: #E2EBFA;\n",
              "      box-shadow: 0px 1px 2px rgba(60, 64, 67, 0.3), 0px 1px 3px 1px rgba(60, 64, 67, 0.15);\n",
              "      fill: #174EA6;\n",
              "    }\n",
              "\n",
              "    [theme=dark] .colab-df-convert {\n",
              "      background-color: #3B4455;\n",
              "      fill: #D2E3FC;\n",
              "    }\n",
              "\n",
              "    [theme=dark] .colab-df-convert:hover {\n",
              "      background-color: #434B5C;\n",
              "      box-shadow: 0px 1px 3px 1px rgba(0, 0, 0, 0.15);\n",
              "      filter: drop-shadow(0px 1px 2px rgba(0, 0, 0, 0.3));\n",
              "      fill: #FFFFFF;\n",
              "    }\n",
              "  </style>\n",
              "\n",
              "      <script>\n",
              "        const buttonEl =\n",
              "          document.querySelector('#df-e28491ea-89f9-462a-8f84-e8ee0db2c33c button.colab-df-convert');\n",
              "        buttonEl.style.display =\n",
              "          google.colab.kernel.accessAllowed ? 'block' : 'none';\n",
              "\n",
              "        async function convertToInteractive(key) {\n",
              "          const element = document.querySelector('#df-e28491ea-89f9-462a-8f84-e8ee0db2c33c');\n",
              "          const dataTable =\n",
              "            await google.colab.kernel.invokeFunction('convertToInteractive',\n",
              "                                                     [key], {});\n",
              "          if (!dataTable) return;\n",
              "\n",
              "          const docLinkHtml = 'Like what you see? Visit the ' +\n",
              "            '<a target=\"_blank\" href=https://colab.research.google.com/notebooks/data_table.ipynb>data table notebook</a>'\n",
              "            + ' to learn more about interactive tables.';\n",
              "          element.innerHTML = '';\n",
              "          dataTable['output_type'] = 'display_data';\n",
              "          await google.colab.output.renderOutput(dataTable, element);\n",
              "          const docLink = document.createElement('div');\n",
              "          docLink.innerHTML = docLinkHtml;\n",
              "          element.appendChild(docLink);\n",
              "        }\n",
              "      </script>\n",
              "    </div>\n",
              "  </div>\n",
              "  "
            ],
            "text/plain": [
              "Empty DataFrame\n",
              "Columns: [make, engine_size, horsepower, city_mpg, highway_mpg, drive_wheels, width, height, price, length, curb_weight]\n",
              "Index: []"
            ]
          },
          "metadata": {},
          "execution_count": 26
        }
      ]
    },
    {
      "cell_type": "code",
      "source": [
        "colunas_selecionadas[colunas_selecionadas[\"price\"] == 0].head(5)"
      ],
      "metadata": {
        "colab": {
          "base_uri": "https://localhost:8080/",
          "height": 49
        },
        "id": "eF-AHip4OdOy",
        "outputId": "fb81b15d-def1-4e91-f847-40d7843bcc1f"
      },
      "execution_count": 27,
      "outputs": [
        {
          "output_type": "execute_result",
          "data": {
            "text/html": [
              "\n",
              "  <div id=\"df-8e2043da-4283-4210-bef8-14c9924e51b6\">\n",
              "    <div class=\"colab-df-container\">\n",
              "      <div>\n",
              "<style scoped>\n",
              "    .dataframe tbody tr th:only-of-type {\n",
              "        vertical-align: middle;\n",
              "    }\n",
              "\n",
              "    .dataframe tbody tr th {\n",
              "        vertical-align: top;\n",
              "    }\n",
              "\n",
              "    .dataframe thead th {\n",
              "        text-align: right;\n",
              "    }\n",
              "</style>\n",
              "<table border=\"1\" class=\"dataframe\">\n",
              "  <thead>\n",
              "    <tr style=\"text-align: right;\">\n",
              "      <th></th>\n",
              "      <th>make</th>\n",
              "      <th>engine_size</th>\n",
              "      <th>horsepower</th>\n",
              "      <th>city_mpg</th>\n",
              "      <th>highway_mpg</th>\n",
              "      <th>drive_wheels</th>\n",
              "      <th>width</th>\n",
              "      <th>height</th>\n",
              "      <th>price</th>\n",
              "      <th>length</th>\n",
              "      <th>curb_weight</th>\n",
              "    </tr>\n",
              "  </thead>\n",
              "  <tbody>\n",
              "  </tbody>\n",
              "</table>\n",
              "</div>\n",
              "      <button class=\"colab-df-convert\" onclick=\"convertToInteractive('df-8e2043da-4283-4210-bef8-14c9924e51b6')\"\n",
              "              title=\"Convert this dataframe to an interactive table.\"\n",
              "              style=\"display:none;\">\n",
              "        \n",
              "  <svg xmlns=\"http://www.w3.org/2000/svg\" height=\"24px\"viewBox=\"0 0 24 24\"\n",
              "       width=\"24px\">\n",
              "    <path d=\"M0 0h24v24H0V0z\" fill=\"none\"/>\n",
              "    <path d=\"M18.56 5.44l.94 2.06.94-2.06 2.06-.94-2.06-.94-.94-2.06-.94 2.06-2.06.94zm-11 1L8.5 8.5l.94-2.06 2.06-.94-2.06-.94L8.5 2.5l-.94 2.06-2.06.94zm10 10l.94 2.06.94-2.06 2.06-.94-2.06-.94-.94-2.06-.94 2.06-2.06.94z\"/><path d=\"M17.41 7.96l-1.37-1.37c-.4-.4-.92-.59-1.43-.59-.52 0-1.04.2-1.43.59L10.3 9.45l-7.72 7.72c-.78.78-.78 2.05 0 2.83L4 21.41c.39.39.9.59 1.41.59.51 0 1.02-.2 1.41-.59l7.78-7.78 2.81-2.81c.8-.78.8-2.07 0-2.86zM5.41 20L4 18.59l7.72-7.72 1.47 1.35L5.41 20z\"/>\n",
              "  </svg>\n",
              "      </button>\n",
              "      \n",
              "  <style>\n",
              "    .colab-df-container {\n",
              "      display:flex;\n",
              "      flex-wrap:wrap;\n",
              "      gap: 12px;\n",
              "    }\n",
              "\n",
              "    .colab-df-convert {\n",
              "      background-color: #E8F0FE;\n",
              "      border: none;\n",
              "      border-radius: 50%;\n",
              "      cursor: pointer;\n",
              "      display: none;\n",
              "      fill: #1967D2;\n",
              "      height: 32px;\n",
              "      padding: 0 0 0 0;\n",
              "      width: 32px;\n",
              "    }\n",
              "\n",
              "    .colab-df-convert:hover {\n",
              "      background-color: #E2EBFA;\n",
              "      box-shadow: 0px 1px 2px rgba(60, 64, 67, 0.3), 0px 1px 3px 1px rgba(60, 64, 67, 0.15);\n",
              "      fill: #174EA6;\n",
              "    }\n",
              "\n",
              "    [theme=dark] .colab-df-convert {\n",
              "      background-color: #3B4455;\n",
              "      fill: #D2E3FC;\n",
              "    }\n",
              "\n",
              "    [theme=dark] .colab-df-convert:hover {\n",
              "      background-color: #434B5C;\n",
              "      box-shadow: 0px 1px 3px 1px rgba(0, 0, 0, 0.15);\n",
              "      filter: drop-shadow(0px 1px 2px rgba(0, 0, 0, 0.3));\n",
              "      fill: #FFFFFF;\n",
              "    }\n",
              "  </style>\n",
              "\n",
              "      <script>\n",
              "        const buttonEl =\n",
              "          document.querySelector('#df-8e2043da-4283-4210-bef8-14c9924e51b6 button.colab-df-convert');\n",
              "        buttonEl.style.display =\n",
              "          google.colab.kernel.accessAllowed ? 'block' : 'none';\n",
              "\n",
              "        async function convertToInteractive(key) {\n",
              "          const element = document.querySelector('#df-8e2043da-4283-4210-bef8-14c9924e51b6');\n",
              "          const dataTable =\n",
              "            await google.colab.kernel.invokeFunction('convertToInteractive',\n",
              "                                                     [key], {});\n",
              "          if (!dataTable) return;\n",
              "\n",
              "          const docLinkHtml = 'Like what you see? Visit the ' +\n",
              "            '<a target=\"_blank\" href=https://colab.research.google.com/notebooks/data_table.ipynb>data table notebook</a>'\n",
              "            + ' to learn more about interactive tables.';\n",
              "          element.innerHTML = '';\n",
              "          dataTable['output_type'] = 'display_data';\n",
              "          await google.colab.output.renderOutput(dataTable, element);\n",
              "          const docLink = document.createElement('div');\n",
              "          docLink.innerHTML = docLinkHtml;\n",
              "          element.appendChild(docLink);\n",
              "        }\n",
              "      </script>\n",
              "    </div>\n",
              "  </div>\n",
              "  "
            ],
            "text/plain": [
              "Empty DataFrame\n",
              "Columns: [make, engine_size, horsepower, city_mpg, highway_mpg, drive_wheels, width, height, price, length, curb_weight]\n",
              "Index: []"
            ]
          },
          "metadata": {},
          "execution_count": 27
        }
      ]
    },
    {
      "cell_type": "code",
      "source": [
        "colunas_selecionadas[colunas_selecionadas[\"city_mpg\"] == 0].head(5)"
      ],
      "metadata": {
        "colab": {
          "base_uri": "https://localhost:8080/",
          "height": 112
        },
        "id": "RMIMe5ANvguk",
        "outputId": "0d8efcbb-9a65-4b44-954a-59e1d5a0872c"
      },
      "execution_count": 28,
      "outputs": [
        {
          "output_type": "execute_result",
          "data": {
            "text/html": [
              "\n",
              "  <div id=\"df-884a9aca-4b7a-4f43-a958-0ecb9ccb88f3\">\n",
              "    <div class=\"colab-df-container\">\n",
              "      <div>\n",
              "<style scoped>\n",
              "    .dataframe tbody tr th:only-of-type {\n",
              "        vertical-align: middle;\n",
              "    }\n",
              "\n",
              "    .dataframe tbody tr th {\n",
              "        vertical-align: top;\n",
              "    }\n",
              "\n",
              "    .dataframe thead th {\n",
              "        text-align: right;\n",
              "    }\n",
              "</style>\n",
              "<table border=\"1\" class=\"dataframe\">\n",
              "  <thead>\n",
              "    <tr style=\"text-align: right;\">\n",
              "      <th></th>\n",
              "      <th>make</th>\n",
              "      <th>engine_size</th>\n",
              "      <th>horsepower</th>\n",
              "      <th>city_mpg</th>\n",
              "      <th>highway_mpg</th>\n",
              "      <th>drive_wheels</th>\n",
              "      <th>width</th>\n",
              "      <th>height</th>\n",
              "      <th>price</th>\n",
              "      <th>length</th>\n",
              "      <th>curb_weight</th>\n",
              "    </tr>\n",
              "  </thead>\n",
              "  <tbody>\n",
              "    <tr>\n",
              "      <th>66</th>\n",
              "      <td>mercedes-benz</td>\n",
              "      <td>183</td>\n",
              "      <td>123</td>\n",
              "      <td>0.0</td>\n",
              "      <td>25.0</td>\n",
              "      <td>rwd</td>\n",
              "      <td>70.3</td>\n",
              "      <td>54.9</td>\n",
              "      <td>28176</td>\n",
              "      <td>187.5</td>\n",
              "      <td>3495</td>\n",
              "    </tr>\n",
              "    <tr>\n",
              "      <th>181</th>\n",
              "      <td>volkswagen</td>\n",
              "      <td>109</td>\n",
              "      <td>85</td>\n",
              "      <td>0.0</td>\n",
              "      <td>34.0</td>\n",
              "      <td>fwd</td>\n",
              "      <td>65.5</td>\n",
              "      <td>55.7</td>\n",
              "      <td>8195</td>\n",
              "      <td>171.7</td>\n",
              "      <td>2212</td>\n",
              "    </tr>\n",
              "  </tbody>\n",
              "</table>\n",
              "</div>\n",
              "      <button class=\"colab-df-convert\" onclick=\"convertToInteractive('df-884a9aca-4b7a-4f43-a958-0ecb9ccb88f3')\"\n",
              "              title=\"Convert this dataframe to an interactive table.\"\n",
              "              style=\"display:none;\">\n",
              "        \n",
              "  <svg xmlns=\"http://www.w3.org/2000/svg\" height=\"24px\"viewBox=\"0 0 24 24\"\n",
              "       width=\"24px\">\n",
              "    <path d=\"M0 0h24v24H0V0z\" fill=\"none\"/>\n",
              "    <path d=\"M18.56 5.44l.94 2.06.94-2.06 2.06-.94-2.06-.94-.94-2.06-.94 2.06-2.06.94zm-11 1L8.5 8.5l.94-2.06 2.06-.94-2.06-.94L8.5 2.5l-.94 2.06-2.06.94zm10 10l.94 2.06.94-2.06 2.06-.94-2.06-.94-.94-2.06-.94 2.06-2.06.94z\"/><path d=\"M17.41 7.96l-1.37-1.37c-.4-.4-.92-.59-1.43-.59-.52 0-1.04.2-1.43.59L10.3 9.45l-7.72 7.72c-.78.78-.78 2.05 0 2.83L4 21.41c.39.39.9.59 1.41.59.51 0 1.02-.2 1.41-.59l7.78-7.78 2.81-2.81c.8-.78.8-2.07 0-2.86zM5.41 20L4 18.59l7.72-7.72 1.47 1.35L5.41 20z\"/>\n",
              "  </svg>\n",
              "      </button>\n",
              "      \n",
              "  <style>\n",
              "    .colab-df-container {\n",
              "      display:flex;\n",
              "      flex-wrap:wrap;\n",
              "      gap: 12px;\n",
              "    }\n",
              "\n",
              "    .colab-df-convert {\n",
              "      background-color: #E8F0FE;\n",
              "      border: none;\n",
              "      border-radius: 50%;\n",
              "      cursor: pointer;\n",
              "      display: none;\n",
              "      fill: #1967D2;\n",
              "      height: 32px;\n",
              "      padding: 0 0 0 0;\n",
              "      width: 32px;\n",
              "    }\n",
              "\n",
              "    .colab-df-convert:hover {\n",
              "      background-color: #E2EBFA;\n",
              "      box-shadow: 0px 1px 2px rgba(60, 64, 67, 0.3), 0px 1px 3px 1px rgba(60, 64, 67, 0.15);\n",
              "      fill: #174EA6;\n",
              "    }\n",
              "\n",
              "    [theme=dark] .colab-df-convert {\n",
              "      background-color: #3B4455;\n",
              "      fill: #D2E3FC;\n",
              "    }\n",
              "\n",
              "    [theme=dark] .colab-df-convert:hover {\n",
              "      background-color: #434B5C;\n",
              "      box-shadow: 0px 1px 3px 1px rgba(0, 0, 0, 0.15);\n",
              "      filter: drop-shadow(0px 1px 2px rgba(0, 0, 0, 0.3));\n",
              "      fill: #FFFFFF;\n",
              "    }\n",
              "  </style>\n",
              "\n",
              "      <script>\n",
              "        const buttonEl =\n",
              "          document.querySelector('#df-884a9aca-4b7a-4f43-a958-0ecb9ccb88f3 button.colab-df-convert');\n",
              "        buttonEl.style.display =\n",
              "          google.colab.kernel.accessAllowed ? 'block' : 'none';\n",
              "\n",
              "        async function convertToInteractive(key) {\n",
              "          const element = document.querySelector('#df-884a9aca-4b7a-4f43-a958-0ecb9ccb88f3');\n",
              "          const dataTable =\n",
              "            await google.colab.kernel.invokeFunction('convertToInteractive',\n",
              "                                                     [key], {});\n",
              "          if (!dataTable) return;\n",
              "\n",
              "          const docLinkHtml = 'Like what you see? Visit the ' +\n",
              "            '<a target=\"_blank\" href=https://colab.research.google.com/notebooks/data_table.ipynb>data table notebook</a>'\n",
              "            + ' to learn more about interactive tables.';\n",
              "          element.innerHTML = '';\n",
              "          dataTable['output_type'] = 'display_data';\n",
              "          await google.colab.output.renderOutput(dataTable, element);\n",
              "          const docLink = document.createElement('div');\n",
              "          docLink.innerHTML = docLinkHtml;\n",
              "          element.appendChild(docLink);\n",
              "        }\n",
              "      </script>\n",
              "    </div>\n",
              "  </div>\n",
              "  "
            ],
            "text/plain": [
              "              make  engine_size  horsepower  ...  price  length curb_weight\n",
              "66   mercedes-benz          183         123  ...  28176   187.5        3495\n",
              "181     volkswagen          109          85  ...   8195   171.7        2212\n",
              "\n",
              "[2 rows x 11 columns]"
            ]
          },
          "metadata": {},
          "execution_count": 28
        }
      ]
    },
    {
      "cell_type": "code",
      "source": [
        "colunas_selecionadas[colunas_selecionadas[\"engine_size\"] == 0].head(5)"
      ],
      "metadata": {
        "colab": {
          "base_uri": "https://localhost:8080/",
          "height": 49
        },
        "id": "h_h_8CofvtCL",
        "outputId": "6ea76dbb-4ee6-4f08-f695-9fd5a9b240c8"
      },
      "execution_count": 29,
      "outputs": [
        {
          "output_type": "execute_result",
          "data": {
            "text/html": [
              "\n",
              "  <div id=\"df-e58c42c3-5171-4b10-a691-4c043c1354be\">\n",
              "    <div class=\"colab-df-container\">\n",
              "      <div>\n",
              "<style scoped>\n",
              "    .dataframe tbody tr th:only-of-type {\n",
              "        vertical-align: middle;\n",
              "    }\n",
              "\n",
              "    .dataframe tbody tr th {\n",
              "        vertical-align: top;\n",
              "    }\n",
              "\n",
              "    .dataframe thead th {\n",
              "        text-align: right;\n",
              "    }\n",
              "</style>\n",
              "<table border=\"1\" class=\"dataframe\">\n",
              "  <thead>\n",
              "    <tr style=\"text-align: right;\">\n",
              "      <th></th>\n",
              "      <th>make</th>\n",
              "      <th>engine_size</th>\n",
              "      <th>horsepower</th>\n",
              "      <th>city_mpg</th>\n",
              "      <th>highway_mpg</th>\n",
              "      <th>drive_wheels</th>\n",
              "      <th>width</th>\n",
              "      <th>height</th>\n",
              "      <th>price</th>\n",
              "      <th>length</th>\n",
              "      <th>curb_weight</th>\n",
              "    </tr>\n",
              "  </thead>\n",
              "  <tbody>\n",
              "  </tbody>\n",
              "</table>\n",
              "</div>\n",
              "      <button class=\"colab-df-convert\" onclick=\"convertToInteractive('df-e58c42c3-5171-4b10-a691-4c043c1354be')\"\n",
              "              title=\"Convert this dataframe to an interactive table.\"\n",
              "              style=\"display:none;\">\n",
              "        \n",
              "  <svg xmlns=\"http://www.w3.org/2000/svg\" height=\"24px\"viewBox=\"0 0 24 24\"\n",
              "       width=\"24px\">\n",
              "    <path d=\"M0 0h24v24H0V0z\" fill=\"none\"/>\n",
              "    <path d=\"M18.56 5.44l.94 2.06.94-2.06 2.06-.94-2.06-.94-.94-2.06-.94 2.06-2.06.94zm-11 1L8.5 8.5l.94-2.06 2.06-.94-2.06-.94L8.5 2.5l-.94 2.06-2.06.94zm10 10l.94 2.06.94-2.06 2.06-.94-2.06-.94-.94-2.06-.94 2.06-2.06.94z\"/><path d=\"M17.41 7.96l-1.37-1.37c-.4-.4-.92-.59-1.43-.59-.52 0-1.04.2-1.43.59L10.3 9.45l-7.72 7.72c-.78.78-.78 2.05 0 2.83L4 21.41c.39.39.9.59 1.41.59.51 0 1.02-.2 1.41-.59l7.78-7.78 2.81-2.81c.8-.78.8-2.07 0-2.86zM5.41 20L4 18.59l7.72-7.72 1.47 1.35L5.41 20z\"/>\n",
              "  </svg>\n",
              "      </button>\n",
              "      \n",
              "  <style>\n",
              "    .colab-df-container {\n",
              "      display:flex;\n",
              "      flex-wrap:wrap;\n",
              "      gap: 12px;\n",
              "    }\n",
              "\n",
              "    .colab-df-convert {\n",
              "      background-color: #E8F0FE;\n",
              "      border: none;\n",
              "      border-radius: 50%;\n",
              "      cursor: pointer;\n",
              "      display: none;\n",
              "      fill: #1967D2;\n",
              "      height: 32px;\n",
              "      padding: 0 0 0 0;\n",
              "      width: 32px;\n",
              "    }\n",
              "\n",
              "    .colab-df-convert:hover {\n",
              "      background-color: #E2EBFA;\n",
              "      box-shadow: 0px 1px 2px rgba(60, 64, 67, 0.3), 0px 1px 3px 1px rgba(60, 64, 67, 0.15);\n",
              "      fill: #174EA6;\n",
              "    }\n",
              "\n",
              "    [theme=dark] .colab-df-convert {\n",
              "      background-color: #3B4455;\n",
              "      fill: #D2E3FC;\n",
              "    }\n",
              "\n",
              "    [theme=dark] .colab-df-convert:hover {\n",
              "      background-color: #434B5C;\n",
              "      box-shadow: 0px 1px 3px 1px rgba(0, 0, 0, 0.15);\n",
              "      filter: drop-shadow(0px 1px 2px rgba(0, 0, 0, 0.3));\n",
              "      fill: #FFFFFF;\n",
              "    }\n",
              "  </style>\n",
              "\n",
              "      <script>\n",
              "        const buttonEl =\n",
              "          document.querySelector('#df-e58c42c3-5171-4b10-a691-4c043c1354be button.colab-df-convert');\n",
              "        buttonEl.style.display =\n",
              "          google.colab.kernel.accessAllowed ? 'block' : 'none';\n",
              "\n",
              "        async function convertToInteractive(key) {\n",
              "          const element = document.querySelector('#df-e58c42c3-5171-4b10-a691-4c043c1354be');\n",
              "          const dataTable =\n",
              "            await google.colab.kernel.invokeFunction('convertToInteractive',\n",
              "                                                     [key], {});\n",
              "          if (!dataTable) return;\n",
              "\n",
              "          const docLinkHtml = 'Like what you see? Visit the ' +\n",
              "            '<a target=\"_blank\" href=https://colab.research.google.com/notebooks/data_table.ipynb>data table notebook</a>'\n",
              "            + ' to learn more about interactive tables.';\n",
              "          element.innerHTML = '';\n",
              "          dataTable['output_type'] = 'display_data';\n",
              "          await google.colab.output.renderOutput(dataTable, element);\n",
              "          const docLink = document.createElement('div');\n",
              "          docLink.innerHTML = docLinkHtml;\n",
              "          element.appendChild(docLink);\n",
              "        }\n",
              "      </script>\n",
              "    </div>\n",
              "  </div>\n",
              "  "
            ],
            "text/plain": [
              "Empty DataFrame\n",
              "Columns: [make, engine_size, horsepower, city_mpg, highway_mpg, drive_wheels, width, height, price, length, curb_weight]\n",
              "Index: []"
            ]
          },
          "metadata": {},
          "execution_count": 29
        }
      ]
    },
    {
      "cell_type": "code",
      "source": [
        "colunas_selecionadas[colunas_selecionadas[\"curb_weight\"] == 0].head(5)"
      ],
      "metadata": {
        "colab": {
          "base_uri": "https://localhost:8080/",
          "height": 49
        },
        "id": "Sk4Kvd7xvxIF",
        "outputId": "ec6b506f-362b-4793-aa7e-1febbb94058d"
      },
      "execution_count": 30,
      "outputs": [
        {
          "output_type": "execute_result",
          "data": {
            "text/html": [
              "\n",
              "  <div id=\"df-e3578dbd-7f5e-44d8-9019-c39f5df72082\">\n",
              "    <div class=\"colab-df-container\">\n",
              "      <div>\n",
              "<style scoped>\n",
              "    .dataframe tbody tr th:only-of-type {\n",
              "        vertical-align: middle;\n",
              "    }\n",
              "\n",
              "    .dataframe tbody tr th {\n",
              "        vertical-align: top;\n",
              "    }\n",
              "\n",
              "    .dataframe thead th {\n",
              "        text-align: right;\n",
              "    }\n",
              "</style>\n",
              "<table border=\"1\" class=\"dataframe\">\n",
              "  <thead>\n",
              "    <tr style=\"text-align: right;\">\n",
              "      <th></th>\n",
              "      <th>make</th>\n",
              "      <th>engine_size</th>\n",
              "      <th>horsepower</th>\n",
              "      <th>city_mpg</th>\n",
              "      <th>highway_mpg</th>\n",
              "      <th>drive_wheels</th>\n",
              "      <th>width</th>\n",
              "      <th>height</th>\n",
              "      <th>price</th>\n",
              "      <th>length</th>\n",
              "      <th>curb_weight</th>\n",
              "    </tr>\n",
              "  </thead>\n",
              "  <tbody>\n",
              "  </tbody>\n",
              "</table>\n",
              "</div>\n",
              "      <button class=\"colab-df-convert\" onclick=\"convertToInteractive('df-e3578dbd-7f5e-44d8-9019-c39f5df72082')\"\n",
              "              title=\"Convert this dataframe to an interactive table.\"\n",
              "              style=\"display:none;\">\n",
              "        \n",
              "  <svg xmlns=\"http://www.w3.org/2000/svg\" height=\"24px\"viewBox=\"0 0 24 24\"\n",
              "       width=\"24px\">\n",
              "    <path d=\"M0 0h24v24H0V0z\" fill=\"none\"/>\n",
              "    <path d=\"M18.56 5.44l.94 2.06.94-2.06 2.06-.94-2.06-.94-.94-2.06-.94 2.06-2.06.94zm-11 1L8.5 8.5l.94-2.06 2.06-.94-2.06-.94L8.5 2.5l-.94 2.06-2.06.94zm10 10l.94 2.06.94-2.06 2.06-.94-2.06-.94-.94-2.06-.94 2.06-2.06.94z\"/><path d=\"M17.41 7.96l-1.37-1.37c-.4-.4-.92-.59-1.43-.59-.52 0-1.04.2-1.43.59L10.3 9.45l-7.72 7.72c-.78.78-.78 2.05 0 2.83L4 21.41c.39.39.9.59 1.41.59.51 0 1.02-.2 1.41-.59l7.78-7.78 2.81-2.81c.8-.78.8-2.07 0-2.86zM5.41 20L4 18.59l7.72-7.72 1.47 1.35L5.41 20z\"/>\n",
              "  </svg>\n",
              "      </button>\n",
              "      \n",
              "  <style>\n",
              "    .colab-df-container {\n",
              "      display:flex;\n",
              "      flex-wrap:wrap;\n",
              "      gap: 12px;\n",
              "    }\n",
              "\n",
              "    .colab-df-convert {\n",
              "      background-color: #E8F0FE;\n",
              "      border: none;\n",
              "      border-radius: 50%;\n",
              "      cursor: pointer;\n",
              "      display: none;\n",
              "      fill: #1967D2;\n",
              "      height: 32px;\n",
              "      padding: 0 0 0 0;\n",
              "      width: 32px;\n",
              "    }\n",
              "\n",
              "    .colab-df-convert:hover {\n",
              "      background-color: #E2EBFA;\n",
              "      box-shadow: 0px 1px 2px rgba(60, 64, 67, 0.3), 0px 1px 3px 1px rgba(60, 64, 67, 0.15);\n",
              "      fill: #174EA6;\n",
              "    }\n",
              "\n",
              "    [theme=dark] .colab-df-convert {\n",
              "      background-color: #3B4455;\n",
              "      fill: #D2E3FC;\n",
              "    }\n",
              "\n",
              "    [theme=dark] .colab-df-convert:hover {\n",
              "      background-color: #434B5C;\n",
              "      box-shadow: 0px 1px 3px 1px rgba(0, 0, 0, 0.15);\n",
              "      filter: drop-shadow(0px 1px 2px rgba(0, 0, 0, 0.3));\n",
              "      fill: #FFFFFF;\n",
              "    }\n",
              "  </style>\n",
              "\n",
              "      <script>\n",
              "        const buttonEl =\n",
              "          document.querySelector('#df-e3578dbd-7f5e-44d8-9019-c39f5df72082 button.colab-df-convert');\n",
              "        buttonEl.style.display =\n",
              "          google.colab.kernel.accessAllowed ? 'block' : 'none';\n",
              "\n",
              "        async function convertToInteractive(key) {\n",
              "          const element = document.querySelector('#df-e3578dbd-7f5e-44d8-9019-c39f5df72082');\n",
              "          const dataTable =\n",
              "            await google.colab.kernel.invokeFunction('convertToInteractive',\n",
              "                                                     [key], {});\n",
              "          if (!dataTable) return;\n",
              "\n",
              "          const docLinkHtml = 'Like what you see? Visit the ' +\n",
              "            '<a target=\"_blank\" href=https://colab.research.google.com/notebooks/data_table.ipynb>data table notebook</a>'\n",
              "            + ' to learn more about interactive tables.';\n",
              "          element.innerHTML = '';\n",
              "          dataTable['output_type'] = 'display_data';\n",
              "          await google.colab.output.renderOutput(dataTable, element);\n",
              "          const docLink = document.createElement('div');\n",
              "          docLink.innerHTML = docLinkHtml;\n",
              "          element.appendChild(docLink);\n",
              "        }\n",
              "      </script>\n",
              "    </div>\n",
              "  </div>\n",
              "  "
            ],
            "text/plain": [
              "Empty DataFrame\n",
              "Columns: [make, engine_size, horsepower, city_mpg, highway_mpg, drive_wheels, width, height, price, length, curb_weight]\n",
              "Index: []"
            ]
          },
          "metadata": {},
          "execution_count": 30
        }
      ]
    },
    {
      "cell_type": "code",
      "source": [
        "colunas_selecionadas[\"city_mpg\"]  = colunas_selecionadas[\"city_mpg\"].replace(0,np.nan)"
      ],
      "metadata": {
        "id": "8b0qSOooyJMt",
        "colab": {
          "base_uri": "https://localhost:8080/"
        },
        "outputId": "83dc5016-38b2-4726-b4bf-1f84ef350aa2"
      },
      "execution_count": 31,
      "outputs": [
        {
          "output_type": "stream",
          "name": "stderr",
          "text": [
            "/usr/local/lib/python3.7/dist-packages/ipykernel_launcher.py:1: SettingWithCopyWarning: \n",
            "A value is trying to be set on a copy of a slice from a DataFrame.\n",
            "Try using .loc[row_indexer,col_indexer] = value instead\n",
            "\n",
            "See the caveats in the documentation: https://pandas.pydata.org/pandas-docs/stable/user_guide/indexing.html#returning-a-view-versus-a-copy\n",
            "  \"\"\"Entry point for launching an IPython kernel.\n"
          ]
        }
      ]
    },
    {
      "cell_type": "code",
      "source": [
        "colunas_selecionadas[\"city_mpg\"] = colunas_selecionadas[\"city_mpg\"].replace(0,colunas_selecionadas[\"city_mpg\"].mean())"
      ],
      "metadata": {
        "colab": {
          "base_uri": "https://localhost:8080/"
        },
        "id": "HHjmIvn26GJ7",
        "outputId": "f36d05c3-b634-495d-fd0a-b9dad95e169a"
      },
      "execution_count": 32,
      "outputs": [
        {
          "output_type": "stream",
          "name": "stderr",
          "text": [
            "/usr/local/lib/python3.7/dist-packages/ipykernel_launcher.py:1: SettingWithCopyWarning: \n",
            "A value is trying to be set on a copy of a slice from a DataFrame.\n",
            "Try using .loc[row_indexer,col_indexer] = value instead\n",
            "\n",
            "See the caveats in the documentation: https://pandas.pydata.org/pandas-docs/stable/user_guide/indexing.html#returning-a-view-versus-a-copy\n",
            "  \"\"\"Entry point for launching an IPython kernel.\n"
          ]
        }
      ]
    },
    {
      "cell_type": "code",
      "source": [
        "colunas_selecionadas[colunas_selecionadas[\"city_mpg\"] == 0].head(5)"
      ],
      "metadata": {
        "colab": {
          "base_uri": "https://localhost:8080/",
          "height": 49
        },
        "id": "4Iw8MSd5Pphh",
        "outputId": "76e1d404-510f-481a-e102-3b7459ba7cfe"
      },
      "execution_count": 33,
      "outputs": [
        {
          "output_type": "execute_result",
          "data": {
            "text/html": [
              "\n",
              "  <div id=\"df-116bb496-70b2-4259-81ba-3dd318fec65c\">\n",
              "    <div class=\"colab-df-container\">\n",
              "      <div>\n",
              "<style scoped>\n",
              "    .dataframe tbody tr th:only-of-type {\n",
              "        vertical-align: middle;\n",
              "    }\n",
              "\n",
              "    .dataframe tbody tr th {\n",
              "        vertical-align: top;\n",
              "    }\n",
              "\n",
              "    .dataframe thead th {\n",
              "        text-align: right;\n",
              "    }\n",
              "</style>\n",
              "<table border=\"1\" class=\"dataframe\">\n",
              "  <thead>\n",
              "    <tr style=\"text-align: right;\">\n",
              "      <th></th>\n",
              "      <th>make</th>\n",
              "      <th>engine_size</th>\n",
              "      <th>horsepower</th>\n",
              "      <th>city_mpg</th>\n",
              "      <th>highway_mpg</th>\n",
              "      <th>drive_wheels</th>\n",
              "      <th>width</th>\n",
              "      <th>height</th>\n",
              "      <th>price</th>\n",
              "      <th>length</th>\n",
              "      <th>curb_weight</th>\n",
              "    </tr>\n",
              "  </thead>\n",
              "  <tbody>\n",
              "  </tbody>\n",
              "</table>\n",
              "</div>\n",
              "      <button class=\"colab-df-convert\" onclick=\"convertToInteractive('df-116bb496-70b2-4259-81ba-3dd318fec65c')\"\n",
              "              title=\"Convert this dataframe to an interactive table.\"\n",
              "              style=\"display:none;\">\n",
              "        \n",
              "  <svg xmlns=\"http://www.w3.org/2000/svg\" height=\"24px\"viewBox=\"0 0 24 24\"\n",
              "       width=\"24px\">\n",
              "    <path d=\"M0 0h24v24H0V0z\" fill=\"none\"/>\n",
              "    <path d=\"M18.56 5.44l.94 2.06.94-2.06 2.06-.94-2.06-.94-.94-2.06-.94 2.06-2.06.94zm-11 1L8.5 8.5l.94-2.06 2.06-.94-2.06-.94L8.5 2.5l-.94 2.06-2.06.94zm10 10l.94 2.06.94-2.06 2.06-.94-2.06-.94-.94-2.06-.94 2.06-2.06.94z\"/><path d=\"M17.41 7.96l-1.37-1.37c-.4-.4-.92-.59-1.43-.59-.52 0-1.04.2-1.43.59L10.3 9.45l-7.72 7.72c-.78.78-.78 2.05 0 2.83L4 21.41c.39.39.9.59 1.41.59.51 0 1.02-.2 1.41-.59l7.78-7.78 2.81-2.81c.8-.78.8-2.07 0-2.86zM5.41 20L4 18.59l7.72-7.72 1.47 1.35L5.41 20z\"/>\n",
              "  </svg>\n",
              "      </button>\n",
              "      \n",
              "  <style>\n",
              "    .colab-df-container {\n",
              "      display:flex;\n",
              "      flex-wrap:wrap;\n",
              "      gap: 12px;\n",
              "    }\n",
              "\n",
              "    .colab-df-convert {\n",
              "      background-color: #E8F0FE;\n",
              "      border: none;\n",
              "      border-radius: 50%;\n",
              "      cursor: pointer;\n",
              "      display: none;\n",
              "      fill: #1967D2;\n",
              "      height: 32px;\n",
              "      padding: 0 0 0 0;\n",
              "      width: 32px;\n",
              "    }\n",
              "\n",
              "    .colab-df-convert:hover {\n",
              "      background-color: #E2EBFA;\n",
              "      box-shadow: 0px 1px 2px rgba(60, 64, 67, 0.3), 0px 1px 3px 1px rgba(60, 64, 67, 0.15);\n",
              "      fill: #174EA6;\n",
              "    }\n",
              "\n",
              "    [theme=dark] .colab-df-convert {\n",
              "      background-color: #3B4455;\n",
              "      fill: #D2E3FC;\n",
              "    }\n",
              "\n",
              "    [theme=dark] .colab-df-convert:hover {\n",
              "      background-color: #434B5C;\n",
              "      box-shadow: 0px 1px 3px 1px rgba(0, 0, 0, 0.15);\n",
              "      filter: drop-shadow(0px 1px 2px rgba(0, 0, 0, 0.3));\n",
              "      fill: #FFFFFF;\n",
              "    }\n",
              "  </style>\n",
              "\n",
              "      <script>\n",
              "        const buttonEl =\n",
              "          document.querySelector('#df-116bb496-70b2-4259-81ba-3dd318fec65c button.colab-df-convert');\n",
              "        buttonEl.style.display =\n",
              "          google.colab.kernel.accessAllowed ? 'block' : 'none';\n",
              "\n",
              "        async function convertToInteractive(key) {\n",
              "          const element = document.querySelector('#df-116bb496-70b2-4259-81ba-3dd318fec65c');\n",
              "          const dataTable =\n",
              "            await google.colab.kernel.invokeFunction('convertToInteractive',\n",
              "                                                     [key], {});\n",
              "          if (!dataTable) return;\n",
              "\n",
              "          const docLinkHtml = 'Like what you see? Visit the ' +\n",
              "            '<a target=\"_blank\" href=https://colab.research.google.com/notebooks/data_table.ipynb>data table notebook</a>'\n",
              "            + ' to learn more about interactive tables.';\n",
              "          element.innerHTML = '';\n",
              "          dataTable['output_type'] = 'display_data';\n",
              "          await google.colab.output.renderOutput(dataTable, element);\n",
              "          const docLink = document.createElement('div');\n",
              "          docLink.innerHTML = docLinkHtml;\n",
              "          element.appendChild(docLink);\n",
              "        }\n",
              "      </script>\n",
              "    </div>\n",
              "  </div>\n",
              "  "
            ],
            "text/plain": [
              "Empty DataFrame\n",
              "Columns: [make, engine_size, horsepower, city_mpg, highway_mpg, drive_wheels, width, height, price, length, curb_weight]\n",
              "Index: []"
            ]
          },
          "metadata": {},
          "execution_count": 33
        }
      ]
    },
    {
      "cell_type": "markdown",
      "source": [
        "A imputação de dados pode seguir algum padrão dos demais exemplos ou pode ser simplesmente atribuído um valor. Avalie tais condições de acordo com as inspeções de dados."
      ],
      "metadata": {
        "id": "XeHYs0Ye2cyq"
      }
    },
    {
      "cell_type": "markdown",
      "source": [
        "### Análise Numérica de Outliers"
      ],
      "metadata": {
        "id": "IXnUTUIR2cyq"
      }
    },
    {
      "cell_type": "markdown",
      "source": [
        "Da análise visual de outliers realizada acima vamos utilizar uma métrica de verificação mais apropriada e objetiva afim de criar um patamar aceitável de dados não discrepantes.\n",
        "\n",
        "Neste projeto vamos considerar [o Método Turco para identificar discrepantes](http://datapigtechnologies.com/blog/index.php/highlighting-outliers-in-your-data-with-the-tukey-method/), que utiliza um __passo de limite__ que é 5 vezes (em nosso projeto) a diferença entre o terceiro (Q3) e o primeiro quartil (Q1). Deste modo, valores que sejam maiores que o Q3 + passo de limite ou menor Q2 - passo de limite sejam sinalizados como outliers.\n",
        "\n",
        "Construa uma função que receba como parâmetro de entrada um série de dados e exiba os valores discrepantes. Utilize o boilerplate abaixo para completar as instruções faltantes.\n",
        "\n",
        "*Dica: utilize a função do Numpy de percentil, np.percentile(serie, 25) para quartil 1 e np.percentile(serie, 75) para quartil 3.*"
      ],
      "metadata": {
        "id": "7wOHfUvU2cyr"
      }
    },
    {
      "cell_type": "code",
      "execution_count": 34,
      "source": [
        "def identificacao_outlier(df, column_name): \n",
        "    #print(column_name)\n",
        "    outlier_upper = np.percentile(column_name, 25)\n",
        "    outlier_lower = np.percentile(column_name, 75)\n",
        "    #IMPLEMENTAÇÃO\n",
        "    \n",
        "    print(outlier_upper + outlier_lower)"
      ],
      "outputs": [],
      "metadata": {
        "collapsed": true,
        "id": "XGL4_YGX2cyr"
      }
    },
    {
      "cell_type": "markdown",
      "source": [
        "**Pergunta:** Houve dados discrepantes localizados pela metodologia sugerida? Quais foram os atributos discretpantes e quais as hipótese de serem discrepantes? Qual foi a sua conclusão, são realmente dados que devem ser removidos ou mantidos? Justifique.\n",
        "\n",
        "**Resposta:**\n"
      ],
      "metadata": {
        "id": "AYM--zIZ2cyr"
      }
    },
    {
      "cell_type": "markdown",
      "source": [
        "\n",
        "\n",
        "\n",
        "\n",
        "\n",
        "\n",
        "\n",
        "\n",
        "\n",
        "\n",
        "\n",
        "                                                                                                                                                                                                                                                                                                                                                                                                                                                                                                                                                                                                                                                                                                                                                                                7### Mapeamento de Dados Paramétricos"
      ],
      "metadata": {
        "id": "BP78QnRr2cyt"
      }
    },
    {
      "cell_type": "markdown",
      "source": [
        "Os algoritmos de aprendizado de máquina precisam receber dados que sejam inteiramente numéricos. Dados que representam uma classificação como por exemplo um tipo de carro, como sedan ou hatchback, deve ser convertido em um valor numérico associado, como por exemplo 1 ou 2.\n",
        "\n",
        "Crie uma função que receba uma lista única e retorne um dicionário com a categoria e um código numérico crescente e incremental para posteriormente utilizarmos como mapeamento."
      ],
      "metadata": {
        "id": "kRm81OEm2cyv"
      }
    },
    {
      "cell_type": "code",
      "execution_count": 102,
      "source": [
        "#IMPLEMENTAÇÃO\n",
        "\n",
        "for indice, item in enumerate(lista):\n",
        "print(\"%s - %s\" %(indice, item))\n"
      ],
      "outputs": [],
      "metadata": {
        "collapsed": true,
        "id": "0jAxKDw_2cyw"
      }
    },
    {
      "cell_type": "code",
      "source": [
        "colunas_selecionadas_make = autom[['make']]"
      ],
      "metadata": {
        "id": "KGByUO03NWA2"
      },
      "execution_count": 176,
      "outputs": []
    },
    {
      "cell_type": "code",
      "source": [
        "colunas_selecionadas_make = colunas_selecionadas_make.drop_duplicates(['make'],keep=\"last\")"
      ],
      "metadata": {
        "id": "os7GwyjYNP5C"
      },
      "execution_count": 177,
      "outputs": []
    },
    {
      "cell_type": "code",
      "source": [
        "\n",
        "dict_make = {'alfa-romero':1,\n",
        "'audi':2,\n",
        "'bmw':3,\n",
        "'chevrolet':4,\n",
        "'dodge':5,\n",
        "'honda':6,\n",
        "'isuzu':7,\n",
        "'jaguar':8,\n",
        "'mazda':9,\n",
        "'mercedes-benz':10,\n",
        "'mercury':11,\n",
        "'mitsubishi':12,\n",
        "'nissan':13,\n",
        "'peugot':14,\n",
        "'plymouth':15,\n",
        "'porsche':16,\n",
        "'renault':17,\n",
        "'saab':18,\n",
        "'subaru':19,\n",
        "'toyota':20,\n",
        "'volkswagen':21,\n",
        "'volvo':22}"
      ],
      "metadata": {
        "id": "jTjyycrsO9qw"
      },
      "execution_count": 178,
      "outputs": []
    },
    {
      "cell_type": "code",
      "source": [
        "colunas_selecionadas[\"make\"] = colunas_selecionadas[\"make\"].map(dict_make)"
      ],
      "metadata": {
        "colab": {
          "base_uri": "https://localhost:8080/"
        },
        "id": "xIqEcG90Rdm4",
        "outputId": "14c19fe4-883d-460c-cb23-bce44e652bab"
      },
      "execution_count": 179,
      "outputs": [
        {
          "output_type": "stream",
          "name": "stderr",
          "text": [
            "/usr/local/lib/python3.7/dist-packages/ipykernel_launcher.py:1: SettingWithCopyWarning: \n",
            "A value is trying to be set on a copy of a slice from a DataFrame.\n",
            "Try using .loc[row_indexer,col_indexer] = value instead\n",
            "\n",
            "See the caveats in the documentation: https://pandas.pydata.org/pandas-docs/stable/user_guide/indexing.html#returning-a-view-versus-a-copy\n",
            "  \"\"\"Entry point for launching an IPython kernel.\n"
          ]
        }
      ]
    },
    {
      "cell_type": "code",
      "source": [
        "colunas_selecionadas"
      ],
      "metadata": {
        "colab": {
          "base_uri": "https://localhost:8080/",
          "height": 423
        },
        "id": "_Jcy7Rw5SW2F",
        "outputId": "870dee90-4ab0-4018-b55e-462ab86a52dd"
      },
      "execution_count": 180,
      "outputs": [
        {
          "output_type": "execute_result",
          "data": {
            "text/html": [
              "\n",
              "  <div id=\"df-506472f2-1735-41ee-8f9d-e63630544bf6\">\n",
              "    <div class=\"colab-df-container\">\n",
              "      <div>\n",
              "<style scoped>\n",
              "    .dataframe tbody tr th:only-of-type {\n",
              "        vertical-align: middle;\n",
              "    }\n",
              "\n",
              "    .dataframe tbody tr th {\n",
              "        vertical-align: top;\n",
              "    }\n",
              "\n",
              "    .dataframe thead th {\n",
              "        text-align: right;\n",
              "    }\n",
              "</style>\n",
              "<table border=\"1\" class=\"dataframe\">\n",
              "  <thead>\n",
              "    <tr style=\"text-align: right;\">\n",
              "      <th></th>\n",
              "      <th>make</th>\n",
              "      <th>engine_size</th>\n",
              "      <th>horsepower</th>\n",
              "      <th>city_mpg</th>\n",
              "      <th>highway_mpg</th>\n",
              "      <th>drive_wheels</th>\n",
              "      <th>width</th>\n",
              "      <th>height</th>\n",
              "      <th>price</th>\n",
              "      <th>length</th>\n",
              "      <th>curb_weight</th>\n",
              "      <th>body_style</th>\n",
              "      <th>fuel_type</th>\n",
              "    </tr>\n",
              "  </thead>\n",
              "  <tbody>\n",
              "    <tr>\n",
              "      <th>0</th>\n",
              "      <td>1</td>\n",
              "      <td>130</td>\n",
              "      <td>111</td>\n",
              "      <td>21.0</td>\n",
              "      <td>27.0</td>\n",
              "      <td>rwd</td>\n",
              "      <td>64.1</td>\n",
              "      <td>48.8</td>\n",
              "      <td>13495</td>\n",
              "      <td>168.8</td>\n",
              "      <td>2548</td>\n",
              "      <td>convertible</td>\n",
              "      <td>2</td>\n",
              "    </tr>\n",
              "    <tr>\n",
              "      <th>1</th>\n",
              "      <td>1</td>\n",
              "      <td>130</td>\n",
              "      <td>111</td>\n",
              "      <td>21.0</td>\n",
              "      <td>27.0</td>\n",
              "      <td>rwd</td>\n",
              "      <td>64.1</td>\n",
              "      <td>48.8</td>\n",
              "      <td>16500</td>\n",
              "      <td>168.8</td>\n",
              "      <td>2548</td>\n",
              "      <td>convertible</td>\n",
              "      <td>2</td>\n",
              "    </tr>\n",
              "    <tr>\n",
              "      <th>2</th>\n",
              "      <td>1</td>\n",
              "      <td>152</td>\n",
              "      <td>154</td>\n",
              "      <td>19.0</td>\n",
              "      <td>26.0</td>\n",
              "      <td>rwd</td>\n",
              "      <td>65.5</td>\n",
              "      <td>52.4</td>\n",
              "      <td>16500</td>\n",
              "      <td>171.2</td>\n",
              "      <td>2823</td>\n",
              "      <td>hatchback</td>\n",
              "      <td>2</td>\n",
              "    </tr>\n",
              "    <tr>\n",
              "      <th>3</th>\n",
              "      <td>2</td>\n",
              "      <td>109</td>\n",
              "      <td>102</td>\n",
              "      <td>24.0</td>\n",
              "      <td>30.0</td>\n",
              "      <td>fwd</td>\n",
              "      <td>66.2</td>\n",
              "      <td>54.3</td>\n",
              "      <td>13950</td>\n",
              "      <td>176.6</td>\n",
              "      <td>2337</td>\n",
              "      <td>sedan</td>\n",
              "      <td>2</td>\n",
              "    </tr>\n",
              "    <tr>\n",
              "      <th>4</th>\n",
              "      <td>2</td>\n",
              "      <td>136</td>\n",
              "      <td>115</td>\n",
              "      <td>18.0</td>\n",
              "      <td>22.0</td>\n",
              "      <td>4wd</td>\n",
              "      <td>66.4</td>\n",
              "      <td>54.3</td>\n",
              "      <td>17450</td>\n",
              "      <td>176.6</td>\n",
              "      <td>2824</td>\n",
              "      <td>sedan</td>\n",
              "      <td>2</td>\n",
              "    </tr>\n",
              "    <tr>\n",
              "      <th>...</th>\n",
              "      <td>...</td>\n",
              "      <td>...</td>\n",
              "      <td>...</td>\n",
              "      <td>...</td>\n",
              "      <td>...</td>\n",
              "      <td>...</td>\n",
              "      <td>...</td>\n",
              "      <td>...</td>\n",
              "      <td>...</td>\n",
              "      <td>...</td>\n",
              "      <td>...</td>\n",
              "      <td>...</td>\n",
              "      <td>...</td>\n",
              "    </tr>\n",
              "    <tr>\n",
              "      <th>196</th>\n",
              "      <td>22</td>\n",
              "      <td>141</td>\n",
              "      <td>114</td>\n",
              "      <td>23.0</td>\n",
              "      <td>28.0</td>\n",
              "      <td>rwd</td>\n",
              "      <td>68.9</td>\n",
              "      <td>55.5</td>\n",
              "      <td>16845</td>\n",
              "      <td>188.8</td>\n",
              "      <td>2952</td>\n",
              "      <td>sedan</td>\n",
              "      <td>2</td>\n",
              "    </tr>\n",
              "    <tr>\n",
              "      <th>197</th>\n",
              "      <td>22</td>\n",
              "      <td>141</td>\n",
              "      <td>160</td>\n",
              "      <td>19.0</td>\n",
              "      <td>25.0</td>\n",
              "      <td>rwd</td>\n",
              "      <td>68.8</td>\n",
              "      <td>55.5</td>\n",
              "      <td>19045</td>\n",
              "      <td>188.8</td>\n",
              "      <td>3049</td>\n",
              "      <td>sedan</td>\n",
              "      <td>2</td>\n",
              "    </tr>\n",
              "    <tr>\n",
              "      <th>198</th>\n",
              "      <td>22</td>\n",
              "      <td>173</td>\n",
              "      <td>134</td>\n",
              "      <td>18.0</td>\n",
              "      <td>23.0</td>\n",
              "      <td>rwd</td>\n",
              "      <td>68.9</td>\n",
              "      <td>55.5</td>\n",
              "      <td>21485</td>\n",
              "      <td>188.8</td>\n",
              "      <td>3012</td>\n",
              "      <td>sedan</td>\n",
              "      <td>2</td>\n",
              "    </tr>\n",
              "    <tr>\n",
              "      <th>199</th>\n",
              "      <td>22</td>\n",
              "      <td>145</td>\n",
              "      <td>106</td>\n",
              "      <td>26.0</td>\n",
              "      <td>27.0</td>\n",
              "      <td>rwd</td>\n",
              "      <td>68.9</td>\n",
              "      <td>55.5</td>\n",
              "      <td>22470</td>\n",
              "      <td>188.8</td>\n",
              "      <td>3217</td>\n",
              "      <td>sedan</td>\n",
              "      <td>1</td>\n",
              "    </tr>\n",
              "    <tr>\n",
              "      <th>200</th>\n",
              "      <td>22</td>\n",
              "      <td>141</td>\n",
              "      <td>114</td>\n",
              "      <td>19.0</td>\n",
              "      <td>25.0</td>\n",
              "      <td>rwd</td>\n",
              "      <td>68.9</td>\n",
              "      <td>55.5</td>\n",
              "      <td>22625</td>\n",
              "      <td>188.8</td>\n",
              "      <td>3062</td>\n",
              "      <td>sedan</td>\n",
              "      <td>2</td>\n",
              "    </tr>\n",
              "  </tbody>\n",
              "</table>\n",
              "<p>201 rows × 13 columns</p>\n",
              "</div>\n",
              "      <button class=\"colab-df-convert\" onclick=\"convertToInteractive('df-506472f2-1735-41ee-8f9d-e63630544bf6')\"\n",
              "              title=\"Convert this dataframe to an interactive table.\"\n",
              "              style=\"display:none;\">\n",
              "        \n",
              "  <svg xmlns=\"http://www.w3.org/2000/svg\" height=\"24px\"viewBox=\"0 0 24 24\"\n",
              "       width=\"24px\">\n",
              "    <path d=\"M0 0h24v24H0V0z\" fill=\"none\"/>\n",
              "    <path d=\"M18.56 5.44l.94 2.06.94-2.06 2.06-.94-2.06-.94-.94-2.06-.94 2.06-2.06.94zm-11 1L8.5 8.5l.94-2.06 2.06-.94-2.06-.94L8.5 2.5l-.94 2.06-2.06.94zm10 10l.94 2.06.94-2.06 2.06-.94-2.06-.94-.94-2.06-.94 2.06-2.06.94z\"/><path d=\"M17.41 7.96l-1.37-1.37c-.4-.4-.92-.59-1.43-.59-.52 0-1.04.2-1.43.59L10.3 9.45l-7.72 7.72c-.78.78-.78 2.05 0 2.83L4 21.41c.39.39.9.59 1.41.59.51 0 1.02-.2 1.41-.59l7.78-7.78 2.81-2.81c.8-.78.8-2.07 0-2.86zM5.41 20L4 18.59l7.72-7.72 1.47 1.35L5.41 20z\"/>\n",
              "  </svg>\n",
              "      </button>\n",
              "      \n",
              "  <style>\n",
              "    .colab-df-container {\n",
              "      display:flex;\n",
              "      flex-wrap:wrap;\n",
              "      gap: 12px;\n",
              "    }\n",
              "\n",
              "    .colab-df-convert {\n",
              "      background-color: #E8F0FE;\n",
              "      border: none;\n",
              "      border-radius: 50%;\n",
              "      cursor: pointer;\n",
              "      display: none;\n",
              "      fill: #1967D2;\n",
              "      height: 32px;\n",
              "      padding: 0 0 0 0;\n",
              "      width: 32px;\n",
              "    }\n",
              "\n",
              "    .colab-df-convert:hover {\n",
              "      background-color: #E2EBFA;\n",
              "      box-shadow: 0px 1px 2px rgba(60, 64, 67, 0.3), 0px 1px 3px 1px rgba(60, 64, 67, 0.15);\n",
              "      fill: #174EA6;\n",
              "    }\n",
              "\n",
              "    [theme=dark] .colab-df-convert {\n",
              "      background-color: #3B4455;\n",
              "      fill: #D2E3FC;\n",
              "    }\n",
              "\n",
              "    [theme=dark] .colab-df-convert:hover {\n",
              "      background-color: #434B5C;\n",
              "      box-shadow: 0px 1px 3px 1px rgba(0, 0, 0, 0.15);\n",
              "      filter: drop-shadow(0px 1px 2px rgba(0, 0, 0, 0.3));\n",
              "      fill: #FFFFFF;\n",
              "    }\n",
              "  </style>\n",
              "\n",
              "      <script>\n",
              "        const buttonEl =\n",
              "          document.querySelector('#df-506472f2-1735-41ee-8f9d-e63630544bf6 button.colab-df-convert');\n",
              "        buttonEl.style.display =\n",
              "          google.colab.kernel.accessAllowed ? 'block' : 'none';\n",
              "\n",
              "        async function convertToInteractive(key) {\n",
              "          const element = document.querySelector('#df-506472f2-1735-41ee-8f9d-e63630544bf6');\n",
              "          const dataTable =\n",
              "            await google.colab.kernel.invokeFunction('convertToInteractive',\n",
              "                                                     [key], {});\n",
              "          if (!dataTable) return;\n",
              "\n",
              "          const docLinkHtml = 'Like what you see? Visit the ' +\n",
              "            '<a target=\"_blank\" href=https://colab.research.google.com/notebooks/data_table.ipynb>data table notebook</a>'\n",
              "            + ' to learn more about interactive tables.';\n",
              "          element.innerHTML = '';\n",
              "          dataTable['output_type'] = 'display_data';\n",
              "          await google.colab.output.renderOutput(dataTable, element);\n",
              "          const docLink = document.createElement('div');\n",
              "          docLink.innerHTML = docLinkHtml;\n",
              "          element.appendChild(docLink);\n",
              "        }\n",
              "      </script>\n",
              "    </div>\n",
              "  </div>\n",
              "  "
            ],
            "text/plain": [
              "     make  engine_size  horsepower  ...  curb_weight   body_style fuel_type\n",
              "0       1          130         111  ...         2548  convertible         2\n",
              "1       1          130         111  ...         2548  convertible         2\n",
              "2       1          152         154  ...         2823    hatchback         2\n",
              "3       2          109         102  ...         2337        sedan         2\n",
              "4       2          136         115  ...         2824        sedan         2\n",
              "..    ...          ...         ...  ...          ...          ...       ...\n",
              "196    22          141         114  ...         2952        sedan         2\n",
              "197    22          141         160  ...         3049        sedan         2\n",
              "198    22          173         134  ...         3012        sedan         2\n",
              "199    22          145         106  ...         3217        sedan         1\n",
              "200    22          141         114  ...         3062        sedan         2\n",
              "\n",
              "[201 rows x 13 columns]"
            ]
          },
          "metadata": {},
          "execution_count": 180
        }
      ]
    },
    {
      "cell_type": "code",
      "source": [
        "colunas_selecionadas_body = autom[['body_style']]"
      ],
      "metadata": {
        "id": "l9dhH9ufRCy4"
      },
      "execution_count": 181,
      "outputs": []
    },
    {
      "cell_type": "code",
      "source": [
        "colunas_selecionadas_body = colunas_selecionadas_body.drop_duplicates(['body_style'],keep=\"last\")"
      ],
      "metadata": {
        "id": "neH_2bS-RC8H"
      },
      "execution_count": 182,
      "outputs": []
    },
    {
      "cell_type": "code",
      "source": [
        "colunas_selecionadas_body"
      ],
      "metadata": {
        "colab": {
          "base_uri": "https://localhost:8080/",
          "height": 206
        },
        "id": "V-QTqHwJRldM",
        "outputId": "eef44ef3-953d-4e64-8d26-a0824e52831b"
      },
      "execution_count": 183,
      "outputs": [
        {
          "output_type": "execute_result",
          "data": {
            "text/html": [
              "\n",
              "  <div id=\"df-194469e6-71f3-4c20-961b-017a698f5715\">\n",
              "    <div class=\"colab-df-container\">\n",
              "      <div>\n",
              "<style scoped>\n",
              "    .dataframe tbody tr th:only-of-type {\n",
              "        vertical-align: middle;\n",
              "    }\n",
              "\n",
              "    .dataframe tbody tr th {\n",
              "        vertical-align: top;\n",
              "    }\n",
              "\n",
              "    .dataframe thead th {\n",
              "        text-align: right;\n",
              "    }\n",
              "</style>\n",
              "<table border=\"1\" class=\"dataframe\">\n",
              "  <thead>\n",
              "    <tr style=\"text-align: right;\">\n",
              "      <th></th>\n",
              "      <th>body_style</th>\n",
              "    </tr>\n",
              "  </thead>\n",
              "  <tbody>\n",
              "    <tr>\n",
              "      <th>166</th>\n",
              "      <td>hardtop</td>\n",
              "    </tr>\n",
              "    <tr>\n",
              "      <th>185</th>\n",
              "      <td>convertible</td>\n",
              "    </tr>\n",
              "    <tr>\n",
              "      <th>186</th>\n",
              "      <td>hatchback</td>\n",
              "    </tr>\n",
              "    <tr>\n",
              "      <th>195</th>\n",
              "      <td>wagon</td>\n",
              "    </tr>\n",
              "    <tr>\n",
              "      <th>200</th>\n",
              "      <td>sedan</td>\n",
              "    </tr>\n",
              "  </tbody>\n",
              "</table>\n",
              "</div>\n",
              "      <button class=\"colab-df-convert\" onclick=\"convertToInteractive('df-194469e6-71f3-4c20-961b-017a698f5715')\"\n",
              "              title=\"Convert this dataframe to an interactive table.\"\n",
              "              style=\"display:none;\">\n",
              "        \n",
              "  <svg xmlns=\"http://www.w3.org/2000/svg\" height=\"24px\"viewBox=\"0 0 24 24\"\n",
              "       width=\"24px\">\n",
              "    <path d=\"M0 0h24v24H0V0z\" fill=\"none\"/>\n",
              "    <path d=\"M18.56 5.44l.94 2.06.94-2.06 2.06-.94-2.06-.94-.94-2.06-.94 2.06-2.06.94zm-11 1L8.5 8.5l.94-2.06 2.06-.94-2.06-.94L8.5 2.5l-.94 2.06-2.06.94zm10 10l.94 2.06.94-2.06 2.06-.94-2.06-.94-.94-2.06-.94 2.06-2.06.94z\"/><path d=\"M17.41 7.96l-1.37-1.37c-.4-.4-.92-.59-1.43-.59-.52 0-1.04.2-1.43.59L10.3 9.45l-7.72 7.72c-.78.78-.78 2.05 0 2.83L4 21.41c.39.39.9.59 1.41.59.51 0 1.02-.2 1.41-.59l7.78-7.78 2.81-2.81c.8-.78.8-2.07 0-2.86zM5.41 20L4 18.59l7.72-7.72 1.47 1.35L5.41 20z\"/>\n",
              "  </svg>\n",
              "      </button>\n",
              "      \n",
              "  <style>\n",
              "    .colab-df-container {\n",
              "      display:flex;\n",
              "      flex-wrap:wrap;\n",
              "      gap: 12px;\n",
              "    }\n",
              "\n",
              "    .colab-df-convert {\n",
              "      background-color: #E8F0FE;\n",
              "      border: none;\n",
              "      border-radius: 50%;\n",
              "      cursor: pointer;\n",
              "      display: none;\n",
              "      fill: #1967D2;\n",
              "      height: 32px;\n",
              "      padding: 0 0 0 0;\n",
              "      width: 32px;\n",
              "    }\n",
              "\n",
              "    .colab-df-convert:hover {\n",
              "      background-color: #E2EBFA;\n",
              "      box-shadow: 0px 1px 2px rgba(60, 64, 67, 0.3), 0px 1px 3px 1px rgba(60, 64, 67, 0.15);\n",
              "      fill: #174EA6;\n",
              "    }\n",
              "\n",
              "    [theme=dark] .colab-df-convert {\n",
              "      background-color: #3B4455;\n",
              "      fill: #D2E3FC;\n",
              "    }\n",
              "\n",
              "    [theme=dark] .colab-df-convert:hover {\n",
              "      background-color: #434B5C;\n",
              "      box-shadow: 0px 1px 3px 1px rgba(0, 0, 0, 0.15);\n",
              "      filter: drop-shadow(0px 1px 2px rgba(0, 0, 0, 0.3));\n",
              "      fill: #FFFFFF;\n",
              "    }\n",
              "  </style>\n",
              "\n",
              "      <script>\n",
              "        const buttonEl =\n",
              "          document.querySelector('#df-194469e6-71f3-4c20-961b-017a698f5715 button.colab-df-convert');\n",
              "        buttonEl.style.display =\n",
              "          google.colab.kernel.accessAllowed ? 'block' : 'none';\n",
              "\n",
              "        async function convertToInteractive(key) {\n",
              "          const element = document.querySelector('#df-194469e6-71f3-4c20-961b-017a698f5715');\n",
              "          const dataTable =\n",
              "            await google.colab.kernel.invokeFunction('convertToInteractive',\n",
              "                                                     [key], {});\n",
              "          if (!dataTable) return;\n",
              "\n",
              "          const docLinkHtml = 'Like what you see? Visit the ' +\n",
              "            '<a target=\"_blank\" href=https://colab.research.google.com/notebooks/data_table.ipynb>data table notebook</a>'\n",
              "            + ' to learn more about interactive tables.';\n",
              "          element.innerHTML = '';\n",
              "          dataTable['output_type'] = 'display_data';\n",
              "          await google.colab.output.renderOutput(dataTable, element);\n",
              "          const docLink = document.createElement('div');\n",
              "          docLink.innerHTML = docLinkHtml;\n",
              "          element.appendChild(docLink);\n",
              "        }\n",
              "      </script>\n",
              "    </div>\n",
              "  </div>\n",
              "  "
            ],
            "text/plain": [
              "      body_style\n",
              "166      hardtop\n",
              "185  convertible\n",
              "186    hatchback\n",
              "195        wagon\n",
              "200        sedan"
            ]
          },
          "metadata": {},
          "execution_count": 183
        }
      ]
    },
    {
      "cell_type": "code",
      "source": [
        "dict_body = {'hardtop':1,\n",
        "'convertible':2,\n",
        "'hatchback':3,\n",
        "'wagon':4,\n",
        "'sedan':5}"
      ],
      "metadata": {
        "id": "8SwUqMDpRwap"
      },
      "execution_count": 184,
      "outputs": []
    },
    {
      "cell_type": "code",
      "source": [
        "colunas_selecionadas[\"body_style\"] = colunas_selecionadas[\"body_style\"].map(dict_body)"
      ],
      "metadata": {
        "colab": {
          "base_uri": "https://localhost:8080/"
        },
        "id": "FChgdcKQRDDR",
        "outputId": "bc6de315-0bef-45aa-b08b-3c243609c176"
      },
      "execution_count": 185,
      "outputs": [
        {
          "output_type": "stream",
          "name": "stderr",
          "text": [
            "/usr/local/lib/python3.7/dist-packages/ipykernel_launcher.py:1: SettingWithCopyWarning: \n",
            "A value is trying to be set on a copy of a slice from a DataFrame.\n",
            "Try using .loc[row_indexer,col_indexer] = value instead\n",
            "\n",
            "See the caveats in the documentation: https://pandas.pydata.org/pandas-docs/stable/user_guide/indexing.html#returning-a-view-versus-a-copy\n",
            "  \"\"\"Entry point for launching an IPython kernel.\n"
          ]
        }
      ]
    },
    {
      "cell_type": "code",
      "source": [
        "colunas_selecionadas_fuel = autom[['fuel_type']]\n",
        "colunas_selecionadas_fuel = colunas_selecionadas_fuel.drop_duplicates(['fuel_type'],keep=\"last\")\n",
        "colunas_selecionadas_fuel"
      ],
      "metadata": {
        "colab": {
          "base_uri": "https://localhost:8080/",
          "height": 112
        },
        "id": "YT6c7ix5T2By",
        "outputId": "384d6279-b1ad-4c14-f3f8-b6268320f90e"
      },
      "execution_count": 172,
      "outputs": [
        {
          "output_type": "execute_result",
          "data": {
            "text/html": [
              "\n",
              "  <div id=\"df-0f1f9cb9-f764-4703-a304-e0154cac0926\">\n",
              "    <div class=\"colab-df-container\">\n",
              "      <div>\n",
              "<style scoped>\n",
              "    .dataframe tbody tr th:only-of-type {\n",
              "        vertical-align: middle;\n",
              "    }\n",
              "\n",
              "    .dataframe tbody tr th {\n",
              "        vertical-align: top;\n",
              "    }\n",
              "\n",
              "    .dataframe thead th {\n",
              "        text-align: right;\n",
              "    }\n",
              "</style>\n",
              "<table border=\"1\" class=\"dataframe\">\n",
              "  <thead>\n",
              "    <tr style=\"text-align: right;\">\n",
              "      <th></th>\n",
              "      <th>fuel_type</th>\n",
              "    </tr>\n",
              "  </thead>\n",
              "  <tbody>\n",
              "    <tr>\n",
              "      <th>199</th>\n",
              "      <td>diesel</td>\n",
              "    </tr>\n",
              "    <tr>\n",
              "      <th>200</th>\n",
              "      <td>gas</td>\n",
              "    </tr>\n",
              "  </tbody>\n",
              "</table>\n",
              "</div>\n",
              "      <button class=\"colab-df-convert\" onclick=\"convertToInteractive('df-0f1f9cb9-f764-4703-a304-e0154cac0926')\"\n",
              "              title=\"Convert this dataframe to an interactive table.\"\n",
              "              style=\"display:none;\">\n",
              "        \n",
              "  <svg xmlns=\"http://www.w3.org/2000/svg\" height=\"24px\"viewBox=\"0 0 24 24\"\n",
              "       width=\"24px\">\n",
              "    <path d=\"M0 0h24v24H0V0z\" fill=\"none\"/>\n",
              "    <path d=\"M18.56 5.44l.94 2.06.94-2.06 2.06-.94-2.06-.94-.94-2.06-.94 2.06-2.06.94zm-11 1L8.5 8.5l.94-2.06 2.06-.94-2.06-.94L8.5 2.5l-.94 2.06-2.06.94zm10 10l.94 2.06.94-2.06 2.06-.94-2.06-.94-.94-2.06-.94 2.06-2.06.94z\"/><path d=\"M17.41 7.96l-1.37-1.37c-.4-.4-.92-.59-1.43-.59-.52 0-1.04.2-1.43.59L10.3 9.45l-7.72 7.72c-.78.78-.78 2.05 0 2.83L4 21.41c.39.39.9.59 1.41.59.51 0 1.02-.2 1.41-.59l7.78-7.78 2.81-2.81c.8-.78.8-2.07 0-2.86zM5.41 20L4 18.59l7.72-7.72 1.47 1.35L5.41 20z\"/>\n",
              "  </svg>\n",
              "      </button>\n",
              "      \n",
              "  <style>\n",
              "    .colab-df-container {\n",
              "      display:flex;\n",
              "      flex-wrap:wrap;\n",
              "      gap: 12px;\n",
              "    }\n",
              "\n",
              "    .colab-df-convert {\n",
              "      background-color: #E8F0FE;\n",
              "      border: none;\n",
              "      border-radius: 50%;\n",
              "      cursor: pointer;\n",
              "      display: none;\n",
              "      fill: #1967D2;\n",
              "      height: 32px;\n",
              "      padding: 0 0 0 0;\n",
              "      width: 32px;\n",
              "    }\n",
              "\n",
              "    .colab-df-convert:hover {\n",
              "      background-color: #E2EBFA;\n",
              "      box-shadow: 0px 1px 2px rgba(60, 64, 67, 0.3), 0px 1px 3px 1px rgba(60, 64, 67, 0.15);\n",
              "      fill: #174EA6;\n",
              "    }\n",
              "\n",
              "    [theme=dark] .colab-df-convert {\n",
              "      background-color: #3B4455;\n",
              "      fill: #D2E3FC;\n",
              "    }\n",
              "\n",
              "    [theme=dark] .colab-df-convert:hover {\n",
              "      background-color: #434B5C;\n",
              "      box-shadow: 0px 1px 3px 1px rgba(0, 0, 0, 0.15);\n",
              "      filter: drop-shadow(0px 1px 2px rgba(0, 0, 0, 0.3));\n",
              "      fill: #FFFFFF;\n",
              "    }\n",
              "  </style>\n",
              "\n",
              "      <script>\n",
              "        const buttonEl =\n",
              "          document.querySelector('#df-0f1f9cb9-f764-4703-a304-e0154cac0926 button.colab-df-convert');\n",
              "        buttonEl.style.display =\n",
              "          google.colab.kernel.accessAllowed ? 'block' : 'none';\n",
              "\n",
              "        async function convertToInteractive(key) {\n",
              "          const element = document.querySelector('#df-0f1f9cb9-f764-4703-a304-e0154cac0926');\n",
              "          const dataTable =\n",
              "            await google.colab.kernel.invokeFunction('convertToInteractive',\n",
              "                                                     [key], {});\n",
              "          if (!dataTable) return;\n",
              "\n",
              "          const docLinkHtml = 'Like what you see? Visit the ' +\n",
              "            '<a target=\"_blank\" href=https://colab.research.google.com/notebooks/data_table.ipynb>data table notebook</a>'\n",
              "            + ' to learn more about interactive tables.';\n",
              "          element.innerHTML = '';\n",
              "          dataTable['output_type'] = 'display_data';\n",
              "          await google.colab.output.renderOutput(dataTable, element);\n",
              "          const docLink = document.createElement('div');\n",
              "          docLink.innerHTML = docLinkHtml;\n",
              "          element.appendChild(docLink);\n",
              "        }\n",
              "      </script>\n",
              "    </div>\n",
              "  </div>\n",
              "  "
            ],
            "text/plain": [
              "    fuel_type\n",
              "199    diesel\n",
              "200       gas"
            ]
          },
          "metadata": {},
          "execution_count": 172
        }
      ]
    },
    {
      "cell_type": "code",
      "source": [
        "dict_fuel = {'diesel':1,\n",
        "'gas':2}"
      ],
      "metadata": {
        "id": "NZTFToyvUBSx"
      },
      "execution_count": 173,
      "outputs": []
    },
    {
      "cell_type": "code",
      "source": [
        "colunas_selecionadas[\"fuel_type\"] = colunas_selecionadas[\"fuel_type\"].map(dict_fuel)"
      ],
      "metadata": {
        "colab": {
          "base_uri": "https://localhost:8080/"
        },
        "id": "6HYgc1UyUJDj",
        "outputId": "e2c53919-121e-4a48-a45b-a8c94d1f3baa"
      },
      "execution_count": 174,
      "outputs": [
        {
          "output_type": "stream",
          "name": "stderr",
          "text": [
            "/usr/local/lib/python3.7/dist-packages/ipykernel_launcher.py:1: SettingWithCopyWarning: \n",
            "A value is trying to be set on a copy of a slice from a DataFrame.\n",
            "Try using .loc[row_indexer,col_indexer] = value instead\n",
            "\n",
            "See the caveats in the documentation: https://pandas.pydata.org/pandas-docs/stable/user_guide/indexing.html#returning-a-view-versus-a-copy\n",
            "  \"\"\"Entry point for launching an IPython kernel.\n"
          ]
        }
      ]
    },
    {
      "cell_type": "code",
      "source": [
        "colunas_selecionadas_drive = autom[['drive_wheels']]\n",
        "colunas_selecionadas_drive = colunas_selecionadas_drive.drop_duplicates(['drive_wheels'],keep=\"last\")\n",
        "colunas_selecionadas_drive"
      ],
      "metadata": {
        "colab": {
          "base_uri": "https://localhost:8080/",
          "height": 143
        },
        "id": "yv6OtTL7Ufgw",
        "outputId": "cd844a87-2d44-42c7-f7be-22d696b9ee5c"
      },
      "execution_count": 187,
      "outputs": [
        {
          "output_type": "execute_result",
          "data": {
            "text/html": [
              "\n",
              "  <div id=\"df-3d5ce48b-6668-469a-b194-9f493abe70c0\">\n",
              "    <div class=\"colab-df-container\">\n",
              "      <div>\n",
              "<style scoped>\n",
              "    .dataframe tbody tr th:only-of-type {\n",
              "        vertical-align: middle;\n",
              "    }\n",
              "\n",
              "    .dataframe tbody tr th {\n",
              "        vertical-align: top;\n",
              "    }\n",
              "\n",
              "    .dataframe thead th {\n",
              "        text-align: right;\n",
              "    }\n",
              "</style>\n",
              "<table border=\"1\" class=\"dataframe\">\n",
              "  <thead>\n",
              "    <tr style=\"text-align: right;\">\n",
              "      <th></th>\n",
              "      <th>drive_wheels</th>\n",
              "    </tr>\n",
              "  </thead>\n",
              "  <tbody>\n",
              "    <tr>\n",
              "      <th>151</th>\n",
              "      <td>4wd</td>\n",
              "    </tr>\n",
              "    <tr>\n",
              "      <th>189</th>\n",
              "      <td>fwd</td>\n",
              "    </tr>\n",
              "    <tr>\n",
              "      <th>200</th>\n",
              "      <td>rwd</td>\n",
              "    </tr>\n",
              "  </tbody>\n",
              "</table>\n",
              "</div>\n",
              "      <button class=\"colab-df-convert\" onclick=\"convertToInteractive('df-3d5ce48b-6668-469a-b194-9f493abe70c0')\"\n",
              "              title=\"Convert this dataframe to an interactive table.\"\n",
              "              style=\"display:none;\">\n",
              "        \n",
              "  <svg xmlns=\"http://www.w3.org/2000/svg\" height=\"24px\"viewBox=\"0 0 24 24\"\n",
              "       width=\"24px\">\n",
              "    <path d=\"M0 0h24v24H0V0z\" fill=\"none\"/>\n",
              "    <path d=\"M18.56 5.44l.94 2.06.94-2.06 2.06-.94-2.06-.94-.94-2.06-.94 2.06-2.06.94zm-11 1L8.5 8.5l.94-2.06 2.06-.94-2.06-.94L8.5 2.5l-.94 2.06-2.06.94zm10 10l.94 2.06.94-2.06 2.06-.94-2.06-.94-.94-2.06-.94 2.06-2.06.94z\"/><path d=\"M17.41 7.96l-1.37-1.37c-.4-.4-.92-.59-1.43-.59-.52 0-1.04.2-1.43.59L10.3 9.45l-7.72 7.72c-.78.78-.78 2.05 0 2.83L4 21.41c.39.39.9.59 1.41.59.51 0 1.02-.2 1.41-.59l7.78-7.78 2.81-2.81c.8-.78.8-2.07 0-2.86zM5.41 20L4 18.59l7.72-7.72 1.47 1.35L5.41 20z\"/>\n",
              "  </svg>\n",
              "      </button>\n",
              "      \n",
              "  <style>\n",
              "    .colab-df-container {\n",
              "      display:flex;\n",
              "      flex-wrap:wrap;\n",
              "      gap: 12px;\n",
              "    }\n",
              "\n",
              "    .colab-df-convert {\n",
              "      background-color: #E8F0FE;\n",
              "      border: none;\n",
              "      border-radius: 50%;\n",
              "      cursor: pointer;\n",
              "      display: none;\n",
              "      fill: #1967D2;\n",
              "      height: 32px;\n",
              "      padding: 0 0 0 0;\n",
              "      width: 32px;\n",
              "    }\n",
              "\n",
              "    .colab-df-convert:hover {\n",
              "      background-color: #E2EBFA;\n",
              "      box-shadow: 0px 1px 2px rgba(60, 64, 67, 0.3), 0px 1px 3px 1px rgba(60, 64, 67, 0.15);\n",
              "      fill: #174EA6;\n",
              "    }\n",
              "\n",
              "    [theme=dark] .colab-df-convert {\n",
              "      background-color: #3B4455;\n",
              "      fill: #D2E3FC;\n",
              "    }\n",
              "\n",
              "    [theme=dark] .colab-df-convert:hover {\n",
              "      background-color: #434B5C;\n",
              "      box-shadow: 0px 1px 3px 1px rgba(0, 0, 0, 0.15);\n",
              "      filter: drop-shadow(0px 1px 2px rgba(0, 0, 0, 0.3));\n",
              "      fill: #FFFFFF;\n",
              "    }\n",
              "  </style>\n",
              "\n",
              "      <script>\n",
              "        const buttonEl =\n",
              "          document.querySelector('#df-3d5ce48b-6668-469a-b194-9f493abe70c0 button.colab-df-convert');\n",
              "        buttonEl.style.display =\n",
              "          google.colab.kernel.accessAllowed ? 'block' : 'none';\n",
              "\n",
              "        async function convertToInteractive(key) {\n",
              "          const element = document.querySelector('#df-3d5ce48b-6668-469a-b194-9f493abe70c0');\n",
              "          const dataTable =\n",
              "            await google.colab.kernel.invokeFunction('convertToInteractive',\n",
              "                                                     [key], {});\n",
              "          if (!dataTable) return;\n",
              "\n",
              "          const docLinkHtml = 'Like what you see? Visit the ' +\n",
              "            '<a target=\"_blank\" href=https://colab.research.google.com/notebooks/data_table.ipynb>data table notebook</a>'\n",
              "            + ' to learn more about interactive tables.';\n",
              "          element.innerHTML = '';\n",
              "          dataTable['output_type'] = 'display_data';\n",
              "          await google.colab.output.renderOutput(dataTable, element);\n",
              "          const docLink = document.createElement('div');\n",
              "          docLink.innerHTML = docLinkHtml;\n",
              "          element.appendChild(docLink);\n",
              "        }\n",
              "      </script>\n",
              "    </div>\n",
              "  </div>\n",
              "  "
            ],
            "text/plain": [
              "    drive_wheels\n",
              "151          4wd\n",
              "189          fwd\n",
              "200          rwd"
            ]
          },
          "metadata": {},
          "execution_count": 187
        }
      ]
    },
    {
      "cell_type": "code",
      "source": [
        "dict_drive = {'4wd':1,\n",
        "'fwd':2,\n",
        "'rwd':3}"
      ],
      "metadata": {
        "id": "eE8UPDcNUsvX"
      },
      "execution_count": 188,
      "outputs": []
    },
    {
      "cell_type": "code",
      "source": [
        "colunas_selecionadas[\"drive_wheels\"] = colunas_selecionadas[\"drive_wheels\"].map(dict_drive)"
      ],
      "metadata": {
        "colab": {
          "base_uri": "https://localhost:8080/"
        },
        "id": "h9FZHduBU0pM",
        "outputId": "5c1ae0a7-d9c5-412f-8cc9-c89c27ba7b69"
      },
      "execution_count": 189,
      "outputs": [
        {
          "output_type": "stream",
          "name": "stderr",
          "text": [
            "/usr/local/lib/python3.7/dist-packages/ipykernel_launcher.py:1: SettingWithCopyWarning: \n",
            "A value is trying to be set on a copy of a slice from a DataFrame.\n",
            "Try using .loc[row_indexer,col_indexer] = value instead\n",
            "\n",
            "See the caveats in the documentation: https://pandas.pydata.org/pandas-docs/stable/user_guide/indexing.html#returning-a-view-versus-a-copy\n",
            "  \"\"\"Entry point for launching an IPython kernel.\n"
          ]
        }
      ]
    },
    {
      "cell_type": "code",
      "source": [
        "colunas_selecionadas"
      ],
      "metadata": {
        "colab": {
          "base_uri": "https://localhost:8080/",
          "height": 423
        },
        "id": "CZi42UjbLLv2",
        "outputId": "5d916bb8-f77b-451e-aae3-6645c9c1e5e5"
      },
      "execution_count": 190,
      "outputs": [
        {
          "output_type": "execute_result",
          "data": {
            "text/html": [
              "\n",
              "  <div id=\"df-6a5ce7a3-725a-44bf-a8fd-42fff9a635c7\">\n",
              "    <div class=\"colab-df-container\">\n",
              "      <div>\n",
              "<style scoped>\n",
              "    .dataframe tbody tr th:only-of-type {\n",
              "        vertical-align: middle;\n",
              "    }\n",
              "\n",
              "    .dataframe tbody tr th {\n",
              "        vertical-align: top;\n",
              "    }\n",
              "\n",
              "    .dataframe thead th {\n",
              "        text-align: right;\n",
              "    }\n",
              "</style>\n",
              "<table border=\"1\" class=\"dataframe\">\n",
              "  <thead>\n",
              "    <tr style=\"text-align: right;\">\n",
              "      <th></th>\n",
              "      <th>make</th>\n",
              "      <th>engine_size</th>\n",
              "      <th>horsepower</th>\n",
              "      <th>city_mpg</th>\n",
              "      <th>highway_mpg</th>\n",
              "      <th>drive_wheels</th>\n",
              "      <th>width</th>\n",
              "      <th>height</th>\n",
              "      <th>price</th>\n",
              "      <th>length</th>\n",
              "      <th>curb_weight</th>\n",
              "      <th>body_style</th>\n",
              "      <th>fuel_type</th>\n",
              "    </tr>\n",
              "  </thead>\n",
              "  <tbody>\n",
              "    <tr>\n",
              "      <th>0</th>\n",
              "      <td>1</td>\n",
              "      <td>130</td>\n",
              "      <td>111</td>\n",
              "      <td>21.0</td>\n",
              "      <td>27.0</td>\n",
              "      <td>3</td>\n",
              "      <td>64.1</td>\n",
              "      <td>48.8</td>\n",
              "      <td>13495</td>\n",
              "      <td>168.8</td>\n",
              "      <td>2548</td>\n",
              "      <td>2</td>\n",
              "      <td>2</td>\n",
              "    </tr>\n",
              "    <tr>\n",
              "      <th>1</th>\n",
              "      <td>1</td>\n",
              "      <td>130</td>\n",
              "      <td>111</td>\n",
              "      <td>21.0</td>\n",
              "      <td>27.0</td>\n",
              "      <td>3</td>\n",
              "      <td>64.1</td>\n",
              "      <td>48.8</td>\n",
              "      <td>16500</td>\n",
              "      <td>168.8</td>\n",
              "      <td>2548</td>\n",
              "      <td>2</td>\n",
              "      <td>2</td>\n",
              "    </tr>\n",
              "    <tr>\n",
              "      <th>2</th>\n",
              "      <td>1</td>\n",
              "      <td>152</td>\n",
              "      <td>154</td>\n",
              "      <td>19.0</td>\n",
              "      <td>26.0</td>\n",
              "      <td>3</td>\n",
              "      <td>65.5</td>\n",
              "      <td>52.4</td>\n",
              "      <td>16500</td>\n",
              "      <td>171.2</td>\n",
              "      <td>2823</td>\n",
              "      <td>3</td>\n",
              "      <td>2</td>\n",
              "    </tr>\n",
              "    <tr>\n",
              "      <th>3</th>\n",
              "      <td>2</td>\n",
              "      <td>109</td>\n",
              "      <td>102</td>\n",
              "      <td>24.0</td>\n",
              "      <td>30.0</td>\n",
              "      <td>2</td>\n",
              "      <td>66.2</td>\n",
              "      <td>54.3</td>\n",
              "      <td>13950</td>\n",
              "      <td>176.6</td>\n",
              "      <td>2337</td>\n",
              "      <td>5</td>\n",
              "      <td>2</td>\n",
              "    </tr>\n",
              "    <tr>\n",
              "      <th>4</th>\n",
              "      <td>2</td>\n",
              "      <td>136</td>\n",
              "      <td>115</td>\n",
              "      <td>18.0</td>\n",
              "      <td>22.0</td>\n",
              "      <td>1</td>\n",
              "      <td>66.4</td>\n",
              "      <td>54.3</td>\n",
              "      <td>17450</td>\n",
              "      <td>176.6</td>\n",
              "      <td>2824</td>\n",
              "      <td>5</td>\n",
              "      <td>2</td>\n",
              "    </tr>\n",
              "    <tr>\n",
              "      <th>...</th>\n",
              "      <td>...</td>\n",
              "      <td>...</td>\n",
              "      <td>...</td>\n",
              "      <td>...</td>\n",
              "      <td>...</td>\n",
              "      <td>...</td>\n",
              "      <td>...</td>\n",
              "      <td>...</td>\n",
              "      <td>...</td>\n",
              "      <td>...</td>\n",
              "      <td>...</td>\n",
              "      <td>...</td>\n",
              "      <td>...</td>\n",
              "    </tr>\n",
              "    <tr>\n",
              "      <th>196</th>\n",
              "      <td>22</td>\n",
              "      <td>141</td>\n",
              "      <td>114</td>\n",
              "      <td>23.0</td>\n",
              "      <td>28.0</td>\n",
              "      <td>3</td>\n",
              "      <td>68.9</td>\n",
              "      <td>55.5</td>\n",
              "      <td>16845</td>\n",
              "      <td>188.8</td>\n",
              "      <td>2952</td>\n",
              "      <td>5</td>\n",
              "      <td>2</td>\n",
              "    </tr>\n",
              "    <tr>\n",
              "      <th>197</th>\n",
              "      <td>22</td>\n",
              "      <td>141</td>\n",
              "      <td>160</td>\n",
              "      <td>19.0</td>\n",
              "      <td>25.0</td>\n",
              "      <td>3</td>\n",
              "      <td>68.8</td>\n",
              "      <td>55.5</td>\n",
              "      <td>19045</td>\n",
              "      <td>188.8</td>\n",
              "      <td>3049</td>\n",
              "      <td>5</td>\n",
              "      <td>2</td>\n",
              "    </tr>\n",
              "    <tr>\n",
              "      <th>198</th>\n",
              "      <td>22</td>\n",
              "      <td>173</td>\n",
              "      <td>134</td>\n",
              "      <td>18.0</td>\n",
              "      <td>23.0</td>\n",
              "      <td>3</td>\n",
              "      <td>68.9</td>\n",
              "      <td>55.5</td>\n",
              "      <td>21485</td>\n",
              "      <td>188.8</td>\n",
              "      <td>3012</td>\n",
              "      <td>5</td>\n",
              "      <td>2</td>\n",
              "    </tr>\n",
              "    <tr>\n",
              "      <th>199</th>\n",
              "      <td>22</td>\n",
              "      <td>145</td>\n",
              "      <td>106</td>\n",
              "      <td>26.0</td>\n",
              "      <td>27.0</td>\n",
              "      <td>3</td>\n",
              "      <td>68.9</td>\n",
              "      <td>55.5</td>\n",
              "      <td>22470</td>\n",
              "      <td>188.8</td>\n",
              "      <td>3217</td>\n",
              "      <td>5</td>\n",
              "      <td>1</td>\n",
              "    </tr>\n",
              "    <tr>\n",
              "      <th>200</th>\n",
              "      <td>22</td>\n",
              "      <td>141</td>\n",
              "      <td>114</td>\n",
              "      <td>19.0</td>\n",
              "      <td>25.0</td>\n",
              "      <td>3</td>\n",
              "      <td>68.9</td>\n",
              "      <td>55.5</td>\n",
              "      <td>22625</td>\n",
              "      <td>188.8</td>\n",
              "      <td>3062</td>\n",
              "      <td>5</td>\n",
              "      <td>2</td>\n",
              "    </tr>\n",
              "  </tbody>\n",
              "</table>\n",
              "<p>201 rows × 13 columns</p>\n",
              "</div>\n",
              "      <button class=\"colab-df-convert\" onclick=\"convertToInteractive('df-6a5ce7a3-725a-44bf-a8fd-42fff9a635c7')\"\n",
              "              title=\"Convert this dataframe to an interactive table.\"\n",
              "              style=\"display:none;\">\n",
              "        \n",
              "  <svg xmlns=\"http://www.w3.org/2000/svg\" height=\"24px\"viewBox=\"0 0 24 24\"\n",
              "       width=\"24px\">\n",
              "    <path d=\"M0 0h24v24H0V0z\" fill=\"none\"/>\n",
              "    <path d=\"M18.56 5.44l.94 2.06.94-2.06 2.06-.94-2.06-.94-.94-2.06-.94 2.06-2.06.94zm-11 1L8.5 8.5l.94-2.06 2.06-.94-2.06-.94L8.5 2.5l-.94 2.06-2.06.94zm10 10l.94 2.06.94-2.06 2.06-.94-2.06-.94-.94-2.06-.94 2.06-2.06.94z\"/><path d=\"M17.41 7.96l-1.37-1.37c-.4-.4-.92-.59-1.43-.59-.52 0-1.04.2-1.43.59L10.3 9.45l-7.72 7.72c-.78.78-.78 2.05 0 2.83L4 21.41c.39.39.9.59 1.41.59.51 0 1.02-.2 1.41-.59l7.78-7.78 2.81-2.81c.8-.78.8-2.07 0-2.86zM5.41 20L4 18.59l7.72-7.72 1.47 1.35L5.41 20z\"/>\n",
              "  </svg>\n",
              "      </button>\n",
              "      \n",
              "  <style>\n",
              "    .colab-df-container {\n",
              "      display:flex;\n",
              "      flex-wrap:wrap;\n",
              "      gap: 12px;\n",
              "    }\n",
              "\n",
              "    .colab-df-convert {\n",
              "      background-color: #E8F0FE;\n",
              "      border: none;\n",
              "      border-radius: 50%;\n",
              "      cursor: pointer;\n",
              "      display: none;\n",
              "      fill: #1967D2;\n",
              "      height: 32px;\n",
              "      padding: 0 0 0 0;\n",
              "      width: 32px;\n",
              "    }\n",
              "\n",
              "    .colab-df-convert:hover {\n",
              "      background-color: #E2EBFA;\n",
              "      box-shadow: 0px 1px 2px rgba(60, 64, 67, 0.3), 0px 1px 3px 1px rgba(60, 64, 67, 0.15);\n",
              "      fill: #174EA6;\n",
              "    }\n",
              "\n",
              "    [theme=dark] .colab-df-convert {\n",
              "      background-color: #3B4455;\n",
              "      fill: #D2E3FC;\n",
              "    }\n",
              "\n",
              "    [theme=dark] .colab-df-convert:hover {\n",
              "      background-color: #434B5C;\n",
              "      box-shadow: 0px 1px 3px 1px rgba(0, 0, 0, 0.15);\n",
              "      filter: drop-shadow(0px 1px 2px rgba(0, 0, 0, 0.3));\n",
              "      fill: #FFFFFF;\n",
              "    }\n",
              "  </style>\n",
              "\n",
              "      <script>\n",
              "        const buttonEl =\n",
              "          document.querySelector('#df-6a5ce7a3-725a-44bf-a8fd-42fff9a635c7 button.colab-df-convert');\n",
              "        buttonEl.style.display =\n",
              "          google.colab.kernel.accessAllowed ? 'block' : 'none';\n",
              "\n",
              "        async function convertToInteractive(key) {\n",
              "          const element = document.querySelector('#df-6a5ce7a3-725a-44bf-a8fd-42fff9a635c7');\n",
              "          const dataTable =\n",
              "            await google.colab.kernel.invokeFunction('convertToInteractive',\n",
              "                                                     [key], {});\n",
              "          if (!dataTable) return;\n",
              "\n",
              "          const docLinkHtml = 'Like what you see? Visit the ' +\n",
              "            '<a target=\"_blank\" href=https://colab.research.google.com/notebooks/data_table.ipynb>data table notebook</a>'\n",
              "            + ' to learn more about interactive tables.';\n",
              "          element.innerHTML = '';\n",
              "          dataTable['output_type'] = 'display_data';\n",
              "          await google.colab.output.renderOutput(dataTable, element);\n",
              "          const docLink = document.createElement('div');\n",
              "          docLink.innerHTML = docLinkHtml;\n",
              "          element.appendChild(docLink);\n",
              "        }\n",
              "      </script>\n",
              "    </div>\n",
              "  </div>\n",
              "  "
            ],
            "text/plain": [
              "     make  engine_size  horsepower  ...  curb_weight  body_style  fuel_type\n",
              "0       1          130         111  ...         2548           2          2\n",
              "1       1          130         111  ...         2548           2          2\n",
              "2       1          152         154  ...         2823           3          2\n",
              "3       2          109         102  ...         2337           5          2\n",
              "4       2          136         115  ...         2824           5          2\n",
              "..    ...          ...         ...  ...          ...         ...        ...\n",
              "196    22          141         114  ...         2952           5          2\n",
              "197    22          141         160  ...         3049           5          2\n",
              "198    22          173         134  ...         3012           5          2\n",
              "199    22          145         106  ...         3217           5          1\n",
              "200    22          141         114  ...         3062           5          2\n",
              "\n",
              "[201 rows x 13 columns]"
            ]
          },
          "metadata": {},
          "execution_count": 190
        }
      ]
    },
    {
      "cell_type": "markdown",
      "source": [
        "Com a funcão criada, crie dicionários para cada coluna paramétrica. Lembre-se que é necessário passar somente valores únicos.\n",
        "\n",
        "*Dica: utilize a função unique() do dataframe para obter valores únicos de uma determinada série (ou coluna).*"
      ],
      "metadata": {
        "id": "zLxUBOJl2cyw"
      }
    },
    {
      "cell_type": "code",
      "execution_count": 39,
      "source": [
        "# IMPLEMENTAÇÃO \n",
        "\n"
      ],
      "outputs": [],
      "metadata": {
        "collapsed": true,
        "id": "azXl-GmZ2cyw"
      }
    },
    {
      "cell_type": "markdown",
      "source": [
        "Até este momento seu conjunto de dados não deve conter nenhum dado paramétrico. Todos os dados armazenados com valores como texto, por exemplo, \"diese\", \"gas\" deve estar preenchido com valores numéricos, como 1 ou 2.\n",
        "\n",
        "Inspecione seus dados e certifique de que tudo está certo.\n",
        "\n",
        "*Dica: utilize uma inspeção simples visual, com 20 amostras.*"
      ],
      "metadata": {
        "id": "AlGR_D9l2cyy"
      }
    },
    {
      "cell_type": "code",
      "execution_count": 193,
      "source": [
        "#IMPLEMENTAÇÃO\n",
        "\n",
        "colunas_selecionadas.info()"
      ],
      "outputs": [
        {
          "output_type": "stream",
          "name": "stdout",
          "text": [
            "<class 'pandas.core.frame.DataFrame'>\n",
            "RangeIndex: 201 entries, 0 to 200\n",
            "Data columns (total 13 columns):\n",
            " #   Column        Non-Null Count  Dtype  \n",
            "---  ------        --------------  -----  \n",
            " 0   make          201 non-null    int64  \n",
            " 1   engine_size   201 non-null    int64  \n",
            " 2   horsepower    201 non-null    int64  \n",
            " 3   city_mpg      200 non-null    float64\n",
            " 4   highway_mpg   200 non-null    float64\n",
            " 5   drive_wheels  201 non-null    int64  \n",
            " 6   width         201 non-null    float64\n",
            " 7   height        201 non-null    float64\n",
            " 8   price         201 non-null    int64  \n",
            " 9   length        201 non-null    float64\n",
            " 10  curb_weight   201 non-null    int64  \n",
            " 11  body_style    201 non-null    int64  \n",
            " 12  fuel_type     201 non-null    int64  \n",
            "dtypes: float64(5), int64(8)\n",
            "memory usage: 20.5 KB\n"
          ]
        }
      ],
      "metadata": {
        "collapsed": true,
        "id": "v2xO6EkY2cyy",
        "colab": {
          "base_uri": "https://localhost:8080/"
        },
        "outputId": "a0abdb75-7c77-4dcd-cde3-8bdffefa0002"
      }
    },
    {
      "cell_type": "markdown",
      "source": [
        "## Desenvolvimento do Modelo"
      ],
      "metadata": {
        "id": "TszcdVd-2cyz"
      }
    },
    {
      "cell_type": "markdown",
      "source": [
        "O conjunto de dados que temos a nossa disposição indica a aplicação de um modelo voltado a regressão, ou seja, queremos prever um preço de um veículo dada certas condições. É um problema típico de predição de série numérica.\n",
        "\n",
        "Podemos aplicar quaisquer algoritmos de regressão existente que tenha aplicação de classificação, pois é de um domínio diferente.\n",
        "\n",
        "Iremos explorar 3 modelos de algoritmos de regressão para testar a performance de cada um deles. Ao final será eleito o que apresentar melhor performance de pontuação R2.\n",
        "\n",
        "Os algoritmos são:\n",
        "\n",
        "1. [Regressão Linear](http://scikit-learn.org/stable/auto_examples/linear_model/plot_ols.html)\n",
        "2. [Regressão de Árvore de Decisão](http://scikit-learn.org/stable/modules/generated/sklearn.tree.DecisionTreeRegressor.html)\n",
        "3. [Regressão Ridge](http://scikit-learn.org/stable/modules/linear_model.html#ridge-regression)"
      ],
      "metadata": {
        "id": "ISBbbSkC2cyz"
      }
    },
    {
      "cell_type": "markdown",
      "source": [
        "**Pergunta:** Explique como cada modelo de regressão funciona, indicando pelo menos um caso de uso em cada um deles.\n",
        "\n",
        "**Resposta:**"
      ],
      "metadata": {
        "id": "_7xBTzeE2cyz"
      }
    },
    {
      "cell_type": "markdown",
      "source": [
        "Antes de partimos para o treinamento do modelo, precisaremos separar os dados em subconjuntos para permitir avaliar adequadamente o modelo.\n",
        "\n",
        "Uma boa razão de tamanho de conjunto de treinamento e testes é 80% e 20% ou ainda, 70% e 30%. O importante é não misturar dados de treinamento com os de teste para termos uma ideia melhor sobre a performance do modelo com dados previametne não treinados.\n",
        "\n",
        "Antes de separarmos os dados, a partir das análises realizadas anteriormente, quais seriam os atributos a serem utilizados e por qual motivo. Informe também qual seria o atributo preditor?"
      ],
      "metadata": {
        "collapsed": true,
        "id": "bLRKCrd22cyz"
      }
    },
    {
      "cell_type": "code",
      "execution_count": 41,
      "source": [
        "#IMPLEMENTAÇÃO\n",
        "\n"
      ],
      "outputs": [],
      "metadata": {
        "collapsed": true,
        "id": "ls4FNnHj2cyz"
      }
    },
    {
      "cell_type": "markdown",
      "source": [
        "Crie subsets de treinamento e teste utilizado uma razão adequada de tamanho.\n",
        "Utilze o ```train_test_split``` passando como parâmetros"
      ],
      "metadata": {
        "id": "1XzsaAZ92cyz"
      }
    },
    {
      "cell_type": "code",
      "execution_count": 194,
      "source": [
        "from sklearn.model_selection import train_test_split\n",
        "\n",
        "#IMPLEMENTAÇÃO\n",
        "\n",
        "feature_col_names = ['curb_weight','engine_size','horsepower']\n",
        "predicted_class_names = ['price']\n",
        "\n",
        "X = colunas_selecionadas[feature_col_names].values\n",
        "y = colunas_selecionadas[predicted_class_names].values\n",
        "split_test_size = 0.30\n",
        "\n",
        "X_train, X_test, y_train, y_test = train_test_split(X, y, test_size=split_test_size, random_state=42)\n"
      ],
      "outputs": [],
      "metadata": {
        "collapsed": true,
        "id": "ehK-0-iJ2cy0"
      }
    },
    {
      "cell_type": "markdown",
      "source": [
        "Inspecione cada subconjunto de dados obtidos do ```train_test_split```. Note que nos conjuntos X devemos ter atributos, logo é esperado uma matriz com mais de uma coluna. Nos conjuntos y, é a classe de predição, logo é esperado apenas um atributo."
      ],
      "metadata": {
        "id": "m-_12DGj2cy0"
      }
    },
    {
      "cell_type": "code",
      "execution_count": 199,
      "source": [
        "#IMPLEMENTAÇÃO\n",
        "#Inspeção de X_train\n",
        "X_train"
      ],
      "outputs": [
        {
          "output_type": "execute_result",
          "data": {
            "text/plain": [
              "array([[2302,  120,   97],\n",
              "       [1837,   79,   60],\n",
              "       [2765,  164,  121],\n",
              "       [2024,   92,   76],\n",
              "       [2191,   98,   68],\n",
              "       [2337,  111,   78],\n",
              "       [2912,  141,  114],\n",
              "       [2024,   97,   69],\n",
              "       [2240,  108,   73],\n",
              "       [1950,   91,   68],\n",
              "       [2460,  132,   90],\n",
              "       [2300,   98,  112],\n",
              "       [2293,  110,  100],\n",
              "       [1989,   90,   68],\n",
              "       [3252,  152,   95],\n",
              "       [2191,   98,  102],\n",
              "       [2340,  108,   94],\n",
              "       [3060,  181,  152],\n",
              "       [3485,  152,   95],\n",
              "       [2823,  152,  154],\n",
              "       [2370,  110,  116],\n",
              "       [3950,  326,  262],\n",
              "       [3045,  130,  162],\n",
              "       [2935,  141,  114],\n",
              "       [2403,  110,  116],\n",
              "       [2265,   98,  112],\n",
              "       [2236,  110,   86],\n",
              "       [3034,  141,  114],\n",
              "       [2425,  122,   84],\n",
              "       [2128,   98,  102],\n",
              "       [2510,  108,  111],\n",
              "       [3071,  181,  160],\n",
              "       [1956,   92,   76],\n",
              "       [2710,  164,  121],\n",
              "       [3157,  130,  162],\n",
              "       [2169,   98,   70],\n",
              "       [2844,  136,  110],\n",
              "       [2535,  122,   88],\n",
              "       [2535,  122,   88],\n",
              "       [2824,  136,  115],\n",
              "       [1940,   92,   76],\n",
              "       [2290,  108,   82],\n",
              "       [2650,  108,  111],\n",
              "       [3252,  152,   95],\n",
              "       [2420,  108,   82],\n",
              "       [2395,  108,  101],\n",
              "       [2670,  140,  120],\n",
              "       [3075,  120,   97],\n",
              "       [1985,   92,   62],\n",
              "       [2679,  146,  116],\n",
              "       [2548,  130,  111],\n",
              "       [2264,   97,   52],\n",
              "       [2109,   98,   70],\n",
              "       [3900,  308,  184],\n",
              "       [2756,  194,  207],\n",
              "       [3515,  183,  123],\n",
              "       [4066,  258,  176],\n",
              "       [2540,  146,  116],\n",
              "       [2811,  156,  145],\n",
              "       [2465,  110,  101],\n",
              "       [3075,  120,   95],\n",
              "       [2275,  110,   56],\n",
              "       [2094,   98,   70],\n",
              "       [1989,   90,   68],\n",
              "       [1967,   90,   68],\n",
              "       [2254,  109,   90],\n",
              "       [2040,   92,   62],\n",
              "       [2926,  156,  145],\n",
              "       [2372,  110,   86],\n",
              "       [2975,  146,  116],\n",
              "       [1890,   91,   68],\n",
              "       [2037,   97,   69],\n",
              "       [2275,  110,   56],\n",
              "       [2734,  119,   90],\n",
              "       [2190,  108,   82],\n",
              "       [2337,  109,  102],\n",
              "       [3197,  152,   95],\n",
              "       [2380,   70,  101],\n",
              "       [2847,  121,  160],\n",
              "       [2212,  109,   85],\n",
              "       [3217,  145,  106],\n",
              "       [2221,  109,   90],\n",
              "       [1905,   91,   68],\n",
              "       [2921,  156,  145],\n",
              "       [2010,   92,   76],\n",
              "       [2954,  136,  110],\n",
              "       [3285,  120,   95],\n",
              "       [1951,   97,   69],\n",
              "       [2405,  122,   88],\n",
              "       [3151,  161,  156],\n",
              "       [2275,  109,   85],\n",
              "       [1938,   97,   69],\n",
              "       [3086,  131,  140],\n",
              "       [3055,  164,  121],\n",
              "       [2410,  122,   84],\n",
              "       [2414,  122,   92],\n",
              "       [2758,  121,  110],\n",
              "       [1488,   61,   48],\n",
              "       [2910,  140,  175],\n",
              "       [3131,  171,  156],\n",
              "       [2050,   97,   69],\n",
              "       [2714,  146,  116],\n",
              "       [2300,  109,  100],\n",
              "       [2700,  134,   72],\n",
              "       [2385,   70,  101],\n",
              "       [3430,  152,   95],\n",
              "       [1945,   91,   68],\n",
              "       [3049,  141,  160],\n",
              "       [2326,  122,   92],\n",
              "       [2385,  122,   84],\n",
              "       [1900,   91,   68],\n",
              "       [1918,   97,   69],\n",
              "       [1876,   90,   68],\n",
              "       [2410,  122,   84],\n",
              "       [2204,   98,   70],\n",
              "       [3042,  141,  114],\n",
              "       [2695,  121,  110],\n",
              "       [2289,  110,   86],\n",
              "       [2122,   98,   70],\n",
              "       [2563,  109,   88],\n",
              "       [2548,  130,  111],\n",
              "       [2380,   70,  101],\n",
              "       [2280,   92,   62],\n",
              "       [2707,  121,  110],\n",
              "       [3110,   92,   62],\n",
              "       [3139,  181,  160],\n",
              "       [3296,  181,  152],\n",
              "       [2128,   98,  102],\n",
              "       [2017,  103,   55],\n",
              "       [1944,   92,   68],\n",
              "       [2818,  156,  145],\n",
              "       [3062,  141,  114],\n",
              "       [1876,   90,   68],\n",
              "       [2579,   97,   68],\n",
              "       [3715,  304,  184],\n",
              "       [3230,  120,   97],\n",
              "       [3230,  209,  182],\n",
              "       [2028,   97,   69],\n",
              "       [2209,  109,   85],\n",
              "       [3139,  181,  200]])"
            ]
          },
          "metadata": {},
          "execution_count": 199
        }
      ],
      "metadata": {
        "collapsed": true,
        "id": "AnrO7VWP2cy0",
        "colab": {
          "base_uri": "https://localhost:8080/"
        },
        "outputId": "7ad79dc5-6098-48b6-a0bc-0c1017220b9f"
      }
    },
    {
      "cell_type": "code",
      "execution_count": 201,
      "source": [
        "#IMPLEMENTAÇÃO\n",
        "#Inspeção de Y_train\n",
        "\n",
        "y_train"
      ],
      "outputs": [
        {
          "output_type": "execute_result",
          "data": {
            "text/plain": [
              "array([[ 9549],\n",
              "       [ 5399],\n",
              "       [21105],\n",
              "       [ 7295],\n",
              "       [ 7609],\n",
              "       [ 6785],\n",
              "       [12940],\n",
              "       [ 7349],\n",
              "       [ 7603],\n",
              "       [ 7395],\n",
              "       [ 9895],\n",
              "       [ 9538],\n",
              "       [10345],\n",
              "       [ 6692],\n",
              "       [17950],\n",
              "       [ 8558],\n",
              "       [ 9960],\n",
              "       [13499],\n",
              "       [17075],\n",
              "       [16500],\n",
              "       [ 9959],\n",
              "       [36000],\n",
              "       [18420],\n",
              "       [15985],\n",
              "       [ 9279],\n",
              "       [ 9298],\n",
              "       [ 7895],\n",
              "       [13415],\n",
              "       [11245],\n",
              "       [ 7957],\n",
              "       [11259],\n",
              "       [17199],\n",
              "       [ 7129],\n",
              "       [20970],\n",
              "       [18950],\n",
              "       [ 8058],\n",
              "       [17710],\n",
              "       [ 8921],\n",
              "       [ 8921],\n",
              "       [17450],\n",
              "       [ 6529],\n",
              "       [ 7463],\n",
              "       [11694],\n",
              "       [16900],\n",
              "       [ 8013],\n",
              "       [16925],\n",
              "       [18280],\n",
              "       [16630],\n",
              "       [ 5348],\n",
              "       [11199],\n",
              "       [13495],\n",
              "       [ 7995],\n",
              "       [ 7198],\n",
              "       [40960],\n",
              "       [32528],\n",
              "       [25552],\n",
              "       [32250],\n",
              "       [ 8449],\n",
              "       [12964],\n",
              "       [12945],\n",
              "       [15580],\n",
              "       [ 7788],\n",
              "       [ 7738],\n",
              "       [ 7609],\n",
              "       [ 6229],\n",
              "       [11595],\n",
              "       [ 6338],\n",
              "       [14489],\n",
              "       [10295],\n",
              "       [17669],\n",
              "       [ 5195],\n",
              "       [ 7999],\n",
              "       [ 7898],\n",
              "       [11048],\n",
              "       [ 7775],\n",
              "       [13950],\n",
              "       [13200],\n",
              "       [11845],\n",
              "       [18620],\n",
              "       [ 8195],\n",
              "       [22470],\n",
              "       [ 9980],\n",
              "       [ 6795],\n",
              "       [14869],\n",
              "       [ 7295],\n",
              "       [18920],\n",
              "       [16695],\n",
              "       [ 7299],\n",
              "       [ 8189],\n",
              "       [15750],\n",
              "       [ 8495],\n",
              "       [ 6849],\n",
              "       [23875],\n",
              "       [24565],\n",
              "       [10245],\n",
              "       [10898],\n",
              "       [15510],\n",
              "       [ 5151],\n",
              "       [16503],\n",
              "       [15690],\n",
              "       [ 5118],\n",
              "       [11549],\n",
              "       [ 9995],\n",
              "       [18344],\n",
              "       [13645],\n",
              "       [13860],\n",
              "       [ 6695],\n",
              "       [19045],\n",
              "       [ 8948],\n",
              "       [10595],\n",
              "       [ 6095],\n",
              "       [ 6649],\n",
              "       [ 6377],\n",
              "       [ 8495],\n",
              "       [ 8238],\n",
              "       [16515],\n",
              "       [12170],\n",
              "       [ 9095],\n",
              "       [ 8358],\n",
              "       [12290],\n",
              "       [16500],\n",
              "       [10945],\n",
              "       [ 6918],\n",
              "       [15040],\n",
              "       [ 8778],\n",
              "       [18399],\n",
              "       [14399],\n",
              "       [ 7957],\n",
              "       [ 7099],\n",
              "       [ 6189],\n",
              "       [12764],\n",
              "       [22625],\n",
              "       [ 5572],\n",
              "       [13845],\n",
              "       [45400],\n",
              "       [12440],\n",
              "       [30760],\n",
              "       [ 7799],\n",
              "       [ 7975],\n",
              "       [19699]])"
            ]
          },
          "metadata": {},
          "execution_count": 201
        }
      ],
      "metadata": {
        "collapsed": true,
        "id": "4aotryXc2cy0",
        "colab": {
          "base_uri": "https://localhost:8080/"
        },
        "outputId": "26e7e90d-01de-4f96-f400-cd5845f5832c"
      }
    },
    {
      "cell_type": "markdown",
      "source": [
        "Verifique também se a razão dos conjuntos está coerente com a divisão estabelecida. Para estes cálculos divia o número de itens do conjunto de treino pelo total e também o de testes pelo total."
      ],
      "metadata": {
        "id": "pGbV--YV2cy0"
      }
    },
    {
      "cell_type": "code",
      "execution_count": 202,
      "source": [
        "#IMPLEMENTAÇÃO\n",
        "print(\"{0:0.2f}% in training set\".format((len(X_train)/len(colunas_selecionadas.index)) * 100))\n",
        "print(\"{0:0.2f}% in test set\".format((len(X_test)/len(colunas_selecionadas.index)) * 100))\n"
      ],
      "outputs": [
        {
          "output_type": "stream",
          "name": "stdout",
          "text": [
            "69.65% in training set\n",
            "30.35% in test set\n"
          ]
        }
      ],
      "metadata": {
        "collapsed": true,
        "id": "DxDSdjfU2cy1",
        "colab": {
          "base_uri": "https://localhost:8080/"
        },
        "outputId": "6861ebc3-d2a2-4a8a-eecc-d44c3656013f"
      }
    },
    {
      "cell_type": "markdown",
      "source": [
        "## Treinamento e teste do modelo\n",
        "\n",
        "Após separarmos os dados adequadamente, selecionar os atributos que irão compor como o modelo deve treinar e qual atributo deve perseguir, o próximo passo é treinar este modelo e verificar, pelos testes, sua performance.\n",
        "\n",
        "Este estudo também irá levar a escolhermos qual algoritmo devemos utilizar dentre os três selecionados neste ajuste.\n",
        "\n",
        "Para avaliarmos a performance dos modelos, vamos criar uma função que determinará a pontuação R2.\n",
        "\n",
        "Não esqueça de avaliar os conjuntos de dados de treino (```X_train```, ```y_train``` e de teste, ```X_test``` e ```y_test```)"
      ],
      "metadata": {
        "id": "F7kCV3i72cy1"
      }
    },
    {
      "cell_type": "code",
      "execution_count": 203,
      "source": [
        "from sklearn.metrics import mean_squared_error, r2_score\n",
        "\n",
        "def pontuacao(modelo, X_test, y_test):\n",
        "    y_pred = modelo.predict(X_test)\n",
        "    print(\"%s R2 score: %.2f\" %(modelo,r2_score(y_test, y_pred)))"
      ],
      "outputs": [],
      "metadata": {
        "collapsed": true,
        "id": "jHq7XOSu2cy5"
      }
    },
    {
      "cell_type": "markdown",
      "source": [
        "### Regressão Linear\n",
        "\n",
        "Utilize para a variável preditora a função ```.ravel()``` para converter os dados no formato que o ```sklearn``` espera."
      ],
      "metadata": {
        "id": "v4eM8FvP2cy6"
      }
    },
    {
      "cell_type": "code",
      "execution_count": 253,
      "source": [
        "from sklearn import linear_model\n",
        "\n",
        "lr_model = linear_model.LinearRegression()\n",
        "lr_model.fit(X_train, y_train.ravel())\n",
        "\n",
        "ls_model = linear_model.LinearRegression()\n",
        "ls_model.fit(X_test, y_test.ravel())\n",
        "\n",
        "#IMPLEMENTAÇÃO\n",
        "\n"
      ],
      "outputs": [
        {
          "output_type": "execute_result",
          "data": {
            "text/plain": [
              "LinearRegression()"
            ]
          },
          "metadata": {},
          "execution_count": 253
        }
      ],
      "metadata": {
        "collapsed": true,
        "id": "fI74BiJO2cy8",
        "colab": {
          "base_uri": "https://localhost:8080/"
        },
        "outputId": "4f80693f-279b-4261-fd54-59dccdc0d60b"
      }
    },
    {
      "cell_type": "markdown",
      "source": [
        "Obténha a pontuação R2, utilizando a função ```pontuacao``` para os conjuntos de treino e de teste."
      ],
      "metadata": {
        "id": "adKS2gNm2cy8"
      }
    },
    {
      "cell_type": "code",
      "execution_count": 258,
      "source": [
        "#IMPLEMENTAÇÃO\n",
        "from sklearn.metrics import mean_squared_error, r2_score\n",
        "\n",
        "y_pred = lr_model.predict(X_test)\n",
        "\n",
        "print(\"The model training score is\" , lr_model.score(X_train,y_train))\n",
        "print(\"The model test score is\" , ls_model.score(X_test,y_test))\n"
      ],
      "outputs": [
        {
          "output_type": "stream",
          "name": "stdout",
          "text": [
            "The model training score is 0.8120387387135994\n",
            "The model test score is 0.8434710510149317\n"
          ]
        }
      ],
      "metadata": {
        "collapsed": true,
        "id": "2yseD6l72cy8",
        "colab": {
          "base_uri": "https://localhost:8080/"
        },
        "outputId": "1721a3ef-dad5-45b2-d49e-a52f8e9f0d63"
      }
    },
    {
      "cell_type": "markdown",
      "source": [
        "### Regressão de árvore de Decisão"
      ],
      "metadata": {
        "id": "zFkIr_a12cy9"
      }
    },
    {
      "cell_type": "code",
      "execution_count": 259,
      "source": [
        "from sklearn import tree\n",
        "\n",
        "dtr_model = tree.DecisionTreeRegressor(max_depth=6).fit(X_train,y_train)\n",
        "dtst_model = tree.DecisionTreeRegressor(max_depth=6).fit(X_test,y_test)\n",
        "#IMPLEMENTAÇÃO\n",
        "\n"
      ],
      "outputs": [],
      "metadata": {
        "collapsed": true,
        "id": "4AbAzZO52cy9"
      }
    },
    {
      "cell_type": "markdown",
      "source": [
        "Obténha a pontuação R2, utilizando a função ```pontuacao``` para os conjuntos de treino e de teste."
      ],
      "metadata": {
        "id": "eGO8WKDX2cy9"
      }
    },
    {
      "cell_type": "code",
      "execution_count": 261,
      "source": [
        "#IMPLEMENTAÇÃO\n",
        "print(\"The model training score is\" , dtr_model.score(X_train,y_train))\n",
        "print(\"The model test score is\" , dtst_model.score(X_test,y_test))\n"
      ],
      "outputs": [
        {
          "output_type": "stream",
          "name": "stdout",
          "text": [
            "The model training score is 0.9676342332216791\n",
            "The model test score is 0.9953864365558804\n"
          ]
        }
      ],
      "metadata": {
        "collapsed": true,
        "id": "4T7-GcsR2cy9",
        "colab": {
          "base_uri": "https://localhost:8080/"
        },
        "outputId": "eb4cfcf3-4e2a-4d23-fccd-f5764554e9cf"
      }
    },
    {
      "cell_type": "markdown",
      "source": [
        "### Regressão Ridge"
      ],
      "metadata": {
        "id": "IPx_coDk2cy_"
      }
    },
    {
      "cell_type": "code",
      "execution_count": 262,
      "source": [
        "lrr_model = linear_model.Ridge().fit(X_train,y_train)\n",
        "lts_model = linear_model.Ridge().fit(X_test,y_test)\n",
        "#IMPLEMENTAÇÃO\n",
        "\n"
      ],
      "outputs": [],
      "metadata": {
        "collapsed": true,
        "id": "xlVpL8gf2cy_"
      }
    },
    {
      "cell_type": "markdown",
      "source": [
        "Obténha a pontuação R2, utilizando a função ```pontuacao``` para os conjuntos de treino e de teste."
      ],
      "metadata": {
        "id": "8Jp4j6lB2czA"
      }
    },
    {
      "cell_type": "code",
      "execution_count": 263,
      "source": [
        "#IMPLEMENTAÇÃO\n",
        "print(\"The model training score is\" , lrr_model.score(X_train,y_train))\n",
        "print(\"The model test score is\" , lts_model.score(X_test,y_test))\n"
      ],
      "outputs": [
        {
          "output_type": "stream",
          "name": "stdout",
          "text": [
            "The model training score is 0.8120387387008707\n",
            "The model test score is 0.843471050935448\n"
          ]
        }
      ],
      "metadata": {
        "collapsed": true,
        "id": "69G-FEEL2czA",
        "colab": {
          "base_uri": "https://localhost:8080/"
        },
        "outputId": "bcd3a749-a51f-4b28-c5c2-37a761693812"
      }
    },
    {
      "cell_type": "markdown",
      "source": [
        "**Pergunta:** Nesta análise preliminar, como foi a performance de cada algoritmo? Explique os resultados e detalhe como a característica de cada algoritmo influenciou no resultado.\n",
        "\n",
        "**Resposta:**"
      ],
      "metadata": {
        "id": "dSvXIPSu2czA"
      }
    },
    {
      "cell_type": "markdown",
      "source": [
        "## Validação e Otimização do Modelo\n",
        "\n",
        "Cada algoritmo de modelo pode oferecer a possibilidade de ajustes de seus parâmetros. Tais ajustes podem contribuir para melhorar ou piorar o modelo, portanto esta fase de otimização e validação é importante entender o patamar de partida, com os valores padrões obtidos nos passos anteriores versus as otimizações.\n",
        "\n",
        "É comum que as otimizações não sejam capazes de alterar os patamares padrão.\n",
        "\n",
        "O Scikit Learn oferece uma forma simplificada de testar diversas condições de parâmetros diferentes por meio do ```GridSearchCV```. Após diversos testes é apresentado os parâmetros que obtiveram os melhores resultados."
      ],
      "metadata": {
        "id": "c4hPGycf2czA"
      }
    },
    {
      "cell_type": "markdown",
      "source": [
        "### Regulação dos parâmetros dos modelos\n",
        "\n",
        "Analise os parâmetros possíveis de cada algortimo de regressão e crie um dicionário para ser utilizado no ```GridSearchCV```.\n",
        "O dicionário é composto pelo nome do parâmetro como chave. Seu valor será uma lista de valores que se deseja otimizar. Não deixe de revisar a [documentação](http://scikit-learn.org/stable/modules/generated/sklearn.model_selection.GridSearchCV.html)\n",
        "\n",
        "Verfique a pontuação R2 para os conjuntos de dados de treino e de teste, pois nem sempre preditores que se saem bem durante o treinamento terão a mesma performance com os dados de teste."
      ],
      "metadata": {
        "id": "HsTO64uZ2czA"
      }
    },
    {
      "cell_type": "markdown",
      "source": [
        "### Regulação do Modelo de Regressão Linear\n",
        "\n",
        "Escolha quais atributos incluir na variável ```parameters```para serem otimizados. Essa variável é um dicionário onde cada chave representa uma configuração do modelo, o valor pode ser único ou uma lista, neste caso utilize ```[]``` para incluir múltiplos valores. Como nosso problema é relacionado a regressão, utilize a pontuação R2 em ```scoring``` na configuração do ```GridSearchCV```. "
      ],
      "metadata": {
        "id": "_npz4RjL2czA"
      }
    },
    {
      "cell_type": "code",
      "execution_count": 273,
      "source": [
        "from sklearn.model_selection import GridSearchCV\n",
        "        \n",
        "parameters = {}\n",
        "opt_model_lr = GridSearchCV(lrr_model, parameters, scoring='r2')\n",
        "\n",
        "\n",
        "opt_model_lr.fit(X_train, y_train.ravel())\n",
        "\n"
      ],
      "outputs": [
        {
          "output_type": "execute_result",
          "data": {
            "text/plain": [
              "GridSearchCV(estimator=Ridge(), param_grid={}, scoring='r2')"
            ]
          },
          "metadata": {},
          "execution_count": 273
        }
      ],
      "metadata": {
        "collapsed": true,
        "id": "DCN4QMZJ2czB",
        "colab": {
          "base_uri": "https://localhost:8080/"
        },
        "outputId": "9e493962-7ec1-4edd-dae3-761a35df4cee"
      }
    },
    {
      "cell_type": "code",
      "source": [
        "parameters = {}\n",
        "opt_model_ls = GridSearchCV(lts_model, parameters, scoring='r2')\n",
        "\n",
        "\n",
        "opt_model_ls.fit(X_test, y_test.ravel())"
      ],
      "metadata": {
        "colab": {
          "base_uri": "https://localhost:8080/"
        },
        "id": "4VTF9GIKn4AG",
        "outputId": "80897703-42d5-4a69-d7f6-2b1e2b3de361"
      },
      "execution_count": 275,
      "outputs": [
        {
          "output_type": "execute_result",
          "data": {
            "text/plain": [
              "GridSearchCV(estimator=Ridge(), param_grid={}, scoring='r2')"
            ]
          },
          "metadata": {},
          "execution_count": 275
        }
      ]
    },
    {
      "cell_type": "markdown",
      "source": [
        "Calcule as pontuações para o melhor estimador com dados de treino."
      ],
      "metadata": {
        "id": "IwHs6KK12czB"
      }
    },
    {
      "cell_type": "code",
      "execution_count": 277,
      "source": [
        "opt_model_lr.score(X_train, y_train.ravel()), opt_model_lr.best_estimator_"
      ],
      "outputs": [
        {
          "output_type": "execute_result",
          "data": {
            "text/plain": [
              "(0.8120387387008707, Ridge())"
            ]
          },
          "metadata": {},
          "execution_count": 277
        }
      ],
      "metadata": {
        "collapsed": true,
        "id": "QQZ2zPfn2czB",
        "colab": {
          "base_uri": "https://localhost:8080/"
        },
        "outputId": "dd0de49a-8683-45f3-8115-f395298025ee"
      }
    },
    {
      "cell_type": "markdown",
      "source": [
        "E também para os dados de testes."
      ],
      "metadata": {
        "id": "QqPt9UV12czB"
      }
    },
    {
      "cell_type": "code",
      "execution_count": 276,
      "source": [
        "opt_model_ls.score(X_test, y_test.ravel()), opt_model_lr.best_estimator_"
      ],
      "outputs": [
        {
          "output_type": "execute_result",
          "data": {
            "text/plain": [
              "(0.843471050935448, Ridge())"
            ]
          },
          "metadata": {},
          "execution_count": 276
        }
      ],
      "metadata": {
        "collapsed": true,
        "id": "nE3PXdAT2czB",
        "colab": {
          "base_uri": "https://localhost:8080/"
        },
        "outputId": "273528dc-3b7e-4bf0-c523-e741dbb82f0d"
      }
    },
    {
      "cell_type": "markdown",
      "source": [
        "### Regulação do Modelo de Regressão de Árvore de Decisão"
      ],
      "metadata": {
        "id": "9GTSq6Ft2czB"
      }
    },
    {
      "cell_type": "code",
      "execution_count": 282,
      "source": [
        "parameters = {}\n",
        "opt_model_dtr = GridSearchCV(dtr_model, parameters, scoring='r2')\n",
        "opt_model_dtr.fit(X_train, y_train.ravel())\n",
        "\n",
        "parameters = {}\n",
        "opt_model_dtst = GridSearchCV(dtst_model, parameters, scoring='r2')\n",
        "opt_model_dtst.fit(X_test, y_test.ravel())"
      ],
      "outputs": [
        {
          "output_type": "execute_result",
          "data": {
            "text/plain": [
              "GridSearchCV(estimator=DecisionTreeRegressor(max_depth=6), param_grid={},\n",
              "             scoring='r2')"
            ]
          },
          "metadata": {},
          "execution_count": 282
        }
      ],
      "metadata": {
        "collapsed": true,
        "id": "xC5Q3nwt2czB",
        "colab": {
          "base_uri": "https://localhost:8080/"
        },
        "outputId": "60e598aa-92b5-4b3e-a51f-26329806ada0"
      }
    },
    {
      "cell_type": "markdown",
      "source": [
        "Pontuação dos dados de treino."
      ],
      "metadata": {
        "id": "7dHNx_LQ2czC"
      }
    },
    {
      "cell_type": "code",
      "execution_count": 283,
      "source": [
        "#IMPLEMENTAÇÃO\n",
        "\n",
        "print(\"The model training score is\" , opt_model_dtr.score(X_train,y_train))\n"
      ],
      "outputs": [
        {
          "output_type": "stream",
          "name": "stdout",
          "text": [
            "The model training score is 0.9676342332216791\n"
          ]
        }
      ],
      "metadata": {
        "collapsed": true,
        "id": "rtT0zyIu2czC",
        "colab": {
          "base_uri": "https://localhost:8080/"
        },
        "outputId": "7b8becf4-4301-4a04-c5e2-2f91d2ac97f8"
      }
    },
    {
      "cell_type": "markdown",
      "source": [
        "Pontuação dos dados de teste."
      ],
      "metadata": {
        "id": "y9gZ9sWN2czC"
      }
    },
    {
      "cell_type": "code",
      "execution_count": 284,
      "source": [
        "# IMPLEMENTAÇÃO\n",
        "\n",
        "print(\"The model test score is\" , opt_model_dtst.score(X_test, y_test))"
      ],
      "outputs": [
        {
          "output_type": "stream",
          "name": "stdout",
          "text": [
            "The model test score is 0.9953864365558804\n"
          ]
        }
      ],
      "metadata": {
        "collapsed": true,
        "id": "nWYheXV52czC",
        "colab": {
          "base_uri": "https://localhost:8080/"
        },
        "outputId": "da9f6372-c5a4-49b4-c14d-5fffdbfbd77f"
      }
    },
    {
      "cell_type": "markdown",
      "source": [
        "### Regulação do Modelo de Regressão Ridge"
      ],
      "metadata": {
        "id": "0C1ObHKY2czC"
      }
    },
    {
      "cell_type": "code",
      "execution_count": 285,
      "source": [
        "parameters = {}\n",
        "\n",
        "opt_model_lrr = GridSearchCV(lrr_model, parameters, scoring='r2')\n",
        "opt_model_lrr.fit(X_train, y_train.ravel())\n",
        "\n",
        "parameters = {}\n",
        "opt_model_lts = GridSearchCV(lts_model, parameters, scoring='r2')\n",
        "opt_model_lts.fit(X_test, y_test.ravel())\n"
      ],
      "outputs": [
        {
          "output_type": "execute_result",
          "data": {
            "text/plain": [
              "GridSearchCV(estimator=Ridge(), param_grid={}, scoring='r2')"
            ]
          },
          "metadata": {},
          "execution_count": 285
        }
      ],
      "metadata": {
        "collapsed": true,
        "id": "BkkHHeqh2czC",
        "colab": {
          "base_uri": "https://localhost:8080/"
        },
        "outputId": "7300d396-bcde-42ce-b9d8-e130dd7a0752"
      }
    },
    {
      "cell_type": "markdown",
      "source": [
        "Pontuação dos dados de treino."
      ],
      "metadata": {
        "id": "8KhoCnRx2czD"
      }
    },
    {
      "cell_type": "code",
      "execution_count": 286,
      "source": [
        "#IMPLEMENTAÇÃO\n",
        "\n",
        "print(\"The model training score is\" , opt_model_lrr.score(X_train,y_train))"
      ],
      "outputs": [
        {
          "output_type": "stream",
          "name": "stdout",
          "text": [
            "The model training score is 0.8120387387008707\n"
          ]
        }
      ],
      "metadata": {
        "collapsed": true,
        "id": "vkxBK7ZM2czD",
        "colab": {
          "base_uri": "https://localhost:8080/"
        },
        "outputId": "4606b276-192e-420d-8a58-fe778cb62b44"
      }
    },
    {
      "cell_type": "markdown",
      "source": [
        "Pontuação dos dados de teste."
      ],
      "metadata": {
        "id": "SlrgCF0h2czD"
      }
    },
    {
      "cell_type": "code",
      "execution_count": 287,
      "source": [
        "#IMPLEMENTAÇÃO\n",
        "\n",
        "print(\"The model test score is\" , opt_model_lts.score(X_test, y_test))"
      ],
      "outputs": [
        {
          "output_type": "stream",
          "name": "stdout",
          "text": [
            "The model test score is 0.843471050935448\n"
          ]
        }
      ],
      "metadata": {
        "collapsed": true,
        "id": "MRwoHyrt2czD",
        "colab": {
          "base_uri": "https://localhost:8080/"
        },
        "outputId": "5dd0716e-1ede-43ea-df68-7d1cfce04ec2"
      }
    },
    {
      "cell_type": "markdown",
      "source": [
        "Sumarize na tabela abaixo os indicadores para cada um dos preditores e suas respectivas pontuações para os conjuntos de dados de treino e de testes"
      ],
      "metadata": {
        "id": "JqcYRbxu2czD"
      }
    },
    {
      "cell_type": "markdown",
      "source": [
        "|                     | Regressão linear | Regressão árvore de decisão | Regressão ridge |\n",
        "|:---------------------|:------------------:|:-----------------------------:|:-----------------:|\n",
        "| R2 treino |      81,20%           |      96,76%                       |   81,20%              |\n",
        "| R2 teste  |      84,34%            |      99,53%                       |   84,34%              |\n"
      ],
      "metadata": {
        "id": "hg3Aalmf2czD"
      }
    },
    {
      "cell_type": "markdown",
      "source": [
        "**Pergunta:** Qual dos algoritmos de regressão obteve os melhores resultados? Quais caracaterísticas deste algoritmo podem ajudar a justificar tal resultado?\n",
        "\n",
        "**Resposta:**"
      ],
      "metadata": {
        "id": "XihdAfqj2czD"
      }
    },
    {
      "cell_type": "markdown",
      "source": [
        "### Implementação do algoritmo otimizado\n",
        "\n",
        "Configure o classificador selecionado com os parâmetros otimizados obtidos anteriormente."
      ],
      "metadata": {
        "id": "lrg4sxgP2czE"
      }
    },
    {
      "cell_type": "code",
      "execution_count": 300,
      "source": [
        "#IMPLEMENTAÇÃO\n",
        "\n",
        "import joblib\n",
        "\n",
        "joblib.dump(dtr_model, 'models/lr_model.pkl') "
      ],
      "outputs": [
        {
          "output_type": "error",
          "ename": "FileNotFoundError",
          "evalue": "ignored",
          "traceback": [
            "\u001b[0;31m---------------------------------------------------------------------------\u001b[0m",
            "\u001b[0;31mFileNotFoundError\u001b[0m                         Traceback (most recent call last)",
            "\u001b[0;32m<ipython-input-300-81ba258769ad>\u001b[0m in \u001b[0;36m<module>\u001b[0;34m()\u001b[0m\n\u001b[1;32m      3\u001b[0m \u001b[0;32mimport\u001b[0m \u001b[0mjoblib\u001b[0m\u001b[0;34m\u001b[0m\u001b[0;34m\u001b[0m\u001b[0m\n\u001b[1;32m      4\u001b[0m \u001b[0;34m\u001b[0m\u001b[0m\n\u001b[0;32m----> 5\u001b[0;31m \u001b[0mjoblib\u001b[0m\u001b[0;34m.\u001b[0m\u001b[0mdump\u001b[0m\u001b[0;34m(\u001b[0m\u001b[0mdtr_model\u001b[0m\u001b[0;34m,\u001b[0m \u001b[0;34m'models/lr_model.pkl'\u001b[0m\u001b[0;34m)\u001b[0m\u001b[0;34m\u001b[0m\u001b[0;34m\u001b[0m\u001b[0m\n\u001b[0m",
            "\u001b[0;32m/usr/local/lib/python3.7/dist-packages/joblib/numpy_pickle.py\u001b[0m in \u001b[0;36mdump\u001b[0;34m(value, filename, compress, protocol, cache_size)\u001b[0m\n\u001b[1;32m    479\u001b[0m             \u001b[0mNumpyPickler\u001b[0m\u001b[0;34m(\u001b[0m\u001b[0mf\u001b[0m\u001b[0;34m,\u001b[0m \u001b[0mprotocol\u001b[0m\u001b[0;34m=\u001b[0m\u001b[0mprotocol\u001b[0m\u001b[0;34m)\u001b[0m\u001b[0;34m.\u001b[0m\u001b[0mdump\u001b[0m\u001b[0;34m(\u001b[0m\u001b[0mvalue\u001b[0m\u001b[0;34m)\u001b[0m\u001b[0;34m\u001b[0m\u001b[0;34m\u001b[0m\u001b[0m\n\u001b[1;32m    480\u001b[0m     \u001b[0;32melif\u001b[0m \u001b[0mis_filename\u001b[0m\u001b[0;34m:\u001b[0m\u001b[0;34m\u001b[0m\u001b[0;34m\u001b[0m\u001b[0m\n\u001b[0;32m--> 481\u001b[0;31m         \u001b[0;32mwith\u001b[0m \u001b[0mopen\u001b[0m\u001b[0;34m(\u001b[0m\u001b[0mfilename\u001b[0m\u001b[0;34m,\u001b[0m \u001b[0;34m'wb'\u001b[0m\u001b[0;34m)\u001b[0m \u001b[0;32mas\u001b[0m \u001b[0mf\u001b[0m\u001b[0;34m:\u001b[0m\u001b[0;34m\u001b[0m\u001b[0;34m\u001b[0m\u001b[0m\n\u001b[0m\u001b[1;32m    482\u001b[0m             \u001b[0mNumpyPickler\u001b[0m\u001b[0;34m(\u001b[0m\u001b[0mf\u001b[0m\u001b[0;34m,\u001b[0m \u001b[0mprotocol\u001b[0m\u001b[0;34m=\u001b[0m\u001b[0mprotocol\u001b[0m\u001b[0;34m)\u001b[0m\u001b[0;34m.\u001b[0m\u001b[0mdump\u001b[0m\u001b[0;34m(\u001b[0m\u001b[0mvalue\u001b[0m\u001b[0;34m)\u001b[0m\u001b[0;34m\u001b[0m\u001b[0;34m\u001b[0m\u001b[0m\n\u001b[1;32m    483\u001b[0m     \u001b[0;32melse\u001b[0m\u001b[0;34m:\u001b[0m\u001b[0;34m\u001b[0m\u001b[0;34m\u001b[0m\u001b[0m\n",
            "\u001b[0;31mFileNotFoundError\u001b[0m: [Errno 2] No such file or directory: 'models/lr_model.pkl'"
          ]
        }
      ],
      "metadata": {
        "collapsed": true,
        "id": "Sc3b909d2czE",
        "colab": {
          "base_uri": "https://localhost:8080/",
          "height": 322
        },
        "outputId": "87df4500-182b-440e-b33a-d8cfbfbbc044"
      }
    },
    {
      "cell_type": "markdown",
      "source": [
        "### Teste com exemplos\n",
        "\n",
        "Utilize 3 exemplos criados por você mesmo para obter um valor de venda de veículo. Escolha caracaterísticas que demonstrem como o regressor deveria se comportar. Para tanto, imagine exemplos dos quais você espera um valor baixo, mediano e alto do preço do veículo baseado nos atributos escolhidos"
      ],
      "metadata": {
        "id": "ULANChMH2czE"
      }
    },
    {
      "cell_type": "code",
      "execution_count": null,
      "source": [
        "#Lembre-se que os atributos são os armazenados na lista feature_col_names\n",
        "\n",
        "feature_col_names"
      ],
      "outputs": [],
      "metadata": {
        "collapsed": true,
        "id": "rXH3AuRV2czE"
      }
    },
    {
      "cell_type": "code",
      "execution_count": null,
      "source": [
        "#IMPLEMENTAÇÃO\n",
        "#A entrada de dados deve ser uma matriz do seguinte formato, note que há dois colchetes pois é uma \n",
        "#matriz dentro de outra matriz [[a,b,c,d,e]]\n",
        "\n",
        "test_example_1 = [[]]\n",
        "test_example_2 = [[]]\n",
        "test_example_3 = [[]]\n"
      ],
      "outputs": [],
      "metadata": {
        "collapsed": true,
        "id": "vh-AU8Ej2czF"
      }
    },
    {
      "cell_type": "markdown",
      "source": [
        "Caso eu classificador esteja com comportamento muito enviesado (_overfitting_) reveja a escolha dos atributos selecionados e repita a otimização até que os valores de predição deste exemplo estejam coerentes."
      ],
      "metadata": {
        "id": "WNLdPI_x2czF"
      }
    },
    {
      "cell_type": "markdown",
      "source": [
        "## Conclusões finais\n",
        "\n",
        "Este projeto apresentou de forma simplifcada o __Worflow de Machine Learning__ que pode servir como base para estudos relacionados a classificação ou predição de séries numéricas.\n",
        "\n",
        "A fase de preparação, evidenciada no projeto, é uma das mais importantes da qual se precisa investir um bom tempo para dar os dados organizados e confiáveis, pois é a forma como os classificadores irão aprender com os exemplos e tentarão desvencilhar de efeitos indesejáveis como os vieses.\n",
        "\n",
        "Regressores são um tipo de algoritmo de machine learning que pode ser aplicado em diversas áreas das quais é necessário predizer um número baseado em um conjunto de dados numéricos ou série numérica, logo sua aplicação é bem ampla."
      ],
      "metadata": {
        "id": "cMzVdz6I2czF"
      }
    },
    {
      "cell_type": "markdown",
      "source": [
        "**Pergunta:** Seu modelo conseguiu prever adequadamente novos dados a partir do treinamento dos dados de teste? O que você faria diferente?\n",
        "\n",
        "**Resposta:**"
      ],
      "metadata": {
        "id": "maLad-QO2czF"
      }
    },
    {
      "cell_type": "markdown",
      "source": [
        "**Pergunta:**: Em que outras áreas você poderia aplicar estes tipos de algoritmos de regressão de aprendizado de máquina? Exemplifique para todos os algoritmos apresentados neste estudo.\n",
        "\n",
        "**Resposta**:"
      ],
      "metadata": {
        "id": "x3OOo0JW2czH"
      }
    },
    {
      "cell_type": "code",
      "execution_count": null,
      "source": [
        ""
      ],
      "outputs": [],
      "metadata": {
        "collapsed": true,
        "id": "WQtZw3JB2czH"
      }
    }
  ],
  "metadata": {
    "kernelspec": {
      "display_name": "Python 3",
      "language": "python",
      "name": "python3"
    },
    "language_info": {
      "codemirror_mode": {
        "name": "ipython",
        "version": 3
      },
      "file_extension": ".py",
      "mimetype": "text/x-python",
      "name": "python",
      "nbconvert_exporter": "python",
      "pygments_lexer": "ipython3",
      "version": "3.6.5"
    },
    "colab": {
      "name": "Cópia de automobile-price-prediction-colab.ipynb",
      "provenance": [],
      "include_colab_link": true
    }
  },
  "nbformat": 4,
  "nbformat_minor": 0
}